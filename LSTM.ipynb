{
  "nbformat": 4,
  "nbformat_minor": 0,
  "metadata": {
    "colab": {
      "name": "LSTM.ipynb",
      "provenance": [],
      "authorship_tag": "ABX9TyPYp0TNFrFRleGEla88tkOQ",
      "include_colab_link": true
    },
    "kernelspec": {
      "name": "python3",
      "display_name": "Python 3"
    }
  },
  "cells": [
    {
      "cell_type": "markdown",
      "metadata": {
        "id": "view-in-github",
        "colab_type": "text"
      },
      "source": [
        "<a href=\"https://colab.research.google.com/github/lizmosquera/InteligenciaComputacional/blob/master/LSTM.ipynb\" target=\"_parent\"><img src=\"https://colab.research.google.com/assets/colab-badge.svg\" alt=\"Open In Colab\"/></a>"
      ]
    },
    {
      "cell_type": "code",
      "metadata": {
        "id": "CCm8YZ7gEIqg",
        "colab_type": "code",
        "colab": {
          "base_uri": "https://localhost:8080/",
          "height": 51
        },
        "outputId": "27199ba2-4561-438b-ff56-da39fa8e83b4"
      },
      "source": [
        "!pip install tf_nightly-2.0-preview"
      ],
      "execution_count": 1,
      "outputs": [
        {
          "output_type": "stream",
          "text": [
            "\u001b[31mERROR: Could not find a version that satisfies the requirement tf_nightly-2.0-preview (from versions: none)\u001b[0m\n",
            "\u001b[31mERROR: No matching distribution found for tf_nightly-2.0-preview\u001b[0m\n"
          ],
          "name": "stdout"
        }
      ]
    },
    {
      "cell_type": "code",
      "metadata": {
        "id": "hs2DeY8bEN51",
        "colab_type": "code",
        "colab": {
          "base_uri": "https://localhost:8080/",
          "height": 34
        },
        "outputId": "c7bf9c0a-f23b-4511-d4fe-2281f92bb846"
      },
      "source": [
        "import tensorflow as tf\n",
        "import numpy as np\n",
        "import matplotlib.pyplot as plt\n",
        "print (tf.__version__)"
      ],
      "execution_count": 2,
      "outputs": [
        {
          "output_type": "stream",
          "text": [
            "2.2.0-rc3\n"
          ],
          "name": "stdout"
        }
      ]
    },
    {
      "cell_type": "code",
      "metadata": {
        "id": "VYJS2bfyEN9l",
        "colab_type": "code",
        "colab": {}
      },
      "source": [
        "def plot_series(time,series,format=\"-\",start=0,end=None):\n",
        "  plt.plot(time[start:end],series[start:end],format)\n",
        "  plt.xlabel(\"Time\")\n",
        "  plt.ylabel(\"Value\")\n",
        "  plt.grid(True)\n",
        "\n",
        "def trend (time,slope=0):\n",
        "  return slope*time\n",
        "\n",
        "def seasonal_pattern(season_time):\n",
        "  \"\"\"Just an arbitrary pattern, you can change it if you wish\"\"\"\n",
        "  return np.where(season_time <0.4,\n",
        "                  np.cos(season_time*2*np.pi),\n",
        "                  1/np.exp(3*season_time))\n",
        "\n",
        "def seasonality (time, period, amplitude=1,phase=0):\n",
        "  \"\"\"Repeats the same pattern at each period\"\"\"\n",
        "  season_time=((time+phase)%period)/period\n",
        "  return amplitude*seasonal_pattern(season_time)\n",
        "\n",
        "def noise(time,noise_level=1,seed=None):\n",
        "  rnd=np.random.RandomState(seed)\n",
        "  return rnd.randn(len(time))*noise_level\n",
        "\n",
        "time=np.arange(4*365+1,dtype=\"float32\")\n",
        "baseline=10\n",
        "series=trend(time,0.1)\n",
        "baseline=10\n",
        "amplitude=40\n",
        "slope=0.05\n",
        "noise_level=5\n",
        "\n",
        "#ceate the series\n",
        "series=baseline+trend(time,slope)+seasonality(time,period=365,amplitude=amplitude)\n",
        "#update with noise\n",
        "series +=noise(time,noise_level,seed=42)\n",
        "\n",
        "split_time=1000\n",
        "time_train=time[:split_time]\n",
        "x_train=series[:split_time]\n",
        "time_valid=time[split_time:]\n",
        "x_valid=series[split_time:]\n",
        "\n",
        "window_size=20\n",
        "batch_size=32\n",
        "shuffle_buffer_size=1000"
      ],
      "execution_count": 0,
      "outputs": []
    },
    {
      "cell_type": "code",
      "metadata": {
        "id": "yEGZnDlPEOCQ",
        "colab_type": "code",
        "colab": {}
      },
      "source": [
        "def windowed_dataset(series,window_size,batch_size,shuffle_buffer): #crear un dataset\n",
        "  dataset=tf.data.Dataset.from_tensor_slices(series) #create a dataset\n",
        "  dataset=dataset.window(window_size+1,shift=1,drop_remainder=True)#to slice the data up into the appropriate windows\n",
        "  dataset=dataset.flat_map(lambda window: window.batch(window_size+1))#flatten the data out flatened into chunksin the suze of our window_size+1\n",
        "  dataset=dataset.shuffle(shuffle_buffer).map(lambda window:(window[:-1],window[-1])) #shuflet it, choosing smaller number speeds\n",
        "  dataset=dataset.batch(batch_size).prefetch(1)#size parameter =2 corresponde Yb\n",
        "  return dataset"
      ],
      "execution_count": 0,
      "outputs": []
    },
    {
      "cell_type": "code",
      "metadata": {
        "id": "hiRVqSjjEOE4",
        "colab_type": "code",
        "colab": {
          "base_uri": "https://localhost:8080/",
          "height": 1000
        },
        "outputId": "0f344f72-e3a8-4b9c-faea-72996172594d"
      },
      "source": [
        "tf.keras.backend.clear_session() #limpia variable internas\n",
        "tf.random.set_seed(51)\n",
        "np.random.seed(51)\n",
        "\n",
        "tf.keras.backend.clear_session() \n",
        "dataset=windowed_dataset(x_train,window_size,batch_size,shuffle_buffer_size)\n",
        "\n",
        "model=tf.keras.models.Sequential([\n",
        "  tf.keras.layers.Lambda(lambda x:tf.expand_dims(x,axis=-1),input_shape=[None]),\n",
        "  tf.keras.layers.Bidirectional(tf.keras.layers.LSTM(32,return_sequences=True)),#capa single LSTM de 32 celdas\n",
        "  tf.keras.layers.Dense(1), #neurona de salida\n",
        "  tf.keras.layers.Lambda(lambda x:x*100.0)\n",
        "])\n",
        "\n",
        "lr_schedule=tf.keras.callbacks.LearningRateScheduler(lambda epoch:1e-8*10**(epoch/20))\n",
        "\n",
        "optimizer=tf.keras.optimizers.SGD(lr=1e-8,momentum=0.9)\n",
        "\n",
        "model.compile(loss=tf.keras.losses.Huber(),optimizer=optimizer,metrics=[\"mae\"])\n",
        "history=model.fit(dataset,epochs=100,callbacks=[lr_schedule])"
      ],
      "execution_count": 5,
      "outputs": [
        {
          "output_type": "stream",
          "text": [
            "Epoch 1/100\n",
            "31/31 [==============================] - 0s 11ms/step - loss: 44.7131 - mae: 45.1711 - lr: 1.0000e-08\n",
            "Epoch 2/100\n",
            "31/31 [==============================] - 0s 11ms/step - loss: 43.5135 - mae: 43.9784 - lr: 1.1220e-08\n",
            "Epoch 3/100\n",
            "31/31 [==============================] - 0s 12ms/step - loss: 41.9342 - mae: 42.4704 - lr: 1.2589e-08\n",
            "Epoch 4/100\n",
            "31/31 [==============================] - 0s 11ms/step - loss: 40.1676 - mae: 40.6472 - lr: 1.4125e-08\n",
            "Epoch 5/100\n",
            "31/31 [==============================] - 0s 10ms/step - loss: 37.7474 - mae: 38.2183 - lr: 1.5849e-08\n",
            "Epoch 6/100\n",
            "31/31 [==============================] - 0s 11ms/step - loss: 27.1060 - mae: 27.8198 - lr: 1.7783e-08\n",
            "Epoch 7/100\n",
            "31/31 [==============================] - 0s 10ms/step - loss: 10.4559 - mae: 10.9575 - lr: 1.9953e-08\n",
            "Epoch 8/100\n",
            "31/31 [==============================] - 0s 11ms/step - loss: 10.3041 - mae: 10.7589 - lr: 2.2387e-08\n",
            "Epoch 9/100\n",
            "31/31 [==============================] - 0s 11ms/step - loss: 10.2120 - mae: 10.7078 - lr: 2.5119e-08\n",
            "Epoch 10/100\n",
            "31/31 [==============================] - 0s 11ms/step - loss: 10.1601 - mae: 10.6631 - lr: 2.8184e-08\n",
            "Epoch 11/100\n",
            "31/31 [==============================] - 0s 11ms/step - loss: 10.1411 - mae: 10.6203 - lr: 3.1623e-08\n",
            "Epoch 12/100\n",
            "31/31 [==============================] - 0s 10ms/step - loss: 10.1014 - mae: 10.5810 - lr: 3.5481e-08\n",
            "Epoch 13/100\n",
            "31/31 [==============================] - 0s 12ms/step - loss: 10.0641 - mae: 10.5439 - lr: 3.9811e-08\n",
            "Epoch 14/100\n",
            "31/31 [==============================] - 0s 10ms/step - loss: 10.0495 - mae: 10.5107 - lr: 4.4668e-08\n",
            "Epoch 15/100\n",
            "31/31 [==============================] - 0s 12ms/step - loss: 9.9839 - mae: 10.4766 - lr: 5.0119e-08\n",
            "Epoch 16/100\n",
            "31/31 [==============================] - 0s 11ms/step - loss: 9.9857 - mae: 10.4446 - lr: 5.6234e-08\n",
            "Epoch 17/100\n",
            "31/31 [==============================] - 0s 11ms/step - loss: 9.9486 - mae: 10.4120 - lr: 6.3096e-08\n",
            "Epoch 18/100\n",
            "31/31 [==============================] - 0s 11ms/step - loss: 9.8687 - mae: 10.3809 - lr: 7.0795e-08\n",
            "Epoch 19/100\n",
            "31/31 [==============================] - 0s 11ms/step - loss: 9.8556 - mae: 10.3497 - lr: 7.9433e-08\n",
            "Epoch 20/100\n",
            "31/31 [==============================] - 0s 11ms/step - loss: 9.7981 - mae: 10.3175 - lr: 8.9125e-08\n",
            "Epoch 21/100\n",
            "31/31 [==============================] - 0s 11ms/step - loss: 9.7776 - mae: 10.2868 - lr: 1.0000e-07\n",
            "Epoch 22/100\n",
            "31/31 [==============================] - 0s 11ms/step - loss: 9.7593 - mae: 10.2566 - lr: 1.1220e-07\n",
            "Epoch 23/100\n",
            "31/31 [==============================] - 0s 13ms/step - loss: 9.7095 - mae: 10.2171 - lr: 1.2589e-07\n",
            "Epoch 24/100\n",
            "31/31 [==============================] - 0s 13ms/step - loss: 9.6754 - mae: 10.1835 - lr: 1.4125e-07\n",
            "Epoch 25/100\n",
            "31/31 [==============================] - 0s 13ms/step - loss: 9.6673 - mae: 10.1478 - lr: 1.5849e-07\n",
            "Epoch 26/100\n",
            "31/31 [==============================] - 0s 11ms/step - loss: 9.6149 - mae: 10.1110 - lr: 1.7783e-07\n",
            "Epoch 27/100\n",
            "31/31 [==============================] - 0s 11ms/step - loss: 9.5956 - mae: 10.0698 - lr: 1.9953e-07\n",
            "Epoch 28/100\n",
            "31/31 [==============================] - 0s 10ms/step - loss: 9.5190 - mae: 10.0333 - lr: 2.2387e-07\n",
            "Epoch 29/100\n",
            "31/31 [==============================] - 0s 11ms/step - loss: 9.4935 - mae: 9.9750 - lr: 2.5119e-07\n",
            "Epoch 30/100\n",
            "31/31 [==============================] - 0s 11ms/step - loss: 9.4570 - mae: 9.9244 - lr: 2.8184e-07\n",
            "Epoch 31/100\n",
            "31/31 [==============================] - 0s 11ms/step - loss: 9.3817 - mae: 9.8705 - lr: 3.1623e-07\n",
            "Epoch 32/100\n",
            "31/31 [==============================] - 0s 12ms/step - loss: 9.3370 - mae: 9.8211 - lr: 3.5481e-07\n",
            "Epoch 33/100\n",
            "31/31 [==============================] - 0s 11ms/step - loss: 9.2953 - mae: 9.7624 - lr: 3.9811e-07\n",
            "Epoch 34/100\n",
            "31/31 [==============================] - 0s 11ms/step - loss: 9.2357 - mae: 9.7017 - lr: 4.4668e-07\n",
            "Epoch 35/100\n",
            "31/31 [==============================] - 0s 11ms/step - loss: 9.1981 - mae: 9.6275 - lr: 5.0119e-07\n",
            "Epoch 36/100\n",
            "31/31 [==============================] - 0s 12ms/step - loss: 9.0641 - mae: 9.5585 - lr: 5.6234e-07\n",
            "Epoch 37/100\n",
            "31/31 [==============================] - 0s 13ms/step - loss: 9.0217 - mae: 9.5173 - lr: 6.3096e-07\n",
            "Epoch 38/100\n",
            "31/31 [==============================] - 0s 13ms/step - loss: 8.9525 - mae: 9.4293 - lr: 7.0795e-07\n",
            "Epoch 39/100\n",
            "31/31 [==============================] - 0s 11ms/step - loss: 8.8602 - mae: 9.3259 - lr: 7.9433e-07\n",
            "Epoch 40/100\n",
            "31/31 [==============================] - 0s 11ms/step - loss: 8.7579 - mae: 9.2706 - lr: 8.9125e-07\n",
            "Epoch 41/100\n",
            "31/31 [==============================] - 0s 11ms/step - loss: 8.7093 - mae: 9.1629 - lr: 1.0000e-06\n",
            "Epoch 42/100\n",
            "31/31 [==============================] - 0s 11ms/step - loss: 8.6091 - mae: 9.1111 - lr: 1.1220e-06\n",
            "Epoch 43/100\n",
            "31/31 [==============================] - 0s 10ms/step - loss: 8.4975 - mae: 9.0081 - lr: 1.2589e-06\n",
            "Epoch 44/100\n",
            "31/31 [==============================] - 0s 13ms/step - loss: 8.4600 - mae: 8.9556 - lr: 1.4125e-06\n",
            "Epoch 45/100\n",
            "31/31 [==============================] - 0s 13ms/step - loss: 8.3098 - mae: 8.8234 - lr: 1.5849e-06\n",
            "Epoch 46/100\n",
            "31/31 [==============================] - 0s 12ms/step - loss: 8.3666 - mae: 8.8247 - lr: 1.7783e-06\n",
            "Epoch 47/100\n",
            "31/31 [==============================] - 0s 13ms/step - loss: 8.3115 - mae: 8.7909 - lr: 1.9953e-06\n",
            "Epoch 48/100\n",
            "31/31 [==============================] - 0s 11ms/step - loss: 8.2549 - mae: 8.7378 - lr: 2.2387e-06\n",
            "Epoch 49/100\n",
            "31/31 [==============================] - 0s 11ms/step - loss: 8.1481 - mae: 8.6560 - lr: 2.5119e-06\n",
            "Epoch 50/100\n",
            "31/31 [==============================] - 0s 11ms/step - loss: 8.0326 - mae: 8.5284 - lr: 2.8184e-06\n",
            "Epoch 51/100\n",
            "31/31 [==============================] - 0s 11ms/step - loss: 7.9916 - mae: 8.4917 - lr: 3.1623e-06\n",
            "Epoch 52/100\n",
            "31/31 [==============================] - 0s 11ms/step - loss: 7.8971 - mae: 8.3955 - lr: 3.5481e-06\n",
            "Epoch 53/100\n",
            "31/31 [==============================] - 0s 11ms/step - loss: 7.8100 - mae: 8.3380 - lr: 3.9811e-06\n",
            "Epoch 54/100\n",
            "31/31 [==============================] - 0s 11ms/step - loss: 7.6504 - mae: 8.1469 - lr: 4.4668e-06\n",
            "Epoch 55/100\n",
            "31/31 [==============================] - 0s 12ms/step - loss: 7.6021 - mae: 8.0943 - lr: 5.0119e-06\n",
            "Epoch 56/100\n",
            "31/31 [==============================] - 0s 12ms/step - loss: 7.6034 - mae: 8.1016 - lr: 5.6234e-06\n",
            "Epoch 57/100\n",
            "31/31 [==============================] - 0s 12ms/step - loss: 7.5336 - mae: 7.9869 - lr: 6.3096e-06\n",
            "Epoch 58/100\n",
            "31/31 [==============================] - 0s 11ms/step - loss: 7.3655 - mae: 7.8499 - lr: 7.0795e-06\n",
            "Epoch 59/100\n",
            "31/31 [==============================] - 0s 11ms/step - loss: 7.4849 - mae: 7.9491 - lr: 7.9433e-06\n",
            "Epoch 60/100\n",
            "31/31 [==============================] - 0s 11ms/step - loss: 7.1480 - mae: 7.6309 - lr: 8.9125e-06\n",
            "Epoch 61/100\n",
            "31/31 [==============================] - 0s 11ms/step - loss: 7.2788 - mae: 7.7863 - lr: 1.0000e-05\n",
            "Epoch 62/100\n",
            "31/31 [==============================] - 0s 11ms/step - loss: 7.3285 - mae: 7.8140 - lr: 1.1220e-05\n",
            "Epoch 63/100\n",
            "31/31 [==============================] - 0s 11ms/step - loss: 7.2413 - mae: 7.7031 - lr: 1.2589e-05\n",
            "Epoch 64/100\n",
            "31/31 [==============================] - 0s 11ms/step - loss: 7.1051 - mae: 7.5978 - lr: 1.4125e-05\n",
            "Epoch 65/100\n",
            "31/31 [==============================] - 0s 11ms/step - loss: 6.9724 - mae: 7.4490 - lr: 1.5849e-05\n",
            "Epoch 66/100\n",
            "31/31 [==============================] - 0s 11ms/step - loss: 7.1127 - mae: 7.5730 - lr: 1.7783e-05\n",
            "Epoch 67/100\n",
            "31/31 [==============================] - 0s 13ms/step - loss: 7.0261 - mae: 7.5311 - lr: 1.9953e-05\n",
            "Epoch 68/100\n",
            "31/31 [==============================] - 0s 13ms/step - loss: 7.0266 - mae: 7.5262 - lr: 2.2387e-05\n",
            "Epoch 69/100\n",
            "31/31 [==============================] - 0s 10ms/step - loss: 7.0841 - mae: 7.5579 - lr: 2.5119e-05\n",
            "Epoch 70/100\n",
            "31/31 [==============================] - 0s 11ms/step - loss: 7.1018 - mae: 7.5794 - lr: 2.8184e-05\n",
            "Epoch 71/100\n",
            "31/31 [==============================] - 0s 11ms/step - loss: 7.6022 - mae: 8.1334 - lr: 3.1623e-05\n",
            "Epoch 72/100\n",
            "31/31 [==============================] - 0s 12ms/step - loss: 6.9366 - mae: 7.4145 - lr: 3.5481e-05\n",
            "Epoch 73/100\n",
            "31/31 [==============================] - 0s 12ms/step - loss: 8.1653 - mae: 8.6465 - lr: 3.9811e-05\n",
            "Epoch 74/100\n",
            "31/31 [==============================] - 0s 10ms/step - loss: 7.1255 - mae: 7.6153 - lr: 4.4668e-05\n",
            "Epoch 75/100\n",
            "31/31 [==============================] - 0s 11ms/step - loss: 6.7028 - mae: 7.1824 - lr: 5.0119e-05\n",
            "Epoch 76/100\n",
            "31/31 [==============================] - 0s 12ms/step - loss: 6.9569 - mae: 7.4245 - lr: 5.6234e-05\n",
            "Epoch 77/100\n",
            "31/31 [==============================] - 0s 12ms/step - loss: 7.4448 - mae: 7.8838 - lr: 6.3096e-05\n",
            "Epoch 78/100\n",
            "31/31 [==============================] - 0s 11ms/step - loss: 7.6743 - mae: 8.1599 - lr: 7.0795e-05\n",
            "Epoch 79/100\n",
            "31/31 [==============================] - 0s 11ms/step - loss: 7.6967 - mae: 8.1828 - lr: 7.9433e-05\n",
            "Epoch 80/100\n",
            "31/31 [==============================] - 0s 11ms/step - loss: 8.2554 - mae: 8.7645 - lr: 8.9125e-05\n",
            "Epoch 81/100\n",
            "31/31 [==============================] - 0s 11ms/step - loss: 8.1268 - mae: 8.6185 - lr: 1.0000e-04\n",
            "Epoch 82/100\n",
            "31/31 [==============================] - 0s 11ms/step - loss: 8.9515 - mae: 9.4251 - lr: 1.1220e-04\n",
            "Epoch 83/100\n",
            "31/31 [==============================] - 0s 11ms/step - loss: 10.7471 - mae: 11.2637 - lr: 1.2589e-04\n",
            "Epoch 84/100\n",
            "31/31 [==============================] - 0s 11ms/step - loss: 8.3212 - mae: 8.7902 - lr: 1.4125e-04\n",
            "Epoch 85/100\n",
            "31/31 [==============================] - 0s 11ms/step - loss: 17.7943 - mae: 18.3327 - lr: 1.5849e-04\n",
            "Epoch 86/100\n",
            "31/31 [==============================] - 0s 13ms/step - loss: 10.7185 - mae: 11.2051 - lr: 1.7783e-04\n",
            "Epoch 87/100\n",
            "31/31 [==============================] - 0s 13ms/step - loss: 10.8694 - mae: 11.3595 - lr: 1.9953e-04\n",
            "Epoch 88/100\n",
            "31/31 [==============================] - 0s 11ms/step - loss: 12.8384 - mae: 13.3317 - lr: 2.2387e-04\n",
            "Epoch 89/100\n",
            "31/31 [==============================] - 0s 11ms/step - loss: 13.5594 - mae: 14.0184 - lr: 2.5119e-04\n",
            "Epoch 90/100\n",
            "31/31 [==============================] - 0s 11ms/step - loss: 14.2995 - mae: 14.7905 - lr: 2.8184e-04\n",
            "Epoch 91/100\n",
            "31/31 [==============================] - 0s 12ms/step - loss: 11.0851 - mae: 11.6027 - lr: 3.1623e-04\n",
            "Epoch 92/100\n",
            "31/31 [==============================] - 0s 11ms/step - loss: 13.7235 - mae: 14.1052 - lr: 3.5481e-04\n",
            "Epoch 93/100\n",
            "31/31 [==============================] - 0s 13ms/step - loss: 11.2785 - mae: 11.8311 - lr: 3.9811e-04\n",
            "Epoch 94/100\n",
            "31/31 [==============================] - 0s 12ms/step - loss: 11.4937 - mae: 11.9869 - lr: 4.4668e-04\n",
            "Epoch 95/100\n",
            "31/31 [==============================] - 0s 10ms/step - loss: 9.8009 - mae: 10.2836 - lr: 5.0119e-04\n",
            "Epoch 96/100\n",
            "31/31 [==============================] - 0s 11ms/step - loss: 10.9023 - mae: 11.4138 - lr: 5.6234e-04\n",
            "Epoch 97/100\n",
            "31/31 [==============================] - 0s 11ms/step - loss: 9.6138 - mae: 9.9294 - lr: 6.3096e-04\n",
            "Epoch 98/100\n",
            "31/31 [==============================] - 0s 11ms/step - loss: 9.5150 - mae: 10.0202 - lr: 7.0795e-04\n",
            "Epoch 99/100\n",
            "31/31 [==============================] - 0s 11ms/step - loss: 15.1158 - mae: 15.5342 - lr: 7.9433e-04\n",
            "Epoch 100/100\n",
            "31/31 [==============================] - 0s 11ms/step - loss: 14.9026 - mae: 15.4031 - lr: 8.9125e-04\n"
          ],
          "name": "stdout"
        }
      ]
    },
    {
      "cell_type": "code",
      "metadata": {
        "id": "Sc_S-UNyEWCP",
        "colab_type": "code",
        "colab": {
          "base_uri": "https://localhost:8080/",
          "height": 290
        },
        "outputId": "00758ebb-5f7d-4e99-ec7f-f143cab4b705"
      },
      "source": [
        "plt.semilogx(history.history[\"lr\"],history.history[\"loss\"])\n",
        "plt.axis([1e-8,1e-4,0,30])"
      ],
      "execution_count": 6,
      "outputs": [
        {
          "output_type": "execute_result",
          "data": {
            "text/plain": [
              "(1e-08, 0.0001, 0.0, 30.0)"
            ]
          },
          "metadata": {
            "tags": []
          },
          "execution_count": 6
        },
        {
          "output_type": "display_data",
          "data": {
            "image/png": "[encoded data removed]",
            "text/plain": [
              "<Figure size 432x288 with 1 Axes>"
            ]
          },
          "metadata": {
            "tags": [],
            "needs_background": "light"
          }
        }
      ]
    },
    {
      "cell_type": "code",
      "metadata": {
        "id": "5o9kMvrOHV_0",
        "colab_type": "code",
        "colab": {}
      },
      "source": [
        "tf.keras.backend.clear_session() #limpia variable internas\n",
        "tf.random.set_seed(51)\n",
        "np.random.seed(51)\n",
        "\n",
        "tf.keras.backend.clear_session()\n",
        "\n",
        "dataset=windowed_dataset(x_train,window_size,batch_size,shuffle_buffer_size)\n",
        "\n",
        "model=tf.keras.models.Sequential([\n",
        "  tf.keras.layers.Lambda(lambda x:tf.expand_dims(x,axis=-1),input_shape=[None]),\n",
        "  tf.keras.layers.Bidirectional(tf.keras.layers.LSTM(32,return_sequences=True)),\n",
        "  tf.keras.layers.Bidirectional(tf.keras.layers.LSTM(32)),#capa single LSTM de 32 celdas\n",
        "  tf.keras.layers.Dense(1), #neurona de salida\n",
        "  tf.keras.layers.Lambda(lambda x:x*100.0)\n",
        "])\n",
        "\n",
        "#optimizer=tf.keras.optimizers.SGD(lr=1e-5,momentum=0.9)\n",
        "\n",
        "#model.compile(loss=\"mse\",optimizer=optimizer)\n",
        "\n",
        "model.compile(loss=\"mse\", optimizer=tf.keras.optimizers.SGD(lr=1e-5,momentum=0.9))\n",
        "              \n",
        "history=model.fit(dataset,epochs=500,verbose=0)#callbacks=[lr_schedule]"
      ],
      "execution_count": 0,
      "outputs": []
    },
    {
      "cell_type": "code",
      "metadata": {
        "id": "eOpHtJtLEWF6",
        "colab_type": "code",
        "colab": {
          "base_uri": "https://localhost:8080/",
          "height": 388
        },
        "outputId": "4da57127-f224-430d-853c-0be38a5e27f0"
      },
      "source": [
        "forecast=[] #forecast Vs DAta\n",
        "results=[]\n",
        "for time in range(len(series)-window_size):\n",
        "  forecast.append(model.predict(series[time:time+window_size][np.newaxis]))\n",
        "\n",
        "forecast=forecast[split_time-window_size:]\n",
        "results=np.array(forecast)[:,0,0]\n",
        "\n",
        "plt.figure(figsize=(10,6))\n",
        "\n",
        "plot_series(time_valid, x_valid)\n",
        "plot_series(time_valid,results)"
      ],
      "execution_count": 8,
      "outputs": [
        {
          "output_type": "display_data",
          "data": {
            "image/png": "[encoded data removed]",
            "text/plain": [
              "<Figure size 720x432 with 1 Axes>"
            ]
          },
          "metadata": {
            "tags": [],
            "needs_background": "light"
          }
        }
      ]
    },
    {
      "cell_type": "code",
      "metadata": {
        "id": "spSHG4V1EWJy",
        "colab_type": "code",
        "colab": {
          "base_uri": "https://localhost:8080/",
          "height": 34
        },
        "outputId": "5b2d9312-7d2e-468a-809b-ec73f3bfd04c"
      },
      "source": [
        "tf.keras.metrics.mean_absolute_error(x_valid,results).numpy()"
      ],
      "execution_count": 9,
      "outputs": [
        {
          "output_type": "execute_result",
          "data": {
            "text/plain": [
              "5.450017"
            ]
          },
          "metadata": {
            "tags": []
          },
          "execution_count": 9
        }
      ]
    },
    {
      "cell_type": "code",
      "metadata": {
        "id": "FPEiAeQQEOIz",
        "colab_type": "code",
        "colab": {
          "base_uri": "https://localhost:8080/",
          "height": 231
        },
        "outputId": "3ebb25e5-0bb6-4bc9-f9c6-fadde67bc91c"
      },
      "source": [
        "import matplotlib.image as mpimg\n",
        "import matplotlib.pyplot as plt\n",
        "\n",
        "mae=history.history[\"mae\"]\n",
        "loss=history.history[\"loss\"]\n",
        "\n",
        "epochs=range(len(loss))\n",
        "\n",
        "plt.plot(epochs,mae,'r')\n",
        "plt.plot(epochs,loss,'b')\n",
        "plt.title('MAE and Loss')\n",
        "plt.xlabel(\"Epochs\")\n",
        "plt.ylabel(\"Accuracy\")\n",
        "plt.legend(\"MAE\",\"Loss\")\n",
        "\n",
        "plt.figure()\n",
        "\n",
        "epochs_zoom=epochs[200:]\n",
        "mae_zoom=mae[200:]\n",
        "loss_zoom=loss[200:]\n",
        "\n",
        "plt.plot(epochs_zoom,mae_zoom,'r')\n",
        "plt.plot(epochs_zoom,loss_zoom,'b')\n",
        "plt.title('MAE and Loss')\n",
        "plt.xlabel(\"Epochs\")\n",
        "plt.ylabel(\"Accuracy\")\n",
        "plt.legend(\"MAE\",\"Loss\")\n",
        "\n",
        "plt.figure()"
      ],
      "execution_count": 10,
      "outputs": [
        {
          "output_type": "error",
          "ename": "KeyError",
          "evalue": "ignored",
          "traceback": [
            "\u001b[0;31m---------------------------------------------------------------------------\u001b[0m",
            "\u001b[0;31mKeyError\u001b[0m                                  Traceback (most recent call last)",
            "\u001b[0;32m<ipython-input-10-bd15c359dad0>\u001b[0m in \u001b[0;36m<module>\u001b[0;34m()\u001b[0m\n\u001b[1;32m      2\u001b[0m \u001b[0;32mimport\u001b[0m \u001b[0mmatplotlib\u001b[0m\u001b[0;34m.\u001b[0m\u001b[0mpyplot\u001b[0m \u001b[0;32mas\u001b[0m \u001b[0mplt\u001b[0m\u001b[0;34m\u001b[0m\u001b[0;34m\u001b[0m\u001b[0m\n\u001b[1;32m      3\u001b[0m \u001b[0;34m\u001b[0m\u001b[0m\n\u001b[0;32m----> 4\u001b[0;31m \u001b[0mmae\u001b[0m\u001b[0;34m=\u001b[0m\u001b[0mhistory\u001b[0m\u001b[0;34m.\u001b[0m\u001b[0mhistory\u001b[0m\u001b[0;34m[\u001b[0m\u001b[0;34m\"mae\"\u001b[0m\u001b[0;34m]\u001b[0m\u001b[0;34m\u001b[0m\u001b[0;34m\u001b[0m\u001b[0m\n\u001b[0m\u001b[1;32m      5\u001b[0m \u001b[0mloss\u001b[0m\u001b[0;34m=\u001b[0m\u001b[0mhistory\u001b[0m\u001b[0;34m.\u001b[0m\u001b[0mhistory\u001b[0m\u001b[0;34m[\u001b[0m\u001b[0;34m\"loss\"\u001b[0m\u001b[0;34m]\u001b[0m\u001b[0;34m\u001b[0m\u001b[0;34m\u001b[0m\u001b[0m\n\u001b[1;32m      6\u001b[0m \u001b[0;34m\u001b[0m\u001b[0m\n",
            "\u001b[0;31mKeyError\u001b[0m: 'mae'"
          ]
        }
      ]
    }
  ]
}