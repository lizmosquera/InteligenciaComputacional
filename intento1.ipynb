{
  "nbformat": 4,
  "nbformat_minor": 0,
  "metadata": {
    "colab": {
      "name": "intento1.ipynb",
      "provenance": [],
      "authorship_tag": "ABX9TyNDS6zZasJOpEW91Mg3elzo",
      "include_colab_link": true
    },
    "kernelspec": {
      "name": "python3",
      "display_name": "Python 3"
    }
  },
  "cells": [
    {
      "cell_type": "markdown",
      "metadata": {
        "id": "view-in-github",
        "colab_type": "text"
      },
      "source": [
        "<a href=\"https://colab.research.google.com/github/lizmosquera/InteligenciaComputacional/blob/master/intento1.ipynb\" target=\"_parent\"><img src=\"https://colab.research.google.com/assets/colab-badge.svg\" alt=\"Open In Colab\"/></a>"
      ]
    },
    {
      "cell_type": "code",
      "metadata": {
        "id": "iCpTVDVy5zPz",
        "colab_type": "code",
        "colab": {
          "base_uri": "https://localhost:8080/",
          "height": 51
        },
        "outputId": "bc1ed454-7206-471a-ac8e-bd69c71d918d"
      },
      "source": [
        "!pip install tf_nightly-2.0-preview"
      ],
      "execution_count": 1,
      "outputs": [
        {
          "output_type": "stream",
          "text": [
            "\u001b[31mERROR: Could not find a version that satisfies the requirement tf_nightly-2.0-preview (from versions: none)\u001b[0m\n",
            "\u001b[31mERROR: No matching distribution found for tf_nightly-2.0-preview\u001b[0m\n"
          ],
          "name": "stdout"
        }
      ]
    },
    {
      "cell_type": "code",
      "metadata": {
        "id": "UacmvD43B0vC",
        "colab_type": "code",
        "colab": {}
      },
      "source": [
        "#!pip install tensorflow==2.0.0b1"
      ],
      "execution_count": 0,
      "outputs": []
    },
    {
      "cell_type": "code",
      "metadata": {
        "id": "tBYkVKA9OymF",
        "colab_type": "code",
        "colab": {
          "base_uri": "https://localhost:8080/",
          "height": 1000
        },
        "outputId": "83668ef0-a98f-40ca-fa37-bcca37907c96"
      },
      "source": [
        "!pip install tensorflow==2.0.0"
      ],
      "execution_count": 1,
      "outputs": [
        {
          "output_type": "stream",
          "text": [
            "Collecting tensorflow==2.0.0\n",
            "\u001b[?25l  Downloading https://files.pythonhosted.org/packages/46/0f/7bd55361168bb32796b360ad15a25de6966c9c1beb58a8e30c01c8279862/tensorflow-2.0.0-cp36-cp36m-manylinux2010_x86_64.whl (86.3MB)\n",
            "\u001b[K     |████████████████████████████████| 86.3MB 53kB/s \n",
            "\u001b[?25hRequirement already satisfied: keras-applications>=1.0.8 in /usr/local/lib/python3.6/dist-packages (from tensorflow==2.0.0) (1.0.8)\n",
            "Collecting tensorboard<2.1.0,>=2.0.0\n",
            "\u001b[?25l  Downloading https://files.pythonhosted.org/packages/76/54/99b9d5d52d5cb732f099baaaf7740403e83fe6b0cedde940fabd2b13d75a/tensorboard-2.0.2-py3-none-any.whl (3.8MB)\n",
            "\u001b[K     |████████████████████████████████| 3.8MB 44.7MB/s \n",
            "\u001b[?25hRequirement already satisfied: google-pasta>=0.1.6 in /usr/local/lib/python3.6/dist-packages (from tensorflow==2.0.0) (0.2.0)\n",
            "Requirement already satisfied: termcolor>=1.1.0 in /usr/local/lib/python3.6/dist-packages (from tensorflow==2.0.0) (1.1.0)\n",
            "Requirement already satisfied: numpy<2.0,>=1.16.0 in /usr/local/lib/python3.6/dist-packages (from tensorflow==2.0.0) (1.18.3)\n",
            "Requirement already satisfied: protobuf>=3.6.1 in /usr/local/lib/python3.6/dist-packages (from tensorflow==2.0.0) (3.10.0)\n",
            "Collecting tensorflow-estimator<2.1.0,>=2.0.0\n",
            "\u001b[?25l  Downloading https://files.pythonhosted.org/packages/fc/08/8b927337b7019c374719145d1dceba21a8bb909b93b1ad6f8fb7d22c1ca1/tensorflow_estimator-2.0.1-py2.py3-none-any.whl (449kB)\n",
            "\u001b[K     |████████████████████████████████| 450kB 53.3MB/s \n",
            "\u001b[?25hRequirement already satisfied: wrapt>=1.11.1 in /usr/local/lib/python3.6/dist-packages (from tensorflow==2.0.0) (1.12.1)\n",
            "Requirement already satisfied: opt-einsum>=2.3.2 in /usr/local/lib/python3.6/dist-packages (from tensorflow==2.0.0) (3.2.1)\n",
            "Requirement already satisfied: keras-preprocessing>=1.0.5 in /usr/local/lib/python3.6/dist-packages (from tensorflow==2.0.0) (1.1.0)\n",
            "Collecting gast==0.2.2\n",
            "  Downloading https://files.pythonhosted.org/packages/4e/35/11749bf99b2d4e3cceb4d55ca22590b0d7c2c62b9de38ac4a4a7f4687421/gast-0.2.2.tar.gz\n",
            "Requirement already satisfied: six>=1.10.0 in /usr/local/lib/python3.6/dist-packages (from tensorflow==2.0.0) (1.12.0)\n",
            "Requirement already satisfied: absl-py>=0.7.0 in /usr/local/lib/python3.6/dist-packages (from tensorflow==2.0.0) (0.9.0)\n",
            "Requirement already satisfied: astor>=0.6.0 in /usr/local/lib/python3.6/dist-packages (from tensorflow==2.0.0) (0.8.1)\n",
            "Requirement already satisfied: grpcio>=1.8.6 in /usr/local/lib/python3.6/dist-packages (from tensorflow==2.0.0) (1.28.1)\n",
            "Requirement already satisfied: wheel>=0.26 in /usr/local/lib/python3.6/dist-packages (from tensorflow==2.0.0) (0.34.2)\n",
            "Requirement already satisfied: h5py in /usr/local/lib/python3.6/dist-packages (from keras-applications>=1.0.8->tensorflow==2.0.0) (2.10.0)\n",
            "Requirement already satisfied: setuptools>=41.0.0 in /usr/local/lib/python3.6/dist-packages (from tensorboard<2.1.0,>=2.0.0->tensorflow==2.0.0) (46.1.3)\n",
            "Requirement already satisfied: google-auth<2,>=1.6.3 in /usr/local/lib/python3.6/dist-packages (from tensorboard<2.1.0,>=2.0.0->tensorflow==2.0.0) (1.7.2)\n",
            "Requirement already satisfied: google-auth-oauthlib<0.5,>=0.4.1 in /usr/local/lib/python3.6/dist-packages (from tensorboard<2.1.0,>=2.0.0->tensorflow==2.0.0) (0.4.1)\n",
            "Requirement already satisfied: requests<3,>=2.21.0 in /usr/local/lib/python3.6/dist-packages (from tensorboard<2.1.0,>=2.0.0->tensorflow==2.0.0) (2.23.0)\n",
            "Requirement already satisfied: markdown>=2.6.8 in /usr/local/lib/python3.6/dist-packages (from tensorboard<2.1.0,>=2.0.0->tensorflow==2.0.0) (3.2.1)\n",
            "Requirement already satisfied: werkzeug>=0.11.15 in /usr/local/lib/python3.6/dist-packages (from tensorboard<2.1.0,>=2.0.0->tensorflow==2.0.0) (1.0.1)\n",
            "Requirement already satisfied: rsa<4.1,>=3.1.4 in /usr/local/lib/python3.6/dist-packages (from google-auth<2,>=1.6.3->tensorboard<2.1.0,>=2.0.0->tensorflow==2.0.0) (4.0)\n",
            "Requirement already satisfied: cachetools<3.2,>=2.0.0 in /usr/local/lib/python3.6/dist-packages (from google-auth<2,>=1.6.3->tensorboard<2.1.0,>=2.0.0->tensorflow==2.0.0) (3.1.1)\n",
            "Requirement already satisfied: pyasn1-modules>=0.2.1 in /usr/local/lib/python3.6/dist-packages (from google-auth<2,>=1.6.3->tensorboard<2.1.0,>=2.0.0->tensorflow==2.0.0) (0.2.8)\n",
            "Requirement already satisfied: requests-oauthlib>=0.7.0 in /usr/local/lib/python3.6/dist-packages (from google-auth-oauthlib<0.5,>=0.4.1->tensorboard<2.1.0,>=2.0.0->tensorflow==2.0.0) (1.3.0)\n",
            "Requirement already satisfied: idna<3,>=2.5 in /usr/local/lib/python3.6/dist-packages (from requests<3,>=2.21.0->tensorboard<2.1.0,>=2.0.0->tensorflow==2.0.0) (2.9)\n",
            "Requirement already satisfied: urllib3!=1.25.0,!=1.25.1,<1.26,>=1.21.1 in /usr/local/lib/python3.6/dist-packages (from requests<3,>=2.21.0->tensorboard<2.1.0,>=2.0.0->tensorflow==2.0.0) (1.24.3)\n",
            "Requirement already satisfied: chardet<4,>=3.0.2 in /usr/local/lib/python3.6/dist-packages (from requests<3,>=2.21.0->tensorboard<2.1.0,>=2.0.0->tensorflow==2.0.0) (3.0.4)\n",
            "Requirement already satisfied: certifi>=2017.4.17 in /usr/local/lib/python3.6/dist-packages (from requests<3,>=2.21.0->tensorboard<2.1.0,>=2.0.0->tensorflow==2.0.0) (2020.4.5.1)\n",
            "Requirement already satisfied: pyasn1>=0.1.3 in /usr/local/lib/python3.6/dist-packages (from rsa<4.1,>=3.1.4->google-auth<2,>=1.6.3->tensorboard<2.1.0,>=2.0.0->tensorflow==2.0.0) (0.4.8)\n",
            "Requirement already satisfied: oauthlib>=3.0.0 in /usr/local/lib/python3.6/dist-packages (from requests-oauthlib>=0.7.0->google-auth-oauthlib<0.5,>=0.4.1->tensorboard<2.1.0,>=2.0.0->tensorflow==2.0.0) (3.1.0)\n",
            "Building wheels for collected packages: gast\n",
            "  Building wheel for gast (setup.py) ... \u001b[?25l\u001b[?25hdone\n",
            "  Created wheel for gast: filename=gast-0.2.2-cp36-none-any.whl size=7540 sha256=9eb010daae8bbd63fc883f78bf69a77da3b5fb9d5114b81a6fbc874122f0ce60\n",
            "  Stored in directory: /root/.cache/pip/wheels/5c/2e/7e/a1d4d4fcebe6c381f378ce7743a3ced3699feb89bcfbdadadd\n",
            "Successfully built gast\n",
            "\u001b[31mERROR: tensorflow-probability 0.10.0rc0 has requirement gast>=0.3.2, but you'll have gast 0.2.2 which is incompatible.\u001b[0m\n",
            "Installing collected packages: tensorboard, tensorflow-estimator, gast, tensorflow\n",
            "  Found existing installation: tensorboard 2.2.1\n",
            "    Uninstalling tensorboard-2.2.1:\n",
            "      Successfully uninstalled tensorboard-2.2.1\n",
            "  Found existing installation: tensorflow-estimator 2.2.0\n",
            "    Uninstalling tensorflow-estimator-2.2.0:\n",
            "      Successfully uninstalled tensorflow-estimator-2.2.0\n",
            "  Found existing installation: gast 0.3.3\n",
            "    Uninstalling gast-0.3.3:\n",
            "      Successfully uninstalled gast-0.3.3\n",
            "  Found existing installation: tensorflow 2.2.0rc3\n",
            "    Uninstalling tensorflow-2.2.0rc3:\n",
            "      Successfully uninstalled tensorflow-2.2.0rc3\n",
            "Successfully installed gast-0.2.2 tensorboard-2.0.2 tensorflow-2.0.0 tensorflow-estimator-2.0.1\n"
          ],
          "name": "stdout"
        }
      ]
    },
    {
      "cell_type": "code",
      "metadata": {
        "id": "w_fTmEE86B7_",
        "colab_type": "code",
        "colab": {
          "base_uri": "https://localhost:8080/",
          "height": 34
        },
        "outputId": "f3db1506-1a91-4219-e20a-97a6b1a18e67"
      },
      "source": [
        "import tensorflow as tf\n",
        "print (tf.__version__)"
      ],
      "execution_count": 2,
      "outputs": [
        {
          "output_type": "stream",
          "text": [
            "2.0.0\n"
          ],
          "name": "stdout"
        }
      ]
    },
    {
      "cell_type": "code",
      "metadata": {
        "id": "YK_rVWp-6GYI",
        "colab_type": "code",
        "colab": {}
      },
      "source": [
        "import numpy as np\n",
        "import matplotlib.pyplot as plt\n",
        "def plot_series(time,series,format=\"-\",start=0,end=None):\n",
        "  plt.plot(time[start:end],series[start:end],format)\n",
        "  plt.xlabel(\"Time\")\n",
        "  plt.ylabel(\"Value\")\n",
        "  plt.grid(True)\n"
      ],
      "execution_count": 0,
      "outputs": []
    },
    {
      "cell_type": "code",
      "metadata": {
        "id": "HkwSWFtbDGvh",
        "colab_type": "code",
        "colab": {
          "base_uri": "https://localhost:8080/",
          "height": 204
        },
        "outputId": "b685159a-bf3c-4ae3-a3cf-bb197db14e77"
      },
      "source": [
        "!wget --no-check-certificate \\\n",
        "    https://storage.googleapis.com/laurencemoroney-blog.appspot.com/Sunspots.csv \\\n",
        "    -O /tmp/sunspots.csv"
      ],
      "execution_count": 4,
      "outputs": [
        {
          "output_type": "stream",
          "text": [
            "--2020-05-02 02:35:52--  https://storage.googleapis.com/laurencemoroney-blog.appspot.com/Sunspots.csv\n",
            "Resolving storage.googleapis.com (storage.googleapis.com)... 108.177.119.128, 2a00:1450:4013:c00::80\n",
            "Connecting to storage.googleapis.com (storage.googleapis.com)|108.177.119.128|:443... connected.\n",
            "HTTP request sent, awaiting response... 200 OK\n",
            "Length: 70827 (69K) [application/octet-stream]\n",
            "Saving to: ‘/tmp/sunspots.csv’\n",
            "\n",
            "\r/tmp/sunspots.csv     0%[                    ]       0  --.-KB/s               \r/tmp/sunspots.csv   100%[===================>]  69.17K  --.-KB/s    in 0.001s  \n",
            "\n",
            "2020-05-02 02:35:53 (98.5 MB/s) - ‘/tmp/sunspots.csv’ saved [70827/70827]\n",
            "\n"
          ],
          "name": "stdout"
        }
      ]
    },
    {
      "cell_type": "code",
      "metadata": {
        "id": "0fvzC7n_DHXM",
        "colab_type": "code",
        "colab": {
          "base_uri": "https://localhost:8080/",
          "height": 51
        },
        "outputId": "0d96f6e5-c92c-4386-e1e9-e37a0e5fbb80"
      },
      "source": [
        "#importar los datos\n",
        "\n",
        "import csv\n",
        "time_step = []\n",
        "sunspots = []\n",
        "\n",
        "#with open('Sunspots.csv') as csvfile:\n",
        "with open('/tmp/sunspots.csv') as csvfile:\n",
        "  reader = csv.reader(csvfile, delimiter=',')\n",
        "  next(reader)\n",
        "  for row in reader:\n",
        "    sunspots.append(float(row[2]))\n",
        "    time_step.append(int(row[0]))\n",
        "\n",
        "series = np.array(sunspots)\n",
        "time = np.array(time_step)\n",
        "print('series: {}'.format(series[:5]))\n",
        "print('time: {}'.format(time[:5]))"
      ],
      "execution_count": 5,
      "outputs": [
        {
          "output_type": "stream",
          "text": [
            "series: [ 96.7 104.3 116.7  92.8 141.7]\n",
            "time: [0 1 2 3 4]\n"
          ],
          "name": "stdout"
        }
      ]
    },
    {
      "cell_type": "code",
      "metadata": {
        "id": "YJaxU7gHEC3B",
        "colab_type": "code",
        "colab": {
          "base_uri": "https://localhost:8080/",
          "height": 388
        },
        "outputId": "b656cafa-4019-4461-ba84-034fb2e7c7fa"
      },
      "source": [
        "#explorar datos graficamente\n",
        "plt.figure(figsize=(10, 6))\n",
        "plot_series(time, series)"
      ],
      "execution_count": 6,
      "outputs": [
        {
          "output_type": "display_data",
          "data": {
            "image/png": "[encoded data removed]",
            "text/plain": [
              "<Figure size 720x432 with 1 Axes>"
            ]
          },
          "metadata": {
            "tags": [],
            "needs_background": "light"
          }
        }
      ]
    },
    {
      "cell_type": "code",
      "metadata": {
        "id": "EnqE9jZ8EBti",
        "colab_type": "code",
        "colab": {}
      },
      "source": [
        "#preparar el Dataset\n",
        "split_time = 3000\n",
        "time_train = time[:split_time]\n",
        "x_train = series[:split_time]\n",
        "time_valid = time[split_time:]\n",
        "x_valid = series[split_time:]\n"
      ],
      "execution_count": 0,
      "outputs": []
    },
    {
      "cell_type": "code",
      "metadata": {
        "id": "t_j9wF86ENOG",
        "colab_type": "code",
        "colab": {}
      },
      "source": [
        "#función para escoger parte de los datos\n",
        "def windowed_dataset(series, window_size, batch_size, shuffle_buffer):\n",
        "    series = tf.expand_dims(series, axis=-1)\n",
        "    ds = tf.data.Dataset.from_tensor_slices(series)\n",
        "    ds = ds.window(window_size + 1, shift=1, drop_remainder=True)\n",
        "    ds = ds.flat_map(lambda w: w.batch(window_size + 1))\n",
        "    ds = ds.shuffle(shuffle_buffer)\n",
        "    ds = ds.map(lambda w: (w[:-1], w[1:]))\n",
        "    return ds.batch(batch_size).prefetch(1)"
      ],
      "execution_count": 0,
      "outputs": []
    },
    {
      "cell_type": "code",
      "metadata": {
        "id": "I9WYEeSLPmK9",
        "colab_type": "code",
        "colab": {
          "base_uri": "https://localhost:8080/",
          "height": 34
        },
        "outputId": "8386892b-e38f-4a95-d219-7efced7ef64e"
      },
      "source": [
        "tf.keras.backend.clear_session()\n",
        "tf.random.set_seed(51)\n",
        "np.random.seed(51)\n",
        "shuffle_buffer_size = 1000\n",
        "window_size = 60\n",
        "batch_size = 100\n",
        "train_set = windowed_dataset(x_train, window_size, batch_size, shuffle_buffer_size)\n",
        "print(x_train.shape)"
      ],
      "execution_count": 9,
      "outputs": [
        {
          "output_type": "stream",
          "text": [
            "(3000,)\n"
          ],
          "name": "stdout"
        }
      ]
    },
    {
      "cell_type": "code",
      "metadata": {
        "id": "uN_I7nqoPmI0",
        "colab_type": "code",
        "colab": {
          "base_uri": "https://localhost:8080/",
          "height": 391
        },
        "outputId": "746475ce-82ba-43ce-d0b7-d8b2b6ce544c"
      },
      "source": [
        "tf.keras.backend.clear_session()\n",
        "model = tf.keras.models.Sequential([\n",
        "  tf.keras.layers.Conv1D(filters=60, kernel_size=5,\n",
        "                      strides=1, padding=\"causal\",\n",
        "                      activation=\"relu\",\n",
        "                      input_shape=[None, 1]),\n",
        "  tf.keras.layers.LSTM(60, return_sequences=True),\n",
        "  tf.keras.layers.LSTM(60, return_sequences=True),\n",
        "  tf.keras.layers.Dense(30, activation=\"relu\"),\n",
        "  tf.keras.layers.Dense(10, activation=\"relu\"),\n",
        "  tf.keras.layers.Dense(1),\n",
        "  tf.keras.layers.Lambda(lambda x: x * 400)\n",
        "])\n",
        "model.summary()"
      ],
      "execution_count": 10,
      "outputs": [
        {
          "output_type": "stream",
          "text": [
            "Model: \"sequential\"\n",
            "_________________________________________________________________\n",
            "Layer (type)                 Output Shape              Param #   \n",
            "=================================================================\n",
            "conv1d (Conv1D)              (None, None, 60)          360       \n",
            "_________________________________________________________________\n",
            "lstm (LSTM)                  (None, None, 60)          29040     \n",
            "_________________________________________________________________\n",
            "lstm_1 (LSTM)                (None, None, 60)          29040     \n",
            "_________________________________________________________________\n",
            "dense (Dense)                (None, None, 30)          1830      \n",
            "_________________________________________________________________\n",
            "dense_1 (Dense)              (None, None, 10)          310       \n",
            "_________________________________________________________________\n",
            "dense_2 (Dense)              (None, None, 1)           11        \n",
            "_________________________________________________________________\n",
            "lambda (Lambda)              (None, None, 1)           0         \n",
            "=================================================================\n",
            "Total params: 60,591\n",
            "Trainable params: 60,591\n",
            "Non-trainable params: 0\n",
            "_________________________________________________________________\n"
          ],
          "name": "stdout"
        }
      ]
    },
    {
      "cell_type": "code",
      "metadata": {
        "id": "GsOH3EOkPyfG",
        "colab_type": "code",
        "colab": {
          "base_uri": "https://localhost:8080/",
          "height": 1000
        },
        "outputId": "e1abd00f-32a1-4b2e-e34a-27ccce876414"
      },
      "source": [
        "optimizer = tf.keras.optimizers.SGD(lr=1e-5, momentum=0.9)\n",
        "model.compile(loss=tf.keras.losses.Huber(),\n",
        "              optimizer=optimizer,\n",
        "              metrics=[\"mae\"])\n",
        "history = model.fit(train_set,epochs=50)"
      ],
      "execution_count": 12,
      "outputs": [
        {
          "output_type": "stream",
          "text": [
            "Epoch 1/50\n",
            "30/30 [==============================] - 7s 241ms/step - loss: 31.7964 - mae: 32.4470\n",
            "Epoch 2/50\n",
            "30/30 [==============================] - 4s 139ms/step - loss: 23.2448 - mae: 23.7263\n",
            "Epoch 3/50\n",
            "30/30 [==============================] - 4s 137ms/step - loss: 20.9712 - mae: 21.4732\n",
            "Epoch 4/50\n",
            "30/30 [==============================] - 4s 139ms/step - loss: 19.9032 - mae: 20.4038\n",
            "Epoch 5/50\n",
            "30/30 [==============================] - 4s 138ms/step - loss: 19.9111 - mae: 20.4222\n",
            "Epoch 6/50\n",
            "30/30 [==============================] - 4s 136ms/step - loss: 19.6981 - mae: 20.1808\n",
            "Epoch 7/50\n",
            "30/30 [==============================] - 4s 138ms/step - loss: 18.6871 - mae: 19.1893\n",
            "Epoch 8/50\n",
            "30/30 [==============================] - 4s 137ms/step - loss: 18.6246 - mae: 19.1022\n",
            "Epoch 9/50\n",
            "30/30 [==============================] - 4s 138ms/step - loss: 18.4055 - mae: 18.9372\n",
            "Epoch 10/50\n",
            "30/30 [==============================] - 4s 138ms/step - loss: 18.3238 - mae: 18.8273\n",
            "Epoch 11/50\n",
            "30/30 [==============================] - 4s 137ms/step - loss: 17.8914 - mae: 18.3970\n",
            "Epoch 12/50\n",
            "30/30 [==============================] - 4s 137ms/step - loss: 18.0744 - mae: 18.5589\n",
            "Epoch 13/50\n",
            "30/30 [==============================] - 4s 142ms/step - loss: 17.7971 - mae: 18.3177\n",
            "Epoch 14/50\n",
            "30/30 [==============================] - 4s 137ms/step - loss: 17.9311 - mae: 18.4282\n",
            "Epoch 15/50\n",
            "30/30 [==============================] - 4s 136ms/step - loss: 17.6901 - mae: 18.2016\n",
            "Epoch 16/50\n",
            "30/30 [==============================] - 4s 137ms/step - loss: 17.9601 - mae: 18.4622\n",
            "Epoch 17/50\n",
            "30/30 [==============================] - 4s 138ms/step - loss: 18.0916 - mae: 18.6002\n",
            "Epoch 18/50\n",
            "30/30 [==============================] - 4s 136ms/step - loss: 17.8019 - mae: 18.3000\n",
            "Epoch 19/50\n",
            "30/30 [==============================] - 4s 139ms/step - loss: 17.5028 - mae: 17.9927\n",
            "Epoch 20/50\n",
            "30/30 [==============================] - 4s 137ms/step - loss: 17.5825 - mae: 18.0377\n",
            "Epoch 21/50\n",
            "30/30 [==============================] - 4s 137ms/step - loss: 17.2496 - mae: 17.7424\n",
            "Epoch 22/50\n",
            "30/30 [==============================] - 4s 139ms/step - loss: 17.3227 - mae: 17.7969\n",
            "Epoch 23/50\n",
            "30/30 [==============================] - 4s 136ms/step - loss: 17.4574 - mae: 17.9277\n",
            "Epoch 24/50\n",
            "30/30 [==============================] - 4s 137ms/step - loss: 17.2310 - mae: 17.7402\n",
            "Epoch 25/50\n",
            "30/30 [==============================] - 4s 138ms/step - loss: 17.2331 - mae: 17.7383\n",
            "Epoch 26/50\n",
            "30/30 [==============================] - 4s 137ms/step - loss: 17.4585 - mae: 17.9458\n",
            "Epoch 27/50\n",
            "30/30 [==============================] - 4s 138ms/step - loss: 17.1387 - mae: 17.6500\n",
            "Epoch 28/50\n",
            "30/30 [==============================] - 4s 137ms/step - loss: 17.0337 - mae: 17.5386\n",
            "Epoch 29/50\n",
            "30/30 [==============================] - 4s 138ms/step - loss: 17.1671 - mae: 17.6286\n",
            "Epoch 30/50\n",
            "30/30 [==============================] - 4s 139ms/step - loss: 17.0637 - mae: 17.5624\n",
            "Epoch 31/50\n",
            "30/30 [==============================] - 4s 140ms/step - loss: 17.1579 - mae: 17.6566\n",
            "Epoch 32/50\n",
            "30/30 [==============================] - 4s 141ms/step - loss: 17.1085 - mae: 17.6112\n",
            "Epoch 33/50\n",
            "30/30 [==============================] - 4s 140ms/step - loss: 17.0208 - mae: 17.4874\n",
            "Epoch 34/50\n",
            "30/30 [==============================] - 4s 143ms/step - loss: 16.9615 - mae: 17.4381\n",
            "Epoch 35/50\n",
            "30/30 [==============================] - 7s 239ms/step - loss: 17.0290 - mae: 17.4963\n",
            "Epoch 36/50\n",
            "30/30 [==============================] - 4s 147ms/step - loss: 16.9904 - mae: 17.4809\n",
            "Epoch 37/50\n",
            "30/30 [==============================] - 4s 143ms/step - loss: 17.0593 - mae: 17.5689\n",
            "Epoch 38/50\n",
            "30/30 [==============================] - 4s 143ms/step - loss: 16.9241 - mae: 17.4254\n",
            "Epoch 39/50\n",
            "30/30 [==============================] - 4s 144ms/step - loss: 16.7775 - mae: 17.2635\n",
            "Epoch 40/50\n",
            "30/30 [==============================] - 4s 144ms/step - loss: 16.9962 - mae: 17.4748\n",
            "Epoch 41/50\n",
            "30/30 [==============================] - 4s 144ms/step - loss: 17.1711 - mae: 17.6566\n",
            "Epoch 42/50\n",
            "30/30 [==============================] - 4s 143ms/step - loss: 17.3041 - mae: 17.7971\n",
            "Epoch 43/50\n",
            "30/30 [==============================] - 4s 142ms/step - loss: 17.0380 - mae: 17.5368\n",
            "Epoch 44/50\n",
            "30/30 [==============================] - 4s 141ms/step - loss: 16.9750 - mae: 17.4658\n",
            "Epoch 45/50\n",
            "30/30 [==============================] - 4s 141ms/step - loss: 16.9806 - mae: 17.4786\n",
            "Epoch 46/50\n",
            "30/30 [==============================] - 4s 142ms/step - loss: 17.0659 - mae: 17.5755\n",
            "Epoch 47/50\n",
            "30/30 [==============================] - 4s 142ms/step - loss: 16.7313 - mae: 17.2496\n",
            "Epoch 48/50\n",
            "30/30 [==============================] - 4s 141ms/step - loss: 16.7516 - mae: 17.2737\n",
            "Epoch 49/50\n",
            "30/30 [==============================] - 4s 141ms/step - loss: 16.8604 - mae: 17.3568\n",
            "Epoch 50/50\n",
            "30/30 [==============================] - 4s 140ms/step - loss: 16.9999 - mae: 17.5011\n"
          ],
          "name": "stdout"
        }
      ]
    },
    {
      "cell_type": "code",
      "metadata": {
        "id": "PR82JgXN6Mf8",
        "colab_type": "code",
        "colab": {
          "base_uri": "https://localhost:8080/",
          "height": 1000
        },
        "outputId": "1b4e18a3-6bcf-468c-e689-bf0e3a2e19aa"
      },
      "source": [
        "#crear modelo\n",
        "tf.keras.backend.clear_session()\n",
        "window_size = 60\n",
        "batch_size = 64\n",
        "train_set = windowed_dataset(x_train,window_size,batch_size,shuffle_buffer_size)\n",
        "\n",
        "model=tf.keras.models.Sequential([\n",
        "  tf.keras.layers.Conv1D(filters=60,kernel_size=5,strides=1, padding=\"causal\",\n",
        "                         activation=\"relu\",input_shape=[None,1]), #1D convolution con 32 filtros                             \n",
        "  tf.keras.layers.LSTM(32,return_sequences=True),#capa single LSTM de 32 celdas\n",
        "  tf.keras.layers.LSTM(32,return_sequences=True),#capa LSTM con 32 celdas\n",
        "  tf.keras.layers.Dense(30,activation=\"relu\"),#Deep Neural Network\n",
        "  tf.keras.layers.Dense(10,activation=\"relu\"),\n",
        "  tf.keras.layers.Dense(1), #neurona de salida\n",
        "  tf.keras.layers.Lambda(lambda x:x*400) #la capa lambda multiplica la x por 400\n",
        "])\n",
        "\n",
        "lr_schedule=tf.keras.callbacks.LearningRateScheduler(lambda epoch:1e-8*10**(epoch/20))\n",
        "\n",
        "optimizer=tf.keras.optimizers.SGD(lr=1e-7,momentum=0.9)\n",
        "\n",
        "model.compile(loss=tf.keras.losses.Huber(),\n",
        "              optimizer=optimizer,\n",
        "              metrics=[\"mae\"])\n",
        "history=model.fit(train_set,epochs=60,callbacks=[lr_schedule])"
      ],
      "execution_count": 34,
      "outputs": [
        {
          "output_type": "stream",
          "text": [
            "Epoch 1/60\n",
            "46/46 [==============================] - 7s 152ms/step - loss: 124.0090 - mae: 124.5081\n",
            "Epoch 2/60\n",
            "46/46 [==============================] - 4s 78ms/step - loss: 119.3725 - mae: 119.9881\n",
            "Epoch 3/60\n",
            "46/46 [==============================] - 4s 78ms/step - loss: 115.0792 - mae: 115.5246\n",
            "Epoch 4/60\n",
            "46/46 [==============================] - 4s 79ms/step - loss: 111.1948 - mae: 111.3501\n",
            "Epoch 5/60\n",
            "46/46 [==============================] - 4s 78ms/step - loss: 107.0648 - mae: 107.5593\n",
            "Epoch 6/60\n",
            "46/46 [==============================] - 4s 78ms/step - loss: 103.4830 - mae: 104.1000\n",
            "Epoch 7/60\n",
            "46/46 [==============================] - 4s 78ms/step - loss: 99.6227 - mae: 100.4443\n",
            "Epoch 8/60\n",
            "46/46 [==============================] - 4s 77ms/step - loss: 95.7629 - mae: 96.4528\n",
            "Epoch 9/60\n",
            "46/46 [==============================] - 4s 78ms/step - loss: 91.4062 - mae: 92.1809\n",
            "Epoch 10/60\n",
            "46/46 [==============================] - 4s 77ms/step - loss: 87.5541 - mae: 88.0158\n",
            "Epoch 11/60\n",
            "46/46 [==============================] - 4s 78ms/step - loss: 83.4738 - mae: 83.9871\n",
            "Epoch 12/60\n",
            "46/46 [==============================] - 4s 78ms/step - loss: 79.8919 - mae: 80.0688\n",
            "Epoch 13/60\n",
            "46/46 [==============================] - 4s 78ms/step - loss: 75.0800 - mae: 75.8171\n",
            "Epoch 14/60\n",
            "46/46 [==============================] - 4s 78ms/step - loss: 69.8155 - mae: 70.5325\n",
            "Epoch 15/60\n",
            "46/46 [==============================] - 4s 78ms/step - loss: 64.8459 - mae: 65.6143\n",
            "Epoch 16/60\n",
            "46/46 [==============================] - 4s 78ms/step - loss: 61.7627 - mae: 62.2503\n",
            "Epoch 17/60\n",
            "46/46 [==============================] - 4s 79ms/step - loss: 59.1345 - mae: 59.8239\n",
            "Epoch 18/60\n",
            "46/46 [==============================] - 4s 79ms/step - loss: 57.2728 - mae: 57.9123\n",
            "Epoch 19/60\n",
            "46/46 [==============================] - 4s 78ms/step - loss: 55.9474 - mae: 56.2771\n",
            "Epoch 20/60\n",
            "46/46 [==============================] - 4s 78ms/step - loss: 54.3582 - mae: 54.7006\n",
            "Epoch 21/60\n",
            "46/46 [==============================] - 4s 78ms/step - loss: 52.3217 - mae: 53.1481\n",
            "Epoch 22/60\n",
            "46/46 [==============================] - 4s 78ms/step - loss: 51.1951 - mae: 51.9027\n",
            "Epoch 23/60\n",
            "46/46 [==============================] - 4s 78ms/step - loss: 50.3690 - mae: 50.8842\n",
            "Epoch 24/60\n",
            "46/46 [==============================] - 4s 79ms/step - loss: 49.7245 - mae: 50.0780\n",
            "Epoch 25/60\n",
            "46/46 [==============================] - 4s 78ms/step - loss: 48.8125 - mae: 49.3531\n",
            "Epoch 26/60\n",
            "46/46 [==============================] - 4s 78ms/step - loss: 48.2308 - mae: 48.7235\n",
            "Epoch 27/60\n",
            "46/46 [==============================] - 4s 78ms/step - loss: 47.6669 - mae: 48.1589\n",
            "Epoch 28/60\n",
            "46/46 [==============================] - 4s 78ms/step - loss: 47.1884 - mae: 47.6534\n",
            "Epoch 29/60\n",
            "46/46 [==============================] - 4s 78ms/step - loss: 46.5371 - mae: 47.2499\n",
            "Epoch 30/60\n",
            "46/46 [==============================] - 4s 79ms/step - loss: 46.1656 - mae: 46.7713\n",
            "Epoch 31/60\n",
            "46/46 [==============================] - 4s 78ms/step - loss: 45.7389 - mae: 46.3156\n",
            "Epoch 32/60\n",
            "46/46 [==============================] - 4s 77ms/step - loss: 45.3209 - mae: 45.8696\n",
            "Epoch 33/60\n",
            "46/46 [==============================] - 4s 77ms/step - loss: 44.9457 - mae: 45.3673\n",
            "Epoch 34/60\n",
            "46/46 [==============================] - 4s 78ms/step - loss: 44.3194 - mae: 44.8256\n",
            "Epoch 35/60\n",
            "46/46 [==============================] - 4s 78ms/step - loss: 43.6368 - mae: 44.1791\n",
            "Epoch 36/60\n",
            "46/46 [==============================] - 4s 77ms/step - loss: 43.1940 - mae: 43.5142\n",
            "Epoch 37/60\n",
            "46/46 [==============================] - 4s 78ms/step - loss: 42.3517 - mae: 42.8541\n",
            "Epoch 38/60\n",
            "46/46 [==============================] - 4s 78ms/step - loss: 41.9169 - mae: 42.3444\n",
            "Epoch 39/60\n",
            "46/46 [==============================] - 4s 76ms/step - loss: 41.4856 - mae: 42.0090\n",
            "Epoch 40/60\n",
            "46/46 [==============================] - 4s 77ms/step - loss: 41.0242 - mae: 41.5401\n",
            "Epoch 41/60\n",
            "46/46 [==============================] - 4s 78ms/step - loss: 40.6172 - mae: 41.2082\n",
            "Epoch 42/60\n",
            "46/46 [==============================] - 4s 78ms/step - loss: 40.3690 - mae: 40.9215\n",
            "Epoch 43/60\n",
            "46/46 [==============================] - 4s 78ms/step - loss: 40.1282 - mae: 40.5907\n",
            "Epoch 44/60\n",
            "46/46 [==============================] - 4s 77ms/step - loss: 39.9400 - mae: 40.4179\n",
            "Epoch 45/60\n",
            "46/46 [==============================] - 4s 77ms/step - loss: 39.8178 - mae: 40.2808\n",
            "Epoch 46/60\n",
            "46/46 [==============================] - 4s 78ms/step - loss: 39.5087 - mae: 39.9348\n",
            "Epoch 47/60\n",
            "46/46 [==============================] - 4s 77ms/step - loss: 39.1476 - mae: 39.7375\n",
            "Epoch 48/60\n",
            "46/46 [==============================] - 4s 77ms/step - loss: 39.0396 - mae: 39.4855\n",
            "Epoch 49/60\n",
            "46/46 [==============================] - 4s 78ms/step - loss: 39.2007 - mae: 39.7272\n",
            "Epoch 50/60\n",
            "46/46 [==============================] - 4s 78ms/step - loss: 38.8054 - mae: 39.2257\n",
            "Epoch 51/60\n",
            "46/46 [==============================] - 4s 78ms/step - loss: 38.6742 - mae: 39.2310\n",
            "Epoch 52/60\n",
            "46/46 [==============================] - 4s 77ms/step - loss: 38.6204 - mae: 39.1210\n",
            "Epoch 53/60\n",
            "46/46 [==============================] - 4s 78ms/step - loss: 38.3680 - mae: 38.9709\n",
            "Epoch 54/60\n",
            "46/46 [==============================] - 4s 78ms/step - loss: 38.4770 - mae: 39.0104\n",
            "Epoch 55/60\n",
            "46/46 [==============================] - 4s 77ms/step - loss: 39.1446 - mae: 39.5371\n",
            "Epoch 56/60\n",
            "46/46 [==============================] - 4s 77ms/step - loss: 37.8680 - mae: 38.2304\n",
            "Epoch 57/60\n",
            "46/46 [==============================] - 4s 76ms/step - loss: 38.0158 - mae: 38.5149\n",
            "Epoch 58/60\n",
            "46/46 [==============================] - 4s 76ms/step - loss: 39.5607 - mae: 40.1357\n",
            "Epoch 59/60\n",
            "46/46 [==============================] - 4s 77ms/step - loss: 38.8792 - mae: 39.3104\n",
            "Epoch 60/60\n",
            "46/46 [==============================] - 4s 77ms/step - loss: 37.8095 - mae: 38.4887\n"
          ],
          "name": "stdout"
        }
      ]
    },
    {
      "cell_type": "code",
      "metadata": {
        "id": "X7etV-FkBLrc",
        "colab_type": "code",
        "colab": {
          "base_uri": "https://localhost:8080/",
          "height": 904
        },
        "outputId": "5c832a76-d00e-4d18-c249-d6d86ec5f1db"
      },
      "source": [
        "\n",
        "import matplotlib.image  as mpimg\n",
        "import matplotlib.pyplot as plt\n",
        "\n",
        "#-----------------------------------------------------------\n",
        "# Retrieve a list of list results on training and test data\n",
        "# sets for each training epoch\n",
        "#-----------------------------------------------------------\n",
        "loss=history.history['loss']\n",
        "epochs=range(len(loss)) # Get number of epochs\n",
        "#------------------------------------------------\n",
        "# Plot training and validation loss per epoch\n",
        "#------------------------------------------------\n",
        "plt.plot(epochs, loss, 'r')\n",
        "plt.title('Training loss')\n",
        "plt.xlabel(\"Epochs\")\n",
        "plt.ylabel(\"Loss\")\n",
        "plt.legend([\"Loss\"])\n",
        "plt.figure()\n",
        "\n",
        "\n",
        "zoomed_loss = loss[200:]\n",
        "zoomed_epochs = range(200,500)\n",
        "#------------------------------------------------\n",
        "# Plot training and validation loss per epoch\n",
        "#------------------------------------------------\n",
        "plt.plot(zoomed_epochs, zoomed_loss, 'r')\n",
        "plt.title('Training loss')\n",
        "plt.xlabel(\"Epochs\")\n",
        "plt.ylabel(\"Loss\")\n",
        "plt.legend([\"Loss\"])\n",
        "\n",
        "plt.figure()"
      ],
      "execution_count": 35,
      "outputs": [
        {
          "output_type": "error",
          "ename": "ValueError",
          "evalue": "ignored",
          "traceback": [
            "\u001b[0;31m---------------------------------------------------------------------------\u001b[0m",
            "\u001b[0;31mValueError\u001b[0m                                Traceback (most recent call last)",
            "\u001b[0;32m<ipython-input-35-01f7e2220aea>\u001b[0m in \u001b[0;36m<module>\u001b[0;34m()\u001b[0m\n\u001b[1;32m     25\u001b[0m \u001b[0;31m# Plot training and validation loss per epoch\u001b[0m\u001b[0;34m\u001b[0m\u001b[0;34m\u001b[0m\u001b[0;34m\u001b[0m\u001b[0m\n\u001b[1;32m     26\u001b[0m \u001b[0;31m#------------------------------------------------\u001b[0m\u001b[0;34m\u001b[0m\u001b[0;34m\u001b[0m\u001b[0;34m\u001b[0m\u001b[0m\n\u001b[0;32m---> 27\u001b[0;31m \u001b[0mplt\u001b[0m\u001b[0;34m.\u001b[0m\u001b[0mplot\u001b[0m\u001b[0;34m(\u001b[0m\u001b[0mzoomed_epochs\u001b[0m\u001b[0;34m,\u001b[0m \u001b[0mzoomed_loss\u001b[0m\u001b[0;34m,\u001b[0m \u001b[0;34m'r'\u001b[0m\u001b[0;34m)\u001b[0m\u001b[0;34m\u001b[0m\u001b[0;34m\u001b[0m\u001b[0m\n\u001b[0m\u001b[1;32m     28\u001b[0m \u001b[0mplt\u001b[0m\u001b[0;34m.\u001b[0m\u001b[0mtitle\u001b[0m\u001b[0;34m(\u001b[0m\u001b[0;34m'Training loss'\u001b[0m\u001b[0;34m)\u001b[0m\u001b[0;34m\u001b[0m\u001b[0;34m\u001b[0m\u001b[0m\n\u001b[1;32m     29\u001b[0m \u001b[0mplt\u001b[0m\u001b[0;34m.\u001b[0m\u001b[0mxlabel\u001b[0m\u001b[0;34m(\u001b[0m\u001b[0;34m\"Epochs\"\u001b[0m\u001b[0;34m)\u001b[0m\u001b[0;34m\u001b[0m\u001b[0;34m\u001b[0m\u001b[0m\n",
            "\u001b[0;32m/usr/local/lib/python3.6/dist-packages/matplotlib/pyplot.py\u001b[0m in \u001b[0;36mplot\u001b[0;34m(scalex, scaley, data, *args, **kwargs)\u001b[0m\n\u001b[1;32m   2761\u001b[0m     return gca().plot(\n\u001b[1;32m   2762\u001b[0m         *args, scalex=scalex, scaley=scaley, **({\"data\": data} if data\n\u001b[0;32m-> 2763\u001b[0;31m         is not None else {}), **kwargs)\n\u001b[0m\u001b[1;32m   2764\u001b[0m \u001b[0;34m\u001b[0m\u001b[0m\n\u001b[1;32m   2765\u001b[0m \u001b[0;34m\u001b[0m\u001b[0m\n",
            "\u001b[0;32m/usr/local/lib/python3.6/dist-packages/matplotlib/axes/_axes.py\u001b[0m in \u001b[0;36mplot\u001b[0;34m(self, scalex, scaley, data, *args, **kwargs)\u001b[0m\n\u001b[1;32m   1644\u001b[0m         \"\"\"\n\u001b[1;32m   1645\u001b[0m         \u001b[0mkwargs\u001b[0m \u001b[0;34m=\u001b[0m \u001b[0mcbook\u001b[0m\u001b[0;34m.\u001b[0m\u001b[0mnormalize_kwargs\u001b[0m\u001b[0;34m(\u001b[0m\u001b[0mkwargs\u001b[0m\u001b[0;34m,\u001b[0m \u001b[0mmlines\u001b[0m\u001b[0;34m.\u001b[0m\u001b[0mLine2D\u001b[0m\u001b[0;34m)\u001b[0m\u001b[0;34m\u001b[0m\u001b[0;34m\u001b[0m\u001b[0m\n\u001b[0;32m-> 1646\u001b[0;31m         \u001b[0mlines\u001b[0m \u001b[0;34m=\u001b[0m \u001b[0;34m[\u001b[0m\u001b[0;34m*\u001b[0m\u001b[0mself\u001b[0m\u001b[0;34m.\u001b[0m\u001b[0m_get_lines\u001b[0m\u001b[0;34m(\u001b[0m\u001b[0;34m*\u001b[0m\u001b[0margs\u001b[0m\u001b[0;34m,\u001b[0m \u001b[0mdata\u001b[0m\u001b[0;34m=\u001b[0m\u001b[0mdata\u001b[0m\u001b[0;34m,\u001b[0m \u001b[0;34m**\u001b[0m\u001b[0mkwargs\u001b[0m\u001b[0;34m)\u001b[0m\u001b[0;34m]\u001b[0m\u001b[0;34m\u001b[0m\u001b[0;34m\u001b[0m\u001b[0m\n\u001b[0m\u001b[1;32m   1647\u001b[0m         \u001b[0;32mfor\u001b[0m \u001b[0mline\u001b[0m \u001b[0;32min\u001b[0m \u001b[0mlines\u001b[0m\u001b[0;34m:\u001b[0m\u001b[0;34m\u001b[0m\u001b[0;34m\u001b[0m\u001b[0m\n\u001b[1;32m   1648\u001b[0m             \u001b[0mself\u001b[0m\u001b[0;34m.\u001b[0m\u001b[0madd_line\u001b[0m\u001b[0;34m(\u001b[0m\u001b[0mline\u001b[0m\u001b[0;34m)\u001b[0m\u001b[0;34m\u001b[0m\u001b[0;34m\u001b[0m\u001b[0m\n",
            "\u001b[0;32m/usr/local/lib/python3.6/dist-packages/matplotlib/axes/_base.py\u001b[0m in \u001b[0;36m__call__\u001b[0;34m(self, *args, **kwargs)\u001b[0m\n\u001b[1;32m    214\u001b[0m                 \u001b[0mthis\u001b[0m \u001b[0;34m+=\u001b[0m \u001b[0margs\u001b[0m\u001b[0;34m[\u001b[0m\u001b[0;36m0\u001b[0m\u001b[0;34m]\u001b[0m\u001b[0;34m,\u001b[0m\u001b[0;34m\u001b[0m\u001b[0;34m\u001b[0m\u001b[0m\n\u001b[1;32m    215\u001b[0m                 \u001b[0margs\u001b[0m \u001b[0;34m=\u001b[0m \u001b[0margs\u001b[0m\u001b[0;34m[\u001b[0m\u001b[0;36m1\u001b[0m\u001b[0;34m:\u001b[0m\u001b[0;34m]\u001b[0m\u001b[0;34m\u001b[0m\u001b[0;34m\u001b[0m\u001b[0m\n\u001b[0;32m--> 216\u001b[0;31m             \u001b[0;32myield\u001b[0m \u001b[0;32mfrom\u001b[0m \u001b[0mself\u001b[0m\u001b[0;34m.\u001b[0m\u001b[0m_plot_args\u001b[0m\u001b[0;34m(\u001b[0m\u001b[0mthis\u001b[0m\u001b[0;34m,\u001b[0m \u001b[0mkwargs\u001b[0m\u001b[0;34m)\u001b[0m\u001b[0;34m\u001b[0m\u001b[0;34m\u001b[0m\u001b[0m\n\u001b[0m\u001b[1;32m    217\u001b[0m \u001b[0;34m\u001b[0m\u001b[0m\n\u001b[1;32m    218\u001b[0m     \u001b[0;32mdef\u001b[0m \u001b[0mget_next_color\u001b[0m\u001b[0;34m(\u001b[0m\u001b[0mself\u001b[0m\u001b[0;34m)\u001b[0m\u001b[0;34m:\u001b[0m\u001b[0;34m\u001b[0m\u001b[0;34m\u001b[0m\u001b[0m\n",
            "\u001b[0;32m/usr/local/lib/python3.6/dist-packages/matplotlib/axes/_base.py\u001b[0m in \u001b[0;36m_plot_args\u001b[0;34m(self, tup, kwargs)\u001b[0m\n\u001b[1;32m    340\u001b[0m \u001b[0;34m\u001b[0m\u001b[0m\n\u001b[1;32m    341\u001b[0m         \u001b[0;32mif\u001b[0m \u001b[0mx\u001b[0m\u001b[0;34m.\u001b[0m\u001b[0mshape\u001b[0m\u001b[0;34m[\u001b[0m\u001b[0;36m0\u001b[0m\u001b[0;34m]\u001b[0m \u001b[0;34m!=\u001b[0m \u001b[0my\u001b[0m\u001b[0;34m.\u001b[0m\u001b[0mshape\u001b[0m\u001b[0;34m[\u001b[0m\u001b[0;36m0\u001b[0m\u001b[0;34m]\u001b[0m\u001b[0;34m:\u001b[0m\u001b[0;34m\u001b[0m\u001b[0;34m\u001b[0m\u001b[0m\n\u001b[0;32m--> 342\u001b[0;31m             raise ValueError(f\"x and y must have same first dimension, but \"\n\u001b[0m\u001b[1;32m    343\u001b[0m                              f\"have shapes {x.shape} and {y.shape}\")\n\u001b[1;32m    344\u001b[0m         \u001b[0;32mif\u001b[0m \u001b[0mx\u001b[0m\u001b[0;34m.\u001b[0m\u001b[0mndim\u001b[0m \u001b[0;34m>\u001b[0m \u001b[0;36m2\u001b[0m \u001b[0;32mor\u001b[0m \u001b[0my\u001b[0m\u001b[0;34m.\u001b[0m\u001b[0mndim\u001b[0m \u001b[0;34m>\u001b[0m \u001b[0;36m2\u001b[0m\u001b[0;34m:\u001b[0m\u001b[0;34m\u001b[0m\u001b[0;34m\u001b[0m\u001b[0m\n",
            "\u001b[0;31mValueError\u001b[0m: x and y must have same first dimension, but have shapes (300,) and (0,)"
          ]
        },
        {
          "output_type": "display_data",
          "data": {
            "image/png": "[encoded data removed]",
            "text/plain": [
              "<Figure size 432x288 with 1 Axes>"
            ]
          },
          "metadata": {
            "tags": [],
            "needs_background": "light"
          }
        },
        {
          "output_type": "display_data",
          "data": {
            "image/png": "[encoded data removed]",
            "text/plain": [
              "<Figure size 432x288 with 1 Axes>"
            ]
          },
          "metadata": {
            "tags": [],
            "needs_background": "light"
          }
        }
      ]
    },
    {
      "cell_type": "code",
      "metadata": {
        "id": "o_01NSixBbAa",
        "colab_type": "code",
        "colab": {}
      },
      "source": [
        "def model_forecast(model, series, window_size):\n",
        "    ds = tf.data.Dataset.from_tensor_slices(series)\n",
        "    ds = ds.window(window_size, shift=1, drop_remainder=True)\n",
        "    ds = ds.flat_map(lambda w: w.batch(window_size))\n",
        "    ds = ds.batch(32).prefetch(1)\n",
        "    forecast = model.predict(ds)\n",
        "    return forecast"
      ],
      "execution_count": 0,
      "outputs": []
    },
    {
      "cell_type": "code",
      "metadata": {
        "id": "GkOyJBSXS6pb",
        "colab_type": "code",
        "colab": {}
      },
      "source": [
        "rnn_forecast = model_forecast(model, series[..., np.newaxis], window_size)\n",
        "rnn_forecast = rnn_forecast[split_time - window_size:-1, -1, 0]"
      ],
      "execution_count": 0,
      "outputs": []
    },
    {
      "cell_type": "code",
      "metadata": {
        "id": "UCHPvimCS6wu",
        "colab_type": "code",
        "colab": {
          "base_uri": "https://localhost:8080/",
          "height": 388
        },
        "outputId": "833d2e4d-dc46-4ca2-a38d-f1574f5842a4"
      },
      "source": [
        "plt.figure(figsize=(10, 6))\n",
        "plot_series(time_valid, x_valid)\n",
        "plot_series(time_valid, rnn_forecast)"
      ],
      "execution_count": 37,
      "outputs": [
        {
          "output_type": "display_data",
          "data": {
            "image/png": "[encoded data removed]",
            "text/plain": [
              "<Figure size 720x432 with 1 Axes>"
            ]
          },
          "metadata": {
            "tags": [],
            "needs_background": "light"
          }
        }
      ]
    },
    {
      "cell_type": "code",
      "metadata": {
        "id": "bkYEraClS64W",
        "colab_type": "code",
        "colab": {}
      },
      "source": [
        ""
      ],
      "execution_count": 0,
      "outputs": []
    },
    {
      "cell_type": "code",
      "metadata": {
        "id": "DWhi8IM4-ooo",
        "colab_type": "code",
        "colab": {
          "base_uri": "https://localhost:8080/",
          "height": 129
        },
        "outputId": "0a77a073-1685-4c84-dbeb-acb39faad20e"
      },
      "source": [
        "train_set = windowed_dataset(x_train,window_size=60,batch_size=250, shuffle_buffer_size)\n",
        "\n",
        "model=tf.keras.models.Sequential([\n",
        "  tf.keras.layers.Conv1D(filters=60,kernel_size=5,strides=1, padding=\"causal\",\n",
        "                         activation=\"relu\",input_shape=[None,1]), #1D convolution con 32 filtros                             \n",
        "  tf.keras.layers.LSTM(32,return_sequences=True),#capa single LSTM de 32 celdas\n",
        "  tf.keras.layers.LSTM(32,return_sequences=True),#capa LSTM con 32 celdas\n",
        "  tf.keras.layers.Dense(30,activation=\"relu\"),#Deep Neural Network\n",
        "  tf.keras.layers.Dense(10,activation=\"relu\"),\n",
        "  tf.keras.layers.Dense(1), #neurona de salida\n",
        "  #tf.keras.layers.Dense(1), #neurona de salida\n",
        "  tf.keras.layers.Lambda(lambda x:x*400) #la capa lambda multiplica la x por 400\n",
        "])\n",
        "\n",
        "optimizer=tf.keras.optimizers.SGD(lr=1e-5,momentum=0.9)\n",
        "\n",
        "model.compile(loss=tf.keras.losses.Huber(),\n",
        "              optimizer=optimizer,\n",
        "              metrics=[\"mae\"])\n",
        "history=model.fit(train_set,epochs=500)"
      ],
      "execution_count": 28,
      "outputs": [
        {
          "output_type": "error",
          "ename": "SyntaxError",
          "evalue": "ignored",
          "traceback": [
            "\u001b[0;36m  File \u001b[0;32m\"<ipython-input-28-e4e222d26e00>\"\u001b[0;36m, line \u001b[0;32m1\u001b[0m\n\u001b[0;31m    train_set = windowed_dataset(x_train,window_size=60,batch_size=250, shuffle_buffer_size)\u001b[0m\n\u001b[0m                                                                       ^\u001b[0m\n\u001b[0;31mSyntaxError\u001b[0m\u001b[0;31m:\u001b[0m positional argument follows keyword argument\n"
          ]
        }
      ]
    },
    {
      "cell_type": "code",
      "metadata": {
        "id": "PcHhzr50_WBF",
        "colab_type": "code",
        "colab": {
          "base_uri": "https://localhost:8080/",
          "height": 129
        },
        "outputId": "c326e493-837e-4579-c1c7-781116b618bd"
      },
      "source": [
        "train_set = windowed_dataset(x_train,window_size=60,batch_size=250, shuffle_buffer_size)\n",
        "\n",
        "model=tf.keras.models.Sequential([\n",
        "  tf.keras.layers.Conv1D(filters=32,kernel_size=5,strides=1, padding=\"causal\",\n",
        "                         activation=\"relu\",input_shape=[None,1]), #1D convolution con 32 filtros                             \n",
        "  tf.keras.layers.LSTM(60,return_sequences=True),#capa single LSTM de 32 celdas\n",
        "  tf.keras.layers.LSTM(60,return_sequences=True),#capa LSTM con 32 celdas\n",
        "  tf.keras.layers.Dense(30,activation=\"relu\"),#Deep Neural Network\n",
        "  tf.keras.layers.Dense(10,activation=\"relu\"),\n",
        "  tf.keras.layers.Dense(1), #neurona de salida\n",
        "  #tf.keras.layers.Dense(1), #neurona de salida\n",
        "  tf.keras.layers.Lambda(lambda x:x*400) #la capa lambda multiplica la x por 400\n",
        "])\n",
        "\n",
        "optimizer=tf.keras.optimizers.SGD(lr=1e-5,momentum=0.9)\n",
        "\n",
        "model.compile(loss=tf.keras.losses.Huber(),\n",
        "              optimizer=optimizer,\n",
        "              metrics=[\"mae\"])\n",
        "history=model.fit(train_set,epochs=500)"
      ],
      "execution_count": 31,
      "outputs": [
        {
          "output_type": "error",
          "ename": "SyntaxError",
          "evalue": "ignored",
          "traceback": [
            "\u001b[0;36m  File \u001b[0;32m\"<ipython-input-31-8d4cc8fc9618>\"\u001b[0;36m, line \u001b[0;32m1\u001b[0m\n\u001b[0;31m    train_set = windowed_dataset(x_train,window_size=60,batch_size=250, shuffle_buffer_size)\u001b[0m\n\u001b[0m                                                                       ^\u001b[0m\n\u001b[0;31mSyntaxError\u001b[0m\u001b[0;31m:\u001b[0m positional argument follows keyword argument\n"
          ]
        }
      ]
    },
    {
      "cell_type": "code",
      "metadata": {
        "id": "bTKB5Qmp6Mpm",
        "colab_type": "code",
        "colab": {
          "base_uri": "https://localhost:8080/",
          "height": 394
        },
        "outputId": "db6f23bc-7412-401a-bc95-27afb4ba2adc"
      },
      "source": [
        "forecast=[] #forecast Vs DAta\n",
        "#results=[]\n",
        "for time in range(len(series)-window_size):\n",
        "  forecast.append(model.predict(series[time:time+window_size][np.newaxis]))\n",
        "\n",
        "forecast=forecast[split_time-window_size:]\n",
        "results=np.array(forecast)[:,0,0]\n",
        "\n",
        "plt.figure(figsize=(10,6))\n",
        "\n",
        "plot_series(time_valid, x_valid)\n",
        "plot_series(time_valid,results)"
      ],
      "execution_count": 38,
      "outputs": [
        {
          "output_type": "error",
          "ename": "ValueError",
          "evalue": "ignored",
          "traceback": [
            "\u001b[0;31m---------------------------------------------------------------------------\u001b[0m",
            "\u001b[0;31mValueError\u001b[0m                                Traceback (most recent call last)",
            "\u001b[0;32m<ipython-input-38-ed6e3a3feb67>\u001b[0m in \u001b[0;36m<module>\u001b[0;34m()\u001b[0m\n\u001b[1;32m      2\u001b[0m \u001b[0;31m#results=[]\u001b[0m\u001b[0;34m\u001b[0m\u001b[0;34m\u001b[0m\u001b[0;34m\u001b[0m\u001b[0m\n\u001b[1;32m      3\u001b[0m \u001b[0;32mfor\u001b[0m \u001b[0mtime\u001b[0m \u001b[0;32min\u001b[0m \u001b[0mrange\u001b[0m\u001b[0;34m(\u001b[0m\u001b[0mlen\u001b[0m\u001b[0;34m(\u001b[0m\u001b[0mseries\u001b[0m\u001b[0;34m)\u001b[0m\u001b[0;34m-\u001b[0m\u001b[0mwindow_size\u001b[0m\u001b[0;34m)\u001b[0m\u001b[0;34m:\u001b[0m\u001b[0;34m\u001b[0m\u001b[0;34m\u001b[0m\u001b[0m\n\u001b[0;32m----> 4\u001b[0;31m   \u001b[0mforecast\u001b[0m\u001b[0;34m.\u001b[0m\u001b[0mappend\u001b[0m\u001b[0;34m(\u001b[0m\u001b[0mmodel\u001b[0m\u001b[0;34m.\u001b[0m\u001b[0mpredict\u001b[0m\u001b[0;34m(\u001b[0m\u001b[0mseries\u001b[0m\u001b[0;34m[\u001b[0m\u001b[0mtime\u001b[0m\u001b[0;34m:\u001b[0m\u001b[0mtime\u001b[0m\u001b[0;34m+\u001b[0m\u001b[0mwindow_size\u001b[0m\u001b[0;34m]\u001b[0m\u001b[0;34m[\u001b[0m\u001b[0mnp\u001b[0m\u001b[0;34m.\u001b[0m\u001b[0mnewaxis\u001b[0m\u001b[0;34m]\u001b[0m\u001b[0;34m)\u001b[0m\u001b[0;34m)\u001b[0m\u001b[0;34m\u001b[0m\u001b[0;34m\u001b[0m\u001b[0m\n\u001b[0m\u001b[1;32m      5\u001b[0m \u001b[0;34m\u001b[0m\u001b[0m\n\u001b[1;32m      6\u001b[0m \u001b[0mforecast\u001b[0m\u001b[0;34m=\u001b[0m\u001b[0mforecast\u001b[0m\u001b[0;34m[\u001b[0m\u001b[0msplit_time\u001b[0m\u001b[0;34m-\u001b[0m\u001b[0mwindow_size\u001b[0m\u001b[0;34m:\u001b[0m\u001b[0;34m]\u001b[0m\u001b[0;34m\u001b[0m\u001b[0;34m\u001b[0m\u001b[0m\n",
            "\u001b[0;32m/usr/local/lib/python3.6/dist-packages/tensorflow_core/python/keras/engine/training.py\u001b[0m in \u001b[0;36mpredict\u001b[0;34m(self, x, batch_size, verbose, steps, callbacks, max_queue_size, workers, use_multiprocessing)\u001b[0m\n\u001b[1;32m    907\u001b[0m         \u001b[0mmax_queue_size\u001b[0m\u001b[0;34m=\u001b[0m\u001b[0mmax_queue_size\u001b[0m\u001b[0;34m,\u001b[0m\u001b[0;34m\u001b[0m\u001b[0;34m\u001b[0m\u001b[0m\n\u001b[1;32m    908\u001b[0m         \u001b[0mworkers\u001b[0m\u001b[0;34m=\u001b[0m\u001b[0mworkers\u001b[0m\u001b[0;34m,\u001b[0m\u001b[0;34m\u001b[0m\u001b[0;34m\u001b[0m\u001b[0m\n\u001b[0;32m--> 909\u001b[0;31m         use_multiprocessing=use_multiprocessing)\n\u001b[0m\u001b[1;32m    910\u001b[0m \u001b[0;34m\u001b[0m\u001b[0m\n\u001b[1;32m    911\u001b[0m   \u001b[0;32mdef\u001b[0m \u001b[0mreset_metrics\u001b[0m\u001b[0;34m(\u001b[0m\u001b[0mself\u001b[0m\u001b[0;34m)\u001b[0m\u001b[0;34m:\u001b[0m\u001b[0;34m\u001b[0m\u001b[0;34m\u001b[0m\u001b[0m\n",
            "\u001b[0;32m/usr/local/lib/python3.6/dist-packages/tensorflow_core/python/keras/engine/training_v2.py\u001b[0m in \u001b[0;36mpredict\u001b[0;34m(self, model, x, batch_size, verbose, steps, callbacks, **kwargs)\u001b[0m\n\u001b[1;32m    460\u001b[0m     return self._model_iteration(\n\u001b[1;32m    461\u001b[0m         \u001b[0mmodel\u001b[0m\u001b[0;34m,\u001b[0m \u001b[0mModeKeys\u001b[0m\u001b[0;34m.\u001b[0m\u001b[0mPREDICT\u001b[0m\u001b[0;34m,\u001b[0m \u001b[0mx\u001b[0m\u001b[0;34m=\u001b[0m\u001b[0mx\u001b[0m\u001b[0;34m,\u001b[0m \u001b[0mbatch_size\u001b[0m\u001b[0;34m=\u001b[0m\u001b[0mbatch_size\u001b[0m\u001b[0;34m,\u001b[0m \u001b[0mverbose\u001b[0m\u001b[0;34m=\u001b[0m\u001b[0mverbose\u001b[0m\u001b[0;34m,\u001b[0m\u001b[0;34m\u001b[0m\u001b[0;34m\u001b[0m\u001b[0m\n\u001b[0;32m--> 462\u001b[0;31m         steps=steps, callbacks=callbacks, **kwargs)\n\u001b[0m\u001b[1;32m    463\u001b[0m \u001b[0;34m\u001b[0m\u001b[0m\n\u001b[1;32m    464\u001b[0m \u001b[0;34m\u001b[0m\u001b[0m\n",
            "\u001b[0;32m/usr/local/lib/python3.6/dist-packages/tensorflow_core/python/keras/engine/training_v2.py\u001b[0m in \u001b[0;36m_model_iteration\u001b[0;34m(self, model, mode, x, y, batch_size, verbose, sample_weight, steps, callbacks, **kwargs)\u001b[0m\n\u001b[1;32m    394\u001b[0m           \u001b[0msample_weights\u001b[0m\u001b[0;34m=\u001b[0m\u001b[0msample_weight\u001b[0m\u001b[0;34m,\u001b[0m\u001b[0;34m\u001b[0m\u001b[0;34m\u001b[0m\u001b[0m\n\u001b[1;32m    395\u001b[0m           \u001b[0msteps\u001b[0m\u001b[0;34m=\u001b[0m\u001b[0msteps\u001b[0m\u001b[0;34m,\u001b[0m\u001b[0;34m\u001b[0m\u001b[0;34m\u001b[0m\u001b[0m\n\u001b[0;32m--> 396\u001b[0;31m           distribution_strategy=strategy)\n\u001b[0m\u001b[1;32m    397\u001b[0m       \u001b[0mtotal_samples\u001b[0m \u001b[0;34m=\u001b[0m \u001b[0m_get_total_number_of_samples\u001b[0m\u001b[0;34m(\u001b[0m\u001b[0madapter\u001b[0m\u001b[0;34m)\u001b[0m\u001b[0;34m\u001b[0m\u001b[0;34m\u001b[0m\u001b[0m\n\u001b[1;32m    398\u001b[0m       \u001b[0muse_sample\u001b[0m \u001b[0;34m=\u001b[0m \u001b[0mtotal_samples\u001b[0m \u001b[0;32mis\u001b[0m \u001b[0;32mnot\u001b[0m \u001b[0;32mNone\u001b[0m\u001b[0;34m\u001b[0m\u001b[0;34m\u001b[0m\u001b[0m\n",
            "\u001b[0;32m/usr/local/lib/python3.6/dist-packages/tensorflow_core/python/keras/engine/training_v2.py\u001b[0m in \u001b[0;36m_process_inputs\u001b[0;34m(model, x, y, batch_size, epochs, sample_weights, class_weights, shuffle, steps, distribution_strategy, max_queue_size, workers, use_multiprocessing)\u001b[0m\n\u001b[1;32m    592\u001b[0m         \u001b[0mbatch_size\u001b[0m\u001b[0;34m=\u001b[0m\u001b[0mbatch_size\u001b[0m\u001b[0;34m,\u001b[0m\u001b[0;34m\u001b[0m\u001b[0;34m\u001b[0m\u001b[0m\n\u001b[1;32m    593\u001b[0m         \u001b[0mcheck_steps\u001b[0m\u001b[0;34m=\u001b[0m\u001b[0;32mFalse\u001b[0m\u001b[0;34m,\u001b[0m\u001b[0;34m\u001b[0m\u001b[0;34m\u001b[0m\u001b[0m\n\u001b[0;32m--> 594\u001b[0;31m         steps=steps)\n\u001b[0m\u001b[1;32m    595\u001b[0m   adapter = adapter_cls(\n\u001b[1;32m    596\u001b[0m       \u001b[0mx\u001b[0m\u001b[0;34m,\u001b[0m\u001b[0;34m\u001b[0m\u001b[0;34m\u001b[0m\u001b[0m\n",
            "\u001b[0;32m/usr/local/lib/python3.6/dist-packages/tensorflow_core/python/keras/engine/training.py\u001b[0m in \u001b[0;36m_standardize_user_data\u001b[0;34m(self, x, y, sample_weight, class_weight, batch_size, check_steps, steps_name, steps, validation_split, shuffle, extract_tensors_from_dataset)\u001b[0m\n\u001b[1;32m   2470\u001b[0m           \u001b[0mfeed_input_shapes\u001b[0m\u001b[0;34m,\u001b[0m\u001b[0;34m\u001b[0m\u001b[0;34m\u001b[0m\u001b[0m\n\u001b[1;32m   2471\u001b[0m           \u001b[0mcheck_batch_axis\u001b[0m\u001b[0;34m=\u001b[0m\u001b[0;32mFalse\u001b[0m\u001b[0;34m,\u001b[0m  \u001b[0;31m# Don't enforce the batch size.\u001b[0m\u001b[0;34m\u001b[0m\u001b[0;34m\u001b[0m\u001b[0m\n\u001b[0;32m-> 2472\u001b[0;31m           exception_prefix='input')\n\u001b[0m\u001b[1;32m   2473\u001b[0m \u001b[0;34m\u001b[0m\u001b[0m\n\u001b[1;32m   2474\u001b[0m     \u001b[0;31m# Get typespecs for the input data and sanitize it if necessary.\u001b[0m\u001b[0;34m\u001b[0m\u001b[0;34m\u001b[0m\u001b[0;34m\u001b[0m\u001b[0m\n",
            "\u001b[0;32m/usr/local/lib/python3.6/dist-packages/tensorflow_core/python/keras/engine/training_utils.py\u001b[0m in \u001b[0;36mstandardize_input_data\u001b[0;34m(data, names, shapes, check_batch_axis, exception_prefix)\u001b[0m\n\u001b[1;32m    563\u001b[0m                            \u001b[0;34m': expected '\u001b[0m \u001b[0;34m+\u001b[0m \u001b[0mnames\u001b[0m\u001b[0;34m[\u001b[0m\u001b[0mi\u001b[0m\u001b[0;34m]\u001b[0m \u001b[0;34m+\u001b[0m \u001b[0;34m' to have '\u001b[0m \u001b[0;34m+\u001b[0m\u001b[0;34m\u001b[0m\u001b[0;34m\u001b[0m\u001b[0m\n\u001b[1;32m    564\u001b[0m                            \u001b[0mstr\u001b[0m\u001b[0;34m(\u001b[0m\u001b[0mlen\u001b[0m\u001b[0;34m(\u001b[0m\u001b[0mshape\u001b[0m\u001b[0;34m)\u001b[0m\u001b[0;34m)\u001b[0m \u001b[0;34m+\u001b[0m \u001b[0;34m' dimensions, but got array '\u001b[0m\u001b[0;34m\u001b[0m\u001b[0;34m\u001b[0m\u001b[0m\n\u001b[0;32m--> 565\u001b[0;31m                            'with shape ' + str(data_shape))\n\u001b[0m\u001b[1;32m    566\u001b[0m         \u001b[0;32mif\u001b[0m \u001b[0;32mnot\u001b[0m \u001b[0mcheck_batch_axis\u001b[0m\u001b[0;34m:\u001b[0m\u001b[0;34m\u001b[0m\u001b[0;34m\u001b[0m\u001b[0m\n\u001b[1;32m    567\u001b[0m           \u001b[0mdata_shape\u001b[0m \u001b[0;34m=\u001b[0m \u001b[0mdata_shape\u001b[0m\u001b[0;34m[\u001b[0m\u001b[0;36m1\u001b[0m\u001b[0;34m:\u001b[0m\u001b[0;34m]\u001b[0m\u001b[0;34m\u001b[0m\u001b[0;34m\u001b[0m\u001b[0m\n",
            "\u001b[0;31mValueError\u001b[0m: Error when checking input: expected conv1d_input to have 3 dimensions, but got array with shape (1, 60)"
          ]
        }
      ]
    },
    {
      "cell_type": "markdown",
      "metadata": {
        "id": "mxl7vFmeVPoR",
        "colab_type": "text"
      },
      "source": [
        ""
      ]
    },
    {
      "cell_type": "code",
      "metadata": {
        "id": "nKv4x40w6upl",
        "colab_type": "code",
        "colab": {
          "base_uri": "https://localhost:8080/",
          "height": 34
        },
        "outputId": "1a6bbe25-fee2-4e6d-8d7b-8ef8c67a4a08"
      },
      "source": [
        "tf.keras.metrics.mean_absolute_error(x_valid, rnn_forecast).numpy()"
      ],
      "execution_count": 39,
      "outputs": [
        {
          "output_type": "execute_result",
          "data": {
            "text/plain": [
              "38.204918"
            ]
          },
          "metadata": {
            "tags": []
          },
          "execution_count": 39
        }
      ]
    },
    {
      "cell_type": "markdown",
      "metadata": {
        "id": "hFNo9JjiEbMg",
        "colab_type": "text"
      },
      "source": [
        ""
      ]
    },
    {
      "cell_type": "code",
      "metadata": {
        "id": "dj9YXlbKEb0x",
        "colab_type": "code",
        "colab": {}
      },
      "source": [
        "def windowed_dataset(series,window_size,batch_size,shuffle_buffer): #crear un dataset\n",
        "  series=tf.expand_dims(series, axis=-1) #create a dataset\n",
        "\n",
        "  ds=tf.data.Dataset.from_tensor_slices(series)\n",
        "  ds=ds.window(window_size+1,shift=1,drop_remainder=True)#to slice the data up into the appropriate windows\n",
        "  ds=ds.flat_map(lambda w: w.batch(window_size+1))#flatten the data out flatened into chunksin the suze of our window_size+1\n",
        "  ds=ds.shuffle(shuffle_buffer)\n",
        "  ds=ds.map(lambda w:(w[:-1],w[-1])) #shuflet it, choosing smaller number speeds\n",
        " \n",
        "  return ds.batch(batch_size).prefetch(1)#size parameter =2 corresponde Yb"
      ],
      "execution_count": 0,
      "outputs": []
    }
  ]
}