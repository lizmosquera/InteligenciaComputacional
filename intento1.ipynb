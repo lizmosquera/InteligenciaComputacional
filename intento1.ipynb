{
  "nbformat": 4,
  "nbformat_minor": 0,
  "metadata": {
    "colab": {
      "name": "intento1.ipynb",
      "provenance": [],
      "authorship_tag": "ABX9TyPGVswIFGnESa1UKRGD+B6e",
      "include_colab_link": true
    },
    "kernelspec": {
      "name": "python3",
      "display_name": "Python 3"
    }
  },
  "cells": [
    {
      "cell_type": "markdown",
      "metadata": {
        "id": "view-in-github",
        "colab_type": "text"
      },
      "source": [
        "<a href=\"https://colab.research.google.com/github/lizmosquera/InteligenciaComputacional/blob/master/intento1.ipynb\" target=\"_parent\"><img src=\"https://colab.research.google.com/assets/colab-badge.svg\" alt=\"Open In Colab\"/></a>"
      ]
    },
    {
      "cell_type": "code",
      "metadata": {
        "id": "iCpTVDVy5zPz",
        "colab_type": "code",
        "outputId": "8dc79f1d-4cd8-411e-b7ab-42faa1595305",
        "colab": {
          "base_uri": "https://localhost:8080/",
          "height": 51
        }
      },
      "source": [
        "!pip install tf_nightly-2.0-preview"
      ],
      "execution_count": 0,
      "outputs": [
        {
          "output_type": "stream",
          "text": [
            "\u001b[31mERROR: Could not find a version that satisfies the requirement tf_nightly-2.0-preview (from versions: none)\u001b[0m\n",
            "\u001b[31mERROR: No matching distribution found for tf_nightly-2.0-preview\u001b[0m\n"
          ],
          "name": "stdout"
        }
      ]
    },
    {
      "cell_type": "code",
      "metadata": {
        "id": "w_fTmEE86B7_",
        "colab_type": "code",
        "outputId": "c8b5ee20-87d8-4549-a7a2-573bfacacf0f",
        "colab": {
          "base_uri": "https://localhost:8080/",
          "height": 34
        }
      },
      "source": [
        "import tensorflow as tf\n",
        "print (tf.__version__)"
      ],
      "execution_count": 0,
      "outputs": [
        {
          "output_type": "stream",
          "text": [
            "2.2.0-rc3\n"
          ],
          "name": "stdout"
        }
      ]
    },
    {
      "cell_type": "code",
      "metadata": {
        "id": "YK_rVWp-6GYI",
        "colab_type": "code",
        "colab": {}
      },
      "source": [
        "import numpy as np\n",
        "import pandas as pd\n",
        "import os\n",
        "from sklearn.preprocessing import StandardScaler,MinMaxScaler\n",
        "import torch\n",
        "from torch.autograd import Variable\n",
        "import torch\n",
        "import matplotlib.pyplot as plt\n",
        "def plot_series(time,series,format=\"-\",start=0,end=None):\n",
        "  plt.plot(time[start:end],series[start:end],format)\n",
        "  plt.xlabel(\"Time\")\n",
        "  plt.ylabel(\"Value\")\n",
        "  plt.grid(True)\n"
      ],
      "execution_count": 0,
      "outputs": []
    },
    {
      "cell_type": "code",
      "metadata": {
        "id": "W9fFZY9sr5NI",
        "colab_type": "code",
        "outputId": "c00e8f56-3be7-43b4-c7c2-9116519f0c25",
        "colab": {
          "base_uri": "https://localhost:8080/",
          "height": 51
        }
      },
      "source": [
        "from tensorflow.keras.models import Sequential\n",
        "from tensorflow.keras.layers import Input, Dense, GRU, Embedding\n",
        "from tensorflow.keras.optimizers import RMSprop\n",
        "from tensorflow.keras.callbacks import EarlyStopping, ModelCheckpoint, TensorBoard, ReduceLROnPlateau\n",
        "from tensorflow.keras.backend import square, mean\n",
        "print (tf.keras.__version__)\n",
        "print (pd.__version__)"
      ],
      "execution_count": 0,
      "outputs": [
        {
          "output_type": "stream",
          "text": [
            "2.3.0-tf\n",
            "1.0.3\n"
          ],
          "name": "stdout"
        }
      ]
    },
    {
      "cell_type": "code",
      "metadata": {
        "id": "j2PvDqb5jC_U",
        "colab_type": "code",
        "outputId": "2a569759-4977-47d0-b9c6-11bf098d9abb",
        "colab": {
          "base_uri": "https://localhost:8080/",
          "height": 255
        }
      },
      "source": [
        "df = pd.read_csv('Datos_TRM.csv')\n",
        "df.index = df['Data Time']\n",
        "df.tail(5)"
      ],
      "execution_count": 0,
      "outputs": [
        {
          "output_type": "execute_result",
          "data": {
            "text/html": [
              "<div>\n",
              "<style scoped>\n",
              "    .dataframe tbody tr th:only-of-type {\n",
              "        vertical-align: middle;\n",
              "    }\n",
              "\n",
              "    .dataframe tbody tr th {\n",
              "        vertical-align: top;\n",
              "    }\n",
              "\n",
              "    .dataframe thead th {\n",
              "        text-align: right;\n",
              "    }\n",
              "</style>\n",
              "<table border=\"1\" class=\"dataframe\">\n",
              "  <thead>\n",
              "    <tr style=\"text-align: right;\">\n",
              "      <th></th>\n",
              "      <th>Index</th>\n",
              "      <th>Data Time</th>\n",
              "      <th>TRM</th>\n",
              "      <th>TRM_logn</th>\n",
              "      <th>IBR</th>\n",
              "      <th>YTES1Y_COP</th>\n",
              "      <th>YTES5Y_COP</th>\n",
              "      <th>YTES10Y_COP</th>\n",
              "      <th>YTES1Y_UVR</th>\n",
              "      <th>YTES5Y_UVR</th>\n",
              "      <th>YTES10Y_UVR</th>\n",
              "      <th>FF_EfcRate</th>\n",
              "      <th>FF_UB</th>\n",
              "      <th>WTI_USD</th>\n",
              "      <th>GOLD_USD</th>\n",
              "      <th>VAR_TRM</th>\n",
              "      <th>VAR_LNTRM</th>\n",
              "      <th>MM_5</th>\n",
              "      <th>MM_20</th>\n",
              "    </tr>\n",
              "    <tr>\n",
              "      <th>Data Time</th>\n",
              "      <th></th>\n",
              "      <th></th>\n",
              "      <th></th>\n",
              "      <th></th>\n",
              "      <th></th>\n",
              "      <th></th>\n",
              "      <th></th>\n",
              "      <th></th>\n",
              "      <th></th>\n",
              "      <th></th>\n",
              "      <th></th>\n",
              "      <th></th>\n",
              "      <th></th>\n",
              "      <th></th>\n",
              "      <th></th>\n",
              "      <th></th>\n",
              "      <th></th>\n",
              "      <th></th>\n",
              "      <th></th>\n",
              "    </tr>\n",
              "  </thead>\n",
              "  <tbody>\n",
              "    <tr>\n",
              "      <th>24/04/2020</th>\n",
              "      <td>1276</td>\n",
              "      <td>24/04/2020</td>\n",
              "      <td>4020.94</td>\n",
              "      <td>8.299271</td>\n",
              "      <td>0.03706</td>\n",
              "      <td>0.038254</td>\n",
              "      <td>0.058496</td>\n",
              "      <td>0.073216</td>\n",
              "      <td>0.01906</td>\n",
              "      <td>0.027594</td>\n",
              "      <td>0.031409</td>\n",
              "      <td>0.05</td>\n",
              "      <td>0.25</td>\n",
              "      <td>16.94</td>\n",
              "      <td>1735.6</td>\n",
              "      <td>-17.01</td>\n",
              "      <td>-0.004221</td>\n",
              "      <td>4008.944</td>\n",
              "      <td>3990.5985</td>\n",
              "    </tr>\n",
              "    <tr>\n",
              "      <th>27/04/2020</th>\n",
              "      <td>1277</td>\n",
              "      <td>27/04/2020</td>\n",
              "      <td>4039.87</td>\n",
              "      <td>8.303968</td>\n",
              "      <td>0.03675</td>\n",
              "      <td>0.038254</td>\n",
              "      <td>0.058496</td>\n",
              "      <td>0.073216</td>\n",
              "      <td>0.01906</td>\n",
              "      <td>0.027594</td>\n",
              "      <td>0.031409</td>\n",
              "      <td>0.04</td>\n",
              "      <td>0.25</td>\n",
              "      <td>12.78</td>\n",
              "      <td>1723.8</td>\n",
              "      <td>18.93</td>\n",
              "      <td>0.004697</td>\n",
              "      <td>4022.306</td>\n",
              "      <td>3988.2750</td>\n",
              "    </tr>\n",
              "    <tr>\n",
              "      <th>28/04/2020</th>\n",
              "      <td>1278</td>\n",
              "      <td>28/04/2020</td>\n",
              "      <td>4039.83</td>\n",
              "      <td>8.303958</td>\n",
              "      <td>0.03677</td>\n",
              "      <td>0.038254</td>\n",
              "      <td>0.058496</td>\n",
              "      <td>0.073216</td>\n",
              "      <td>0.01906</td>\n",
              "      <td>0.027594</td>\n",
              "      <td>0.031409</td>\n",
              "      <td>0.04</td>\n",
              "      <td>0.25</td>\n",
              "      <td>12.34</td>\n",
              "      <td>1722.2</td>\n",
              "      <td>-0.04</td>\n",
              "      <td>-0.000010</td>\n",
              "      <td>4036.720</td>\n",
              "      <td>3990.4750</td>\n",
              "    </tr>\n",
              "    <tr>\n",
              "      <th>29/04/2020</th>\n",
              "      <td>1279</td>\n",
              "      <td>29/04/2020</td>\n",
              "      <td>4046.04</td>\n",
              "      <td>8.305494</td>\n",
              "      <td>0.03712</td>\n",
              "      <td>0.038254</td>\n",
              "      <td>0.058496</td>\n",
              "      <td>0.073216</td>\n",
              "      <td>0.01906</td>\n",
              "      <td>0.027594</td>\n",
              "      <td>0.031409</td>\n",
              "      <td>0.04</td>\n",
              "      <td>0.25</td>\n",
              "      <td>15.06</td>\n",
              "      <td>1713.4</td>\n",
              "      <td>6.21</td>\n",
              "      <td>0.001536</td>\n",
              "      <td>4036.926</td>\n",
              "      <td>3990.6370</td>\n",
              "    </tr>\n",
              "    <tr>\n",
              "      <th>30/04/2020</th>\n",
              "      <td>1280</td>\n",
              "      <td>30/04/2020</td>\n",
              "      <td>3983.29</td>\n",
              "      <td>8.289863</td>\n",
              "      <td>0.03712</td>\n",
              "      <td>0.038254</td>\n",
              "      <td>0.058496</td>\n",
              "      <td>0.073216</td>\n",
              "      <td>0.01906</td>\n",
              "      <td>0.027594</td>\n",
              "      <td>0.031409</td>\n",
              "      <td>0.04</td>\n",
              "      <td>0.25</td>\n",
              "      <td>15.06</td>\n",
              "      <td>1713.4</td>\n",
              "      <td>-62.75</td>\n",
              "      <td>-0.015631</td>\n",
              "      <td>4025.994</td>\n",
              "      <td>3986.5610</td>\n",
              "    </tr>\n",
              "  </tbody>\n",
              "</table>\n",
              "</div>"
            ],
            "text/plain": [
              "            Index   Data Time      TRM  ...  VAR_LNTRM      MM_5      MM_20\n",
              "Data Time                               ...                                \n",
              "24/04/2020   1276  24/04/2020  4020.94  ...  -0.004221  4008.944  3990.5985\n",
              "27/04/2020   1277  27/04/2020  4039.87  ...   0.004697  4022.306  3988.2750\n",
              "28/04/2020   1278  28/04/2020  4039.83  ...  -0.000010  4036.720  3990.4750\n",
              "29/04/2020   1279  29/04/2020  4046.04  ...   0.001536  4036.926  3990.6370\n",
              "30/04/2020   1280  30/04/2020  3983.29  ...  -0.015631  4025.994  3986.5610\n",
              "\n",
              "[5 rows x 19 columns]"
            ]
          },
          "metadata": {
            "tags": []
          },
          "execution_count": 42
        }
      ]
    },
    {
      "cell_type": "code",
      "metadata": {
        "id": "-Ten7rydi-h_",
        "colab_type": "code",
        "outputId": "d28b0be4-4970-4c91-f3fd-5662c3d1e7e7",
        "colab": {
          "base_uri": "https://localhost:8080/",
          "height": 102
        }
      },
      "source": [
        "df.columns"
      ],
      "execution_count": 0,
      "outputs": [
        {
          "output_type": "execute_result",
          "data": {
            "text/plain": [
              "Index(['Index', 'Data Time', 'TRM', 'TRM_logn', 'IBR', 'YTES1Y_COP',\n",
              "       'YTES5Y_COP', 'YTES10Y_COP', 'YTES1Y_UVR', 'YTES5Y_UVR', 'YTES10Y_UVR',\n",
              "       'FF_EfcRate', 'FF_UB', 'WTI_USD', 'GOLD_USD', 'VAR_TRM', 'VAR_LNTRM',\n",
              "       'MM_5', 'MM_20'],\n",
              "      dtype='object')"
            ]
          },
          "metadata": {
            "tags": []
          },
          "execution_count": 43
        }
      ]
    },
    {
      "cell_type": "code",
      "metadata": {
        "id": "6NVZAky7i5mn",
        "colab_type": "code",
        "outputId": "7ae9216f-5c26-455a-c519-76b8e2e5ea33",
        "colab": {
          "base_uri": "https://localhost:8080/",
          "height": 450
        }
      },
      "source": [
        "Target='TRM'\n",
        "target_name=['TRM']\n",
        "#Rezago de 82 dias\n",
        "shift_steps = 82  # dias de 202\n",
        "#df_target=df[target_name].shift(-shift_steps)\n",
        "df_target=df[target_name]\n",
        "df_target.tail(84)"
      ],
      "execution_count": 0,
      "outputs": [
        {
          "output_type": "execute_result",
          "data": {
            "text/html": [
              "<div>\n",
              "<style scoped>\n",
              "    .dataframe tbody tr th:only-of-type {\n",
              "        vertical-align: middle;\n",
              "    }\n",
              "\n",
              "    .dataframe tbody tr th {\n",
              "        vertical-align: top;\n",
              "    }\n",
              "\n",
              "    .dataframe thead th {\n",
              "        text-align: right;\n",
              "    }\n",
              "</style>\n",
              "<table border=\"1\" class=\"dataframe\">\n",
              "  <thead>\n",
              "    <tr style=\"text-align: right;\">\n",
              "      <th></th>\n",
              "      <th>TRM</th>\n",
              "    </tr>\n",
              "    <tr>\n",
              "      <th>Data Time</th>\n",
              "      <th></th>\n",
              "    </tr>\n",
              "  </thead>\n",
              "  <tbody>\n",
              "    <tr>\n",
              "      <th>30/12/2019</th>\n",
              "      <td>3294.05</td>\n",
              "    </tr>\n",
              "    <tr>\n",
              "      <th>31/12/2019</th>\n",
              "      <td>3277.14</td>\n",
              "    </tr>\n",
              "    <tr>\n",
              "      <th>2/01/2020</th>\n",
              "      <td>3277.14</td>\n",
              "    </tr>\n",
              "    <tr>\n",
              "      <th>3/01/2020</th>\n",
              "      <td>3258.84</td>\n",
              "    </tr>\n",
              "    <tr>\n",
              "      <th>7/01/2020</th>\n",
              "      <td>3262.05</td>\n",
              "    </tr>\n",
              "    <tr>\n",
              "      <th>...</th>\n",
              "      <td>...</td>\n",
              "    </tr>\n",
              "    <tr>\n",
              "      <th>24/04/2020</th>\n",
              "      <td>4020.94</td>\n",
              "    </tr>\n",
              "    <tr>\n",
              "      <th>27/04/2020</th>\n",
              "      <td>4039.87</td>\n",
              "    </tr>\n",
              "    <tr>\n",
              "      <th>28/04/2020</th>\n",
              "      <td>4039.83</td>\n",
              "    </tr>\n",
              "    <tr>\n",
              "      <th>29/04/2020</th>\n",
              "      <td>4046.04</td>\n",
              "    </tr>\n",
              "    <tr>\n",
              "      <th>30/04/2020</th>\n",
              "      <td>3983.29</td>\n",
              "    </tr>\n",
              "  </tbody>\n",
              "</table>\n",
              "<p>84 rows × 1 columns</p>\n",
              "</div>"
            ],
            "text/plain": [
              "                TRM\n",
              "Data Time          \n",
              "30/12/2019  3294.05\n",
              "31/12/2019  3277.14\n",
              "2/01/2020   3277.14\n",
              "3/01/2020   3258.84\n",
              "7/01/2020   3262.05\n",
              "...             ...\n",
              "24/04/2020  4020.94\n",
              "27/04/2020  4039.87\n",
              "28/04/2020  4039.83\n",
              "29/04/2020  4046.04\n",
              "30/04/2020  3983.29\n",
              "\n",
              "[84 rows x 1 columns]"
            ]
          },
          "metadata": {
            "tags": []
          },
          "execution_count": 44
        }
      ]
    },
    {
      "cell_type": "code",
      "metadata": {
        "id": "CWrJK-pRjJRZ",
        "colab_type": "code",
        "colab": {}
      },
      "source": [
        "features_considered=['TRM_logn', 'IBR', 'YTES1Y_COP',\n",
        "       'YTES5Y_COP', 'YTES10Y_COP', 'YTES1Y_UVR', 'YTES5Y_UVR', 'YTES10Y_UVR',\n",
        "       'FF_EfcRate', 'FF_UB', 'WTI_USD', 'GOLD_USD', 'VAR_TRM', 'VAR_LNTRM',\n",
        "       'MM_5', 'MM_20']"
      ],
      "execution_count": 0,
      "outputs": []
    },
    {
      "cell_type": "code",
      "metadata": {
        "id": "lYQzG3ewjKPJ",
        "colab_type": "code",
        "outputId": "87bc5750-2bfd-42a2-eb4d-842e6240507a",
        "colab": {
          "base_uri": "https://localhost:8080/",
          "height": 235
        }
      },
      "source": [
        "features = df[features_considered]\n",
        "features.index = df['Data Time']\n",
        "features.tail()"
      ],
      "execution_count": 0,
      "outputs": [
        {
          "output_type": "execute_result",
          "data": {
            "text/html": [
              "<div>\n",
              "<style scoped>\n",
              "    .dataframe tbody tr th:only-of-type {\n",
              "        vertical-align: middle;\n",
              "    }\n",
              "\n",
              "    .dataframe tbody tr th {\n",
              "        vertical-align: top;\n",
              "    }\n",
              "\n",
              "    .dataframe thead th {\n",
              "        text-align: right;\n",
              "    }\n",
              "</style>\n",
              "<table border=\"1\" class=\"dataframe\">\n",
              "  <thead>\n",
              "    <tr style=\"text-align: right;\">\n",
              "      <th></th>\n",
              "      <th>TRM_logn</th>\n",
              "      <th>IBR</th>\n",
              "      <th>YTES1Y_COP</th>\n",
              "      <th>YTES5Y_COP</th>\n",
              "      <th>YTES10Y_COP</th>\n",
              "      <th>YTES1Y_UVR</th>\n",
              "      <th>YTES5Y_UVR</th>\n",
              "      <th>YTES10Y_UVR</th>\n",
              "      <th>FF_EfcRate</th>\n",
              "      <th>FF_UB</th>\n",
              "      <th>WTI_USD</th>\n",
              "      <th>GOLD_USD</th>\n",
              "      <th>VAR_TRM</th>\n",
              "      <th>VAR_LNTRM</th>\n",
              "      <th>MM_5</th>\n",
              "      <th>MM_20</th>\n",
              "    </tr>\n",
              "    <tr>\n",
              "      <th>Data Time</th>\n",
              "      <th></th>\n",
              "      <th></th>\n",
              "      <th></th>\n",
              "      <th></th>\n",
              "      <th></th>\n",
              "      <th></th>\n",
              "      <th></th>\n",
              "      <th></th>\n",
              "      <th></th>\n",
              "      <th></th>\n",
              "      <th></th>\n",
              "      <th></th>\n",
              "      <th></th>\n",
              "      <th></th>\n",
              "      <th></th>\n",
              "      <th></th>\n",
              "    </tr>\n",
              "  </thead>\n",
              "  <tbody>\n",
              "    <tr>\n",
              "      <th>24/04/2020</th>\n",
              "      <td>8.299271</td>\n",
              "      <td>0.03706</td>\n",
              "      <td>0.038254</td>\n",
              "      <td>0.058496</td>\n",
              "      <td>0.073216</td>\n",
              "      <td>0.01906</td>\n",
              "      <td>0.027594</td>\n",
              "      <td>0.031409</td>\n",
              "      <td>0.05</td>\n",
              "      <td>0.25</td>\n",
              "      <td>16.94</td>\n",
              "      <td>1735.6</td>\n",
              "      <td>-17.01</td>\n",
              "      <td>-0.004221</td>\n",
              "      <td>4008.944</td>\n",
              "      <td>3990.5985</td>\n",
              "    </tr>\n",
              "    <tr>\n",
              "      <th>27/04/2020</th>\n",
              "      <td>8.303968</td>\n",
              "      <td>0.03675</td>\n",
              "      <td>0.038254</td>\n",
              "      <td>0.058496</td>\n",
              "      <td>0.073216</td>\n",
              "      <td>0.01906</td>\n",
              "      <td>0.027594</td>\n",
              "      <td>0.031409</td>\n",
              "      <td>0.04</td>\n",
              "      <td>0.25</td>\n",
              "      <td>12.78</td>\n",
              "      <td>1723.8</td>\n",
              "      <td>18.93</td>\n",
              "      <td>0.004697</td>\n",
              "      <td>4022.306</td>\n",
              "      <td>3988.2750</td>\n",
              "    </tr>\n",
              "    <tr>\n",
              "      <th>28/04/2020</th>\n",
              "      <td>8.303958</td>\n",
              "      <td>0.03677</td>\n",
              "      <td>0.038254</td>\n",
              "      <td>0.058496</td>\n",
              "      <td>0.073216</td>\n",
              "      <td>0.01906</td>\n",
              "      <td>0.027594</td>\n",
              "      <td>0.031409</td>\n",
              "      <td>0.04</td>\n",
              "      <td>0.25</td>\n",
              "      <td>12.34</td>\n",
              "      <td>1722.2</td>\n",
              "      <td>-0.04</td>\n",
              "      <td>-0.000010</td>\n",
              "      <td>4036.720</td>\n",
              "      <td>3990.4750</td>\n",
              "    </tr>\n",
              "    <tr>\n",
              "      <th>29/04/2020</th>\n",
              "      <td>8.305494</td>\n",
              "      <td>0.03712</td>\n",
              "      <td>0.038254</td>\n",
              "      <td>0.058496</td>\n",
              "      <td>0.073216</td>\n",
              "      <td>0.01906</td>\n",
              "      <td>0.027594</td>\n",
              "      <td>0.031409</td>\n",
              "      <td>0.04</td>\n",
              "      <td>0.25</td>\n",
              "      <td>15.06</td>\n",
              "      <td>1713.4</td>\n",
              "      <td>6.21</td>\n",
              "      <td>0.001536</td>\n",
              "      <td>4036.926</td>\n",
              "      <td>3990.6370</td>\n",
              "    </tr>\n",
              "    <tr>\n",
              "      <th>30/04/2020</th>\n",
              "      <td>8.289863</td>\n",
              "      <td>0.03712</td>\n",
              "      <td>0.038254</td>\n",
              "      <td>0.058496</td>\n",
              "      <td>0.073216</td>\n",
              "      <td>0.01906</td>\n",
              "      <td>0.027594</td>\n",
              "      <td>0.031409</td>\n",
              "      <td>0.04</td>\n",
              "      <td>0.25</td>\n",
              "      <td>15.06</td>\n",
              "      <td>1713.4</td>\n",
              "      <td>-62.75</td>\n",
              "      <td>-0.015631</td>\n",
              "      <td>4025.994</td>\n",
              "      <td>3986.5610</td>\n",
              "    </tr>\n",
              "  </tbody>\n",
              "</table>\n",
              "</div>"
            ],
            "text/plain": [
              "            TRM_logn      IBR  YTES1Y_COP  ...  VAR_LNTRM      MM_5      MM_20\n",
              "Data Time                                  ...                                \n",
              "24/04/2020  8.299271  0.03706    0.038254  ...  -0.004221  4008.944  3990.5985\n",
              "27/04/2020  8.303968  0.03675    0.038254  ...   0.004697  4022.306  3988.2750\n",
              "28/04/2020  8.303958  0.03677    0.038254  ...  -0.000010  4036.720  3990.4750\n",
              "29/04/2020  8.305494  0.03712    0.038254  ...   0.001536  4036.926  3990.6370\n",
              "30/04/2020  8.289863  0.03712    0.038254  ...  -0.015631  4025.994  3986.5610\n",
              "\n",
              "[5 rows x 16 columns]"
            ]
          },
          "metadata": {
            "tags": []
          },
          "execution_count": 46
        }
      ]
    },
    {
      "cell_type": "code",
      "metadata": {
        "id": "p_h3UjVZ6J-o",
        "colab_type": "code",
        "outputId": "e533507c-e6d4-404e-f6ce-a88b8ee2d817",
        "colab": {
          "base_uri": "https://localhost:8080/",
          "height": 51
        }
      },
      "source": [
        "x_data = features.values[0:-shift_steps]\n",
        "print(type(x_data))\n",
        "print(\"Shape:\",x_data.shape)"
      ],
      "execution_count": 0,
      "outputs": [
        {
          "output_type": "stream",
          "text": [
            "<class 'numpy.ndarray'>\n",
            "Shape: (1198, 16)\n"
          ],
          "name": "stdout"
        }
      ]
    },
    {
      "cell_type": "code",
      "metadata": {
        "id": "HI93fHeb_EWR",
        "colab_type": "code",
        "outputId": "2e1dc7f2-5f98-48b5-91f1-6f5582d73f96",
        "colab": {
          "base_uri": "https://localhost:8080/",
          "height": 238
        }
      },
      "source": [
        "x_data"
      ],
      "execution_count": 0,
      "outputs": [
        {
          "output_type": "execute_result",
          "data": {
            "text/plain": [
              "array([[ 7.78211924e+00,  4.53600000e-02,  4.51952730e-02, ...,\n",
              "         1.46774430e-02,  2.38273200e+03,  2.39768750e+03],\n",
              "       [ 7.80020404e+00,  4.52500000e-02,  4.50918130e-02, ...,\n",
              "         1.80847970e-02,  2.39365200e+03,  2.40011950e+03],\n",
              "       [ 7.78625691e+00,  4.52300000e-02,  4.56811590e-02, ...,\n",
              "        -1.39471240e-02,  2.39785400e+03,  2.40131550e+03],\n",
              "       ...,\n",
              "       [ 8.09602544e+00,  4.25300000e-02,  4.52821220e-02, ...,\n",
              "        -7.42044100e-03,  3.31040200e+03,  3.39873700e+03],\n",
              "       [ 8.09987309e+00,  4.25500000e-02,  4.50387270e-02, ...,\n",
              "         3.84765000e-03,  3.30473600e+03,  3.38829350e+03],\n",
              "       [ 8.09472637e+00,  4.25700000e-02,  4.54704670e-02, ...,\n",
              "        -5.14672000e-03,  3.29507000e+03,  3.37602650e+03]])"
            ]
          },
          "metadata": {
            "tags": []
          },
          "execution_count": 48
        }
      ]
    },
    {
      "cell_type": "code",
      "metadata": {
        "id": "_9EuhSTfjKEJ",
        "colab_type": "code",
        "outputId": "0fa3fc97-7381-4fa6-cb3f-f427b210e1f9",
        "colab": {
          "base_uri": "https://localhost:8080/",
          "height": 51
        }
      },
      "source": [
        "y_data = df_target.values[:-shift_steps]\n",
        "print(type(y_data))\n",
        "print(\"Shape:\", y_data.shape)"
      ],
      "execution_count": 0,
      "outputs": [
        {
          "output_type": "stream",
          "text": [
            "<class 'numpy.ndarray'>\n",
            "Shape: (1198, 1)\n"
          ],
          "name": "stdout"
        }
      ]
    },
    {
      "cell_type": "code",
      "metadata": {
        "id": "kCp27wUz-ein",
        "colab_type": "code",
        "outputId": "a8469a5d-fb57-46ce-a480-afa1720d9244",
        "colab": {
          "base_uri": "https://localhost:8080/",
          "height": 136
        }
      },
      "source": [
        "y_data"
      ],
      "execution_count": 0,
      "outputs": [
        {
          "output_type": "execute_result",
          "data": {
            "text/plain": [
              "array([[2397.35],\n",
              "       [2441.1 ],\n",
              "       [2407.29],\n",
              "       ...,\n",
              "       [3281.4 ],\n",
              "       [3294.05],\n",
              "       [3277.14]])"
            ]
          },
          "metadata": {
            "tags": []
          },
          "execution_count": 50
        }
      ]
    },
    {
      "cell_type": "code",
      "metadata": {
        "id": "MpNpQjd2jSUW",
        "colab_type": "code",
        "colab": {}
      },
      "source": [
        "num_data = len(x_data)\n",
        "train_split = 0.9\n",
        "num_train = int(train_split * num_data)\n",
        "num_test = num_data - num_train\n",
        "#print(\"Shape:\", )\n",
        "x_train = x_data[0:num_train]\n",
        "x_test = x_data[num_train:]\n",
        "len(x_train) + len(x_test)\n",
        "#\n",
        "y_train = y_data[0:num_train]\n",
        "y_test = y_data[num_train:]\n",
        "len(y_train) + len(y_test)\n",
        "#\n",
        "num_x_signals = x_data.shape[1]\n",
        "#\n",
        "num_y_signals = y_data.shape[1]"
      ],
      "execution_count": 0,
      "outputs": []
    },
    {
      "cell_type": "code",
      "metadata": {
        "id": "W0hwF4gJjSJ1",
        "colab_type": "code",
        "colab": {}
      },
      "source": [
        "# Create the Scaler object scaler = StandardScaler()\n",
        "x_scaled = StandardScaler()\n",
        "\n",
        "x_train_scaled = x_scaled.fit_transform(x_train)\n",
        "x_test_scaled=x_scaled.transform(x_test)"
      ],
      "execution_count": 0,
      "outputs": []
    },
    {
      "cell_type": "code",
      "metadata": {
        "id": "PKy2VyvTm7wt",
        "colab_type": "code",
        "colab": {}
      },
      "source": [
        "y_train_scaled = y_train\n",
        "y_test_scaled =y_test"
      ],
      "execution_count": 0,
      "outputs": []
    },
    {
      "cell_type": "code",
      "metadata": {
        "id": "tvyeAcL5GsnN",
        "colab_type": "code",
        "outputId": "ba7a7fa0-5edc-493d-f8b4-a8688a38ad53",
        "colab": {
          "base_uri": "https://localhost:8080/",
          "height": 51
        }
      },
      "source": [
        "#generar los datos\n",
        "print(x_train_scaled.shape)\n",
        "print(y_train_scaled.shape)"
      ],
      "execution_count": 0,
      "outputs": [
        {
          "output_type": "stream",
          "text": [
            "(1078, 16)\n",
            "(1078, 1)\n"
          ],
          "name": "stdout"
        }
      ]
    },
    {
      "cell_type": "code",
      "metadata": {
        "id": "gci7nyR8jSBE",
        "colab_type": "code",
        "colab": {}
      },
      "source": [
        "#cuando hay muchos datos se utiliza esta funcion para hacelos por batch\n",
        "def batch_generator(batch_size, sequence_length):\n",
        "    \"\"\"\n",
        "    Generator function for creating random batches of training-data.\n",
        "    \"\"\"\n",
        "\n",
        "    # Infinite loop.\n",
        "    while True:\n",
        "        # Allocate a new array for the batch of input-signals.\n",
        "        x_shape = (batch_size, sequence_length, num_x_signals)\n",
        "        x_batch = np.zeros(shape=x_shape, dtype=np.float16)\n",
        "\n",
        "        # Allocate a new array for the batch of output-signals.\n",
        "        y_shape = (batch_size, sequence_length, num_y_signals)\n",
        "        y_batch = np.zeros(shape=y_shape, dtype=np.float16)\n",
        "\n",
        "        # Fill the batch with random sequences of data.\n",
        "        for i in range(batch_size):\n",
        "            # Get a random start-index.\n",
        "            # This points somewhere into the training-data.\n",
        "            idx = np.random.randint(num_train - sequence_length)\n",
        "            \n",
        "            # Copy the sequences of data starting at this index.\n",
        "            x_batch[i] = x_train_scaled[idx:idx+sequence_length]\n",
        "            y_batch[i] = y_train_scaled[idx:idx+sequence_length]\n",
        "        \n",
        "        yield (x_batch, y_batch)"
      ],
      "execution_count": 0,
      "outputs": []
    },
    {
      "cell_type": "code",
      "metadata": {
        "id": "eB0QbPB6miNT",
        "colab_type": "code",
        "outputId": "0c248505-8827-4d68-e2fc-e71955c948ec",
        "colab": {
          "base_uri": "https://localhost:8080/",
          "height": 51
        }
      },
      "source": [
        "batch_size = 256\n",
        "sequence_length = 20*12\n",
        "generator = batch_generator(batch_size=batch_size,sequence_length=sequence_length)\n",
        "x_batch, y_batch = next(generator)\n",
        "print(x_batch.shape)\n",
        "print(y_batch.shape)"
      ],
      "execution_count": 0,
      "outputs": [
        {
          "output_type": "stream",
          "text": [
            "(256, 240, 16)\n",
            "(256, 240, 1)\n"
          ],
          "name": "stdout"
        }
      ]
    },
    {
      "cell_type": "code",
      "metadata": {
        "id": "AJbDXUIcmb_U",
        "colab_type": "code",
        "outputId": "09c17cc8-d326-41f5-fc38-900a47ca9281",
        "colab": {
          "base_uri": "https://localhost:8080/",
          "height": 282
        }
      },
      "source": [
        "#una de las señales\n",
        "batch = 0   # First sequence in the batch.\n",
        "signal = 5  # First signal from the 20 input-signals.\n",
        "seq = x_batch[batch, :, signal]\n",
        "plt.plot(seq)"
      ],
      "execution_count": 0,
      "outputs": [
        {
          "output_type": "execute_result",
          "data": {
            "text/plain": [
              "[<matplotlib.lines.Line2D at 0x7f70a4f49710>]"
            ]
          },
          "metadata": {
            "tags": []
          },
          "execution_count": 58
        },
        {
          "output_type": "display_data",
          "data": {
            "image/png": "[encoded data removed]",
            "text/plain": [
              "<Figure size 432x288 with 1 Axes>"
            ]
          },
          "metadata": {
            "tags": [],
            "needs_background": "light"
          }
        }
      ]
    },
    {
      "cell_type": "code",
      "metadata": {
        "id": "YJaxU7gHEC3B",
        "colab_type": "code",
        "colab": {}
      },
      "source": [
        "#conjunto de validación\n",
        "validation_data = (np.expand_dims(x_test_scaled, axis=0),np.expand_dims(y_test_scaled, axis=0))"
      ],
      "execution_count": 0,
      "outputs": []
    },
    {
      "cell_type": "code",
      "metadata": {
        "id": "4Dak7a5XrdwP",
        "colab_type": "code",
        "colab": {}
      },
      "source": [
        "#crear la red\n",
        "model = Sequential()\n",
        "#Gated Recurrent Unit con 512 salidas por cada eime-step in la sequencia\n",
        "model.add(GRU(units=512,return_sequences=True,input_shape=(None, num_x_signals,)))\n",
        "#función de activación\n",
        "model.add(Dense(num_y_signals, activation='relu'))#sigmoid"
      ],
      "execution_count": 0,
      "outputs": []
    },
    {
      "cell_type": "code",
      "metadata": {
        "id": "EnziFErMEvWb",
        "colab_type": "code",
        "colab": {}
      },
      "source": [
        "warmup_steps = 50"
      ],
      "execution_count": 0,
      "outputs": []
    },
    {
      "cell_type": "code",
      "metadata": {
        "id": "uCF9PPy6sSdG",
        "colab_type": "code",
        "colab": {}
      },
      "source": [
        "def loss_mse_warmup(y_true, y_pred):\n",
        "    \"\"\"\n",
        "    Calculate the Mean Squared Error between y_true and y_pred,\n",
        "    but ignore the beginning \"warmup\" part of the sequences.\n",
        "    \n",
        "    y_true is the desired output.\n",
        "    y_pred is the model's output.\n",
        "    \"\"\"\n",
        "\n",
        "    # The shape of both input tensors are:\n",
        "    # [batch_size, sequence_length, num_y_signals].\n",
        "\n",
        "    # Ignore the \"warmup\" parts of the sequences\n",
        "    # by taking slices of the tensors.\n",
        "    y_true_slice = y_true[:, warmup_steps:, :]\n",
        "    y_pred_slice = y_pred[:, warmup_steps:, :]\n",
        "\n",
        "    # These sliced tensors both have this shape:\n",
        "    # [batch_size, sequence_length - warmup_steps, num_y_signals]\n",
        "\n",
        "    # Calculat the Mean Squared Error and use it as loss.\n",
        "    mse = mean(square(y_true_slice - y_pred_slice))\n",
        "    \n",
        "    return mse"
      ],
      "execution_count": 0,
      "outputs": []
    },
    {
      "cell_type": "code",
      "metadata": {
        "id": "OuRfDYpKrYxM",
        "colab_type": "code",
        "outputId": "7cb927df-4063-4f47-be02-c043e29799f8",
        "colab": {
          "base_uri": "https://localhost:8080/",
          "height": 221
        }
      },
      "source": [
        "#Modelo compilador\n",
        "optimizer = RMSprop(lr=1e-3)\n",
        "model.compile(loss=loss_mse_warmup, optimizer=optimizer)\n",
        "model.summary()"
      ],
      "execution_count": 0,
      "outputs": [
        {
          "output_type": "stream",
          "text": [
            "Model: \"sequential_1\"\n",
            "_________________________________________________________________\n",
            "Layer (type)                 Output Shape              Param #   \n",
            "=================================================================\n",
            "gru_1 (GRU)                  (None, None, 512)         814080    \n",
            "_________________________________________________________________\n",
            "dense_1 (Dense)              (None, None, 1)           513       \n",
            "=================================================================\n",
            "Total params: 814,593\n",
            "Trainable params: 814,593\n",
            "Non-trainable params: 0\n",
            "_________________________________________________________________\n"
          ],
          "name": "stdout"
        }
      ]
    },
    {
      "cell_type": "code",
      "metadata": {
        "id": "PghAdJQ1sxcW",
        "colab_type": "code",
        "outputId": "99b5fb10-d02d-45cd-d1b6-ec74e4ed4778",
        "colab": {
          "base_uri": "https://localhost:8080/",
          "height": 34
        }
      },
      "source": [
        "#PARA SALVAR ALGUNOS PUNTOS DURANTE EL APRENDIZAJE CALLBACKS\n",
        "path_checkpoint = '23_checkpoint.keras'\n",
        "callback_checkpoint = ModelCheckpoint(filepath=path_checkpoint,\n",
        "                                      monitor='val_loss',\n",
        "                                      verbose=1,\n",
        "                                      save_weights_only=True,\n",
        "                                      save_best_only=True)\n",
        "callback_checkpoint"
      ],
      "execution_count": 0,
      "outputs": [
        {
          "output_type": "execute_result",
          "data": {
            "text/plain": [
              "<tensorflow.python.keras.callbacks.ModelCheckpoint at 0x7f70a4f28f98>"
            ]
          },
          "metadata": {
            "tags": []
          },
          "execution_count": 64
        }
      ]
    },
    {
      "cell_type": "code",
      "metadata": {
        "id": "6925QlwwuGLl",
        "colab_type": "code",
        "colab": {}
      },
      "source": [
        "# CALLBACK PARA PARAR LA OPTIMIZACIÓNCUANDO DESEMPEÑO EMPEORE EN EL CONJUNTO DE VALIDACION\n",
        "callback_early_stopping = EarlyStopping(monitor='val_loss',\n",
        "                                        patience=5, verbose=1)"
      ],
      "execution_count": 0,
      "outputs": []
    },
    {
      "cell_type": "code",
      "metadata": {
        "id": "QLx3xRrUuJFx",
        "colab_type": "code",
        "colab": {}
      },
      "source": [
        "#REPORTE DE LA CORRIDA\n",
        "callback_tensorboard = TensorBoard(log_dir='./23_logs/',\n",
        "                                   histogram_freq=0,\n",
        "                                   write_graph=False)"
      ],
      "execution_count": 0,
      "outputs": []
    },
    {
      "cell_type": "code",
      "metadata": {
        "id": "66_TrTK9uMYa",
        "colab_type": "code",
        "colab": {}
      },
      "source": [
        "#PARA EL APRENDIZAJE SI NO MEJORA LA TASA DE APRENDIZAJE DESPUES DE CIERTAS EPOCHS\n",
        "callback_reduce_lr = ReduceLROnPlateau(monitor='val_loss',\n",
        "                                       factor=0.1,\n",
        "                                       min_lr=1e-4,\n",
        "                                        patience=0,\n",
        "                                       verbose=1)"
      ],
      "execution_count": 0,
      "outputs": []
    },
    {
      "cell_type": "code",
      "metadata": {
        "id": "xTTY0XEHtg4i",
        "colab_type": "code",
        "colab": {}
      },
      "source": [
        "callbacks = [callback_early_stopping,\n",
        "             callback_checkpoint,\n",
        "             callback_tensorboard,\n",
        "             callback_reduce_lr]"
      ],
      "execution_count": 0,
      "outputs": []
    },
    {
      "cell_type": "code",
      "metadata": {
        "id": "zHl8qkhjL9oU",
        "colab_type": "code",
        "outputId": "1ac7f7ae-b568-4997-acdf-9724d3fe187f",
        "colab": {
          "base_uri": "https://localhost:8080/",
          "height": 408
        }
      },
      "source": [
        "%%time\n",
        "model.fit(x=generator,\n",
        "          epochs=5,\n",
        "          steps_per_epoch=10,\n",
        "          validation_data=validation_data,\n",
        "          callbacks=callbacks)"
      ],
      "execution_count": 0,
      "outputs": [
        {
          "output_type": "stream",
          "text": [
            "Epoch 1/5\n",
            "10/10 [==============================] - ETA: 0s - loss: 8891101.0000\n",
            "Epoch 00001: val_loss improved from inf to 11423564.00000, saving model to 23_checkpoint.keras\n",
            "10/10 [==============================] - 63s 6s/step - loss: 8891101.0000 - val_loss: 11423564.0000 - lr: 0.0010\n",
            "Epoch 2/5\n",
            "10/10 [==============================] - ETA: 0s - loss: 8804378.0000\n",
            "Epoch 00002: val_loss improved from 11423564.00000 to 11379152.00000, saving model to 23_checkpoint.keras\n",
            "10/10 [==============================] - 62s 6s/step - loss: 8804378.0000 - val_loss: 11379152.0000 - lr: 0.0010\n",
            "Epoch 3/5\n",
            "10/10 [==============================] - ETA: 0s - loss: 8736299.0000\n",
            "Epoch 00003: val_loss improved from 11379152.00000 to 11336745.00000, saving model to 23_checkpoint.keras\n",
            "10/10 [==============================] - 62s 6s/step - loss: 8736299.0000 - val_loss: 11336745.0000 - lr: 0.0010\n",
            "Epoch 4/5\n",
            "10/10 [==============================] - ETA: 0s - loss: 8690453.0000\n",
            "Epoch 00004: val_loss improved from 11336745.00000 to 11300385.00000, saving model to 23_checkpoint.keras\n",
            "10/10 [==============================] - 62s 6s/step - loss: 8690453.0000 - val_loss: 11300385.0000 - lr: 0.0010\n",
            "Epoch 5/5\n",
            "10/10 [==============================] - ETA: 0s - loss: 8654278.0000\n",
            "Epoch 00005: val_loss improved from 11300385.00000 to 11265173.00000, saving model to 23_checkpoint.keras\n",
            "10/10 [==============================] - 62s 6s/step - loss: 8654278.0000 - val_loss: 11265173.0000 - lr: 0.0010\n",
            "CPU times: user 10min 39s, sys: 28.4 s, total: 11min 8s\n",
            "Wall time: 5min 48s\n"
          ],
          "name": "stdout"
        },
        {
          "output_type": "execute_result",
          "data": {
            "text/plain": [
              "<tensorflow.python.keras.callbacks.History at 0x7f70a7ef9978>"
            ]
          },
          "metadata": {
            "tags": []
          },
          "execution_count": 31
        }
      ]
    },
    {
      "cell_type": "code",
      "metadata": {
        "id": "q2PMWrmTEN_q",
        "colab_type": "code",
        "colab": {}
      },
      "source": [
        "try:\n",
        "    model.load_weights(path_checkpoint)\n",
        "except Exception as error:\n",
        "    print(\"Error trying to load checkpoint.\")\n",
        "    print(error)"
      ],
      "execution_count": 0,
      "outputs": []
    },
    {
      "cell_type": "code",
      "metadata": {
        "id": "W1Knr2zIMLgV",
        "colab_type": "code",
        "outputId": "bbb38aa8-c04c-4d54-a204-2983b85f171e",
        "colab": {
          "base_uri": "https://localhost:8080/",
          "height": 34
        }
      },
      "source": [
        "result = model.evaluate(x=np.expand_dims(x_test_scaled, axis=0),\n",
        "                        y=np.expand_dims(y_test_scaled, axis=0))"
      ],
      "execution_count": 0,
      "outputs": [
        {
          "output_type": "stream",
          "text": [
            "1/1 [==============================] - 0s 1ms/step - loss: 11265173.0000\n"
          ],
          "name": "stdout"
        }
      ]
    },
    {
      "cell_type": "code",
      "metadata": {
        "id": "bqIuMh74ExJ-",
        "colab_type": "code",
        "outputId": "171ba016-e772-4497-d08e-0061022e34f3",
        "colab": {
          "base_uri": "https://localhost:8080/",
          "height": 34
        }
      },
      "source": [
        "print(\"loss (test-set):\", result)"
      ],
      "execution_count": 0,
      "outputs": [
        {
          "output_type": "stream",
          "text": [
            "loss (test-set): 11265173.0\n"
          ],
          "name": "stdout"
        }
      ]
    },
    {
      "cell_type": "code",
      "metadata": {
        "id": "Q5TYk2pwMg8j",
        "colab_type": "code",
        "colab": {}
      },
      "source": [
        "# If you have several metrics you can use this instead.\n",
        "if False:\n",
        "    for res, metric in zip(result, model.metrics_names):\n",
        "        print(\"{0}: {1:.3e}\".format(metric, res))"
      ],
      "execution_count": 0,
      "outputs": []
    },
    {
      "cell_type": "markdown",
      "metadata": {
        "id": "4J51vnC0MlTh",
        "colab_type": "text"
      },
      "source": [
        "**Generar** **prediciones**"
      ]
    },
    {
      "cell_type": "code",
      "metadata": {
        "id": "3PL_38WvMrMp",
        "colab_type": "code",
        "colab": {}
      },
      "source": [
        "def plot_comparison(start_idx, length=100, train=True):\n",
        "    \"\"\"\n",
        "    Plot the predicted and true output-signals.\n",
        "    \n",
        "    :param start_idx: Start-index for the time-series.\n",
        "    :param length: Sequence-length to process and plot.\n",
        "    :param train: Boolean whether to use training- or test-set.\n",
        "    \"\"\"\n",
        "    \n",
        "    if train:\n",
        "        # Use training-data.\n",
        "        x = x_train_scaled\n",
        "        y_true = y_train\n",
        "    else:\n",
        "        # Use test-data.\n",
        "        x = x_test_scaled\n",
        "        y_true = y_test\n",
        "    \n",
        "    # End-index for the sequences.\n",
        "    end_idx = start_idx + length\n",
        "    \n",
        "    # Select the sequences from the given start-index and\n",
        "    # of the given length.\n",
        "    x = x[start_idx:end_idx]\n",
        "    y_true = y_true[start_idx:end_idx]\n",
        "    \n",
        "    # Input-signals for the model.\n",
        "    x = np.expand_dims(x, axis=0)\n",
        "\n",
        "    # Use the model to predict the output-signals.\n",
        "    y_pred = model.predict(x)\n",
        "    \n",
        "    # The output of the model is between 0 and 1.\n",
        "    # Do an inverse map to get it back to the scale\n",
        "    # of the original data-set.\n",
        "    #y_pred_rescaled = y_scaler.inverse_transform(y_pred[0])\n",
        "    y_pred_rescaled = y_pred\n",
        "    \n",
        "    # For each output-signal.\n",
        "    for signal in range(len(target_name)):\n",
        "        # Get the output-signal predicted by the model.\n",
        "        signal_pred = y_pred_rescaled[:, signal]\n",
        "        \n",
        "        # Get the true output-signal from the data-set.\n",
        "        signal_true = y_true[:, signal]\n",
        "\n",
        "        # Make the plotting-canvas bigger.\n",
        "        plt.figure(figsize=(15,5))\n",
        "        \n",
        "        # Plot and compare the two signals.\n",
        "        plt.plot(signal_true, label='true')\n",
        "        plt.plot(signal_pred, label='pred')\n",
        "        \n",
        "        # Plot grey box for warmup-period.\n",
        "        p = plt.axvspan(0, warmup_steps, facecolor='black', alpha=0.15)\n",
        "        \n",
        "        # Plot labels etc.\n",
        "        plt.ylabel(target_name[signal])\n",
        "        plt.legend()\n",
        "        plt.show()"
      ],
      "execution_count": 0,
      "outputs": []
    },
    {
      "cell_type": "code",
      "metadata": {
        "id": "NXmVf7Z-Mq4V",
        "colab_type": "code",
        "outputId": "9c6f71fe-6aa3-4e6b-f758-ad4a47ac06cb",
        "colab": {
          "base_uri": "https://localhost:8080/",
          "height": 320
        }
      },
      "source": [
        "plot_comparison(start_idx=0, length=1200, train=False)"
      ],
      "execution_count": 0,
      "outputs": [
        {
          "output_type": "display_data",
          "data": {
            "image/png": "[encoded data removed]",
            "text/plain": [
              "<Figure size 1080x360 with 1 Axes>"
            ]
          },
          "metadata": {
            "tags": [],
            "needs_background": "light"
          }
        }
      ]
    },
    {
      "cell_type": "markdown",
      "metadata": {
        "id": "IEcDbwXUNnNp",
        "colab_type": "text"
      },
      "source": [
        "Otro código https://colab.research.google.com/github/tensorflow/docs/blob/master/site/en/tutorials/structured_data/time_series.ipynb#scrollTo=QYz6RN_mMyau\n"
      ]
    },
    {
      "cell_type": "code",
      "metadata": {
        "id": "I9WYEeSLPmK9",
        "colab_type": "code",
        "colab": {}
      },
      "source": [
        "tf.keras.backend.clear_session()\n",
        "tf.random.set_seed(51)\n",
        "np.random.seed(51)\n",
        "shuffle_buffer_size = 1000\n",
        "window_size = 60\n",
        "batch_size = 100\n",
        "#train_set = windowed_dataset(x_train, window_size, batch_size, shuffle_buffer_size)\n",
        "#print(x_train.shape)"
      ],
      "execution_count": 0,
      "outputs": []
    },
    {
      "cell_type": "code",
      "metadata": {
        "id": "aaqJbSQXqV-m",
        "colab_type": "code",
        "colab": {}
      },
      "source": [
        "tf.keras.backend.clear_session() #limpia variable internas\n",
        "tf.random.set_seed(51)\n",
        "np.random.seed(51)\n",
        "\n",
        "tf.keras.backend.clear_session() \n",
        "dataset=generator\n",
        "\n",
        "model=tf.keras.models.Sequential([\n",
        "  tf.keras.layers.Lambda(lambda x:tf.expand_dims(x,axis=-1),input_shape=[None,None,None]),\n",
        "  tf.keras.layers.Bidirectional(tf.keras.layers.LSTM(32,return_sequences=True)),#capa single LSTM de 32 celdas\n",
        "  tf.keras.layers.Dense(1), #neurona de salida\n",
        "  tf.keras.layers.Lambda(lambda x:x*100.0)\n",
        "])"
      ],
      "execution_count": 0,
      "outputs": []
    },
    {
      "cell_type": "code",
      "metadata": {
        "id": "o0PYViEequJ3",
        "colab_type": "code",
        "colab": {}
      },
      "source": [
        "lr_schedule=tf.keras.callbacks.LearningRateScheduler(lambda epoch:1e-8*10**(epoch/20))\n",
        "\n",
        "optimizer=tf.keras.optimizers.SGD(lr=1e-8,momentum=0.9)\n",
        "\n",
        "model.compile(loss=tf.keras.losses.Huber(),optimizer=optimizer,metrics=[\"mae\"])\n",
        "history=model.fit(generator,epochs=100,callbacks=[lr_schedule])"
      ],
      "execution_count": 0,
      "outputs": []
    },
    {
      "cell_type": "code",
      "metadata": {
        "id": "uN_I7nqoPmI0",
        "colab_type": "code",
        "colab": {}
      },
      "source": [
        "tf.keras.backend.clear_session()\n",
        "model = tf.keras.models.Sequential([\n",
        "  #tf.keras.layers.Conv1D(filters=60, kernel_size=5,strides=1, padding=\"causal\",\n",
        " #                    activation=\"relu\",input_shape=[None, 1]),\n",
        "  tf.keras.layers.LSTM(60, return_sequences=True),\n",
        "  tf.keras.layers.LSTM(60, return_sequences=True),\n",
        "  tf.keras.layers.Dense(30, activation=\"relu\"),\n",
        "  tf.keras.layers.Dense(10, activation=\"relu\"),\n",
        "  tf.keras.layers.Dense(1),\n",
        "  tf.keras.layers.Lambda(lambda x: x * 400)\n",
        "])\n",
        "model.summary()"
      ],
      "execution_count": 0,
      "outputs": []
    },
    {
      "cell_type": "code",
      "metadata": {
        "id": "GsOH3EOkPyfG",
        "colab_type": "code",
        "colab": {}
      },
      "source": [
        "optimizer = tf.keras.optimizers.SGD(lr=1e-5, momentum=0.9)\n",
        "model.compile(loss=tf.keras.losses.Huber(),\n",
        "              optimizer=optimizer,\n",
        "              metrics=[\"mae\"])\n",
        "history = model.fit(x=generator,epochs=50)"
      ],
      "execution_count": 0,
      "outputs": []
    },
    {
      "cell_type": "code",
      "metadata": {
        "id": "2CtbMsY6kS_M",
        "colab_type": "code",
        "colab": {}
      },
      "source": [
        ""
      ],
      "execution_count": 0,
      "outputs": []
    },
    {
      "cell_type": "code",
      "metadata": {
        "id": "0-RsANNQkT7l",
        "colab_type": "code",
        "colab": {}
      },
      "source": [
        ""
      ],
      "execution_count": 0,
      "outputs": []
    },
    {
      "cell_type": "code",
      "metadata": {
        "id": "PR82JgXN6Mf8",
        "colab_type": "code",
        "colab": {}
      },
      "source": [
        "#crear modelo\n",
        "tf.keras.backend.clear_session()\n",
        "window_size = 60\n",
        "batch_size = 64\n",
        "train_set = windowed_dataset(x_train,window_size,batch_size,shuffle_buffer_size)\n",
        "\n",
        "model=tf.keras.models.Sequential([\n",
        "  tf.keras.layers.Conv1D(filters=60,kernel_size=5,strides=1, padding=\"causal\",\n",
        "                         activation=\"relu\",input_shape=[None,1]), #1D convolution con 32 filtros                             \n",
        "  tf.keras.layers.LSTM(32,return_sequences=True),#capa single LSTM de 32 celdas\n",
        "  tf.keras.layers.LSTM(32,return_sequences=True),#capa LSTM con 32 celdas\n",
        "  tf.keras.layers.Dense(30,activation=\"relu\"),#Deep Neural Network\n",
        "  tf.keras.layers.Dense(10,activation=\"relu\"),\n",
        "  tf.keras.layers.Dense(1), #neurona de salida\n",
        "  tf.keras.layers.Lambda(lambda x:x*400) #la capa lambda multiplica la x por 400\n",
        "])\n",
        "\n",
        "lr_schedule=tf.keras.callbacks.LearningRateScheduler(lambda epoch:1e-8*10**(epoch/20))\n",
        "\n",
        "optimizer=tf.keras.optimizers.SGD(lr=1e-7,momentum=0.9)\n",
        "\n",
        "model.compile(loss=tf.keras.losses.Huber(),\n",
        "              optimizer=optimizer,\n",
        "              metrics=[\"mae\"])\n",
        "history=model.fit(train_set,epochs=60,callbacks=[lr_schedule])"
      ],
      "execution_count": 0,
      "outputs": []
    },
    {
      "cell_type": "code",
      "metadata": {
        "id": "X7etV-FkBLrc",
        "colab_type": "code",
        "colab": {}
      },
      "source": [
        "\n",
        "import matplotlib.image  as mpimg\n",
        "import matplotlib.pyplot as plt\n",
        "\n",
        "#-----------------------------------------------------------\n",
        "# Retrieve a list of list results on training and test data\n",
        "# sets for each training epoch\n",
        "#-----------------------------------------------------------\n",
        "loss=history.history['loss']\n",
        "epochs=range(len(loss)) # Get number of epochs\n",
        "#------------------------------------------------\n",
        "# Plot training and validation loss per epoch\n",
        "#------------------------------------------------\n",
        "plt.plot(epochs, loss, 'r')\n",
        "plt.title('Training loss')\n",
        "plt.xlabel(\"Epochs\")\n",
        "plt.ylabel(\"Loss\")\n",
        "plt.legend([\"Loss\"])\n",
        "plt.figure()\n",
        "\n",
        "\n",
        "zoomed_loss = loss[200:]\n",
        "zoomed_epochs = range(200,500)\n",
        "#------------------------------------------------\n",
        "# Plot training and validation loss per epoch\n",
        "#------------------------------------------------\n",
        "plt.plot(zoomed_epochs, zoomed_loss, 'r')\n",
        "plt.title('Training loss')\n",
        "plt.xlabel(\"Epochs\")\n",
        "plt.ylabel(\"Loss\")\n",
        "plt.legend([\"Loss\"])\n",
        "\n",
        "plt.figure()"
      ],
      "execution_count": 0,
      "outputs": []
    },
    {
      "cell_type": "code",
      "metadata": {
        "id": "o_01NSixBbAa",
        "colab_type": "code",
        "colab": {}
      },
      "source": [
        "def model_forecast(model, series, window_size):\n",
        "    ds = tf.data.Dataset.from_tensor_slices(series)\n",
        "    ds = ds.window(window_size, shift=1, drop_remainder=True)\n",
        "    ds = ds.flat_map(lambda w: w.batch(window_size))\n",
        "    ds = ds.batch(32).prefetch(1)\n",
        "    forecast = model.predict(ds)\n",
        "    return forecast"
      ],
      "execution_count": 0,
      "outputs": []
    },
    {
      "cell_type": "code",
      "metadata": {
        "id": "GkOyJBSXS6pb",
        "colab_type": "code",
        "colab": {}
      },
      "source": [
        "rnn_forecast = model_forecast(model, series[..., np.newaxis], window_size)\n",
        "rnn_forecast = rnn_forecast[split_time - window_size:-1, -1, 0]"
      ],
      "execution_count": 0,
      "outputs": []
    },
    {
      "cell_type": "code",
      "metadata": {
        "id": "UCHPvimCS6wu",
        "colab_type": "code",
        "colab": {}
      },
      "source": [
        "plt.figure(figsize=(10, 6))\n",
        "plot_series(time_valid, x_valid)\n",
        "plot_series(time_valid, rnn_forecast)"
      ],
      "execution_count": 0,
      "outputs": []
    },
    {
      "cell_type": "code",
      "metadata": {
        "id": "bkYEraClS64W",
        "colab_type": "code",
        "colab": {}
      },
      "source": [
        ""
      ],
      "execution_count": 0,
      "outputs": []
    },
    {
      "cell_type": "code",
      "metadata": {
        "id": "DWhi8IM4-ooo",
        "colab_type": "code",
        "colab": {}
      },
      "source": [
        "train_set = windowed_dataset(x_train,window_size=60,batch_size=250, shuffle_buffer_size)\n",
        "\n",
        "model=tf.keras.models.Sequential([\n",
        "  tf.keras.layers.Conv1D(filters=60,kernel_size=5,strides=1, padding=\"causal\",\n",
        "                         activation=\"relu\",input_shape=[None,1]), #1D convolution con 32 filtros                             \n",
        "  tf.keras.layers.LSTM(32,return_sequences=True),#capa single LSTM de 32 celdas\n",
        "  tf.keras.layers.LSTM(32,return_sequences=True),#capa LSTM con 32 celdas\n",
        "  tf.keras.layers.Dense(30,activation=\"relu\"),#Deep Neural Network\n",
        "  tf.keras.layers.Dense(10,activation=\"relu\"),\n",
        "  tf.keras.layers.Dense(1), #neurona de salida\n",
        "  #tf.keras.layers.Dense(1), #neurona de salida\n",
        "  tf.keras.layers.Lambda(lambda x:x*400) #la capa lambda multiplica la x por 400\n",
        "])\n",
        "\n",
        "optimizer=tf.keras.optimizers.SGD(lr=1e-5,momentum=0.9)\n",
        "\n",
        "model.compile(loss=tf.keras.losses.Huber(),\n",
        "              optimizer=optimizer,\n",
        "              metrics=[\"mae\"])\n",
        "history=model.fit(train_set,epochs=500)"
      ],
      "execution_count": 0,
      "outputs": []
    },
    {
      "cell_type": "code",
      "metadata": {
        "id": "PcHhzr50_WBF",
        "colab_type": "code",
        "colab": {}
      },
      "source": [
        "train_set = windowed_dataset(x_train,window_size=60,batch_size=250, shuffle_buffer_size)\n",
        "\n",
        "model=tf.keras.models.Sequential([\n",
        "  tf.keras.layers.Conv1D(filters=32,kernel_size=5,strides=1, padding=\"causal\",\n",
        "                         activation=\"relu\",input_shape=[None,1]), #1D convolution con 32 filtros                             \n",
        "  tf.keras.layers.LSTM(60,return_sequences=True),#capa single LSTM de 32 celdas\n",
        "  tf.keras.layers.LSTM(60,return_sequences=True),#capa LSTM con 32 celdas\n",
        "  tf.keras.layers.Dense(30,activation=\"relu\"),#Deep Neural Network\n",
        "  tf.keras.layers.Dense(10,activation=\"relu\"),\n",
        "  tf.keras.layers.Dense(1), #neurona de salida\n",
        "  #tf.keras.layers.Dense(1), #neurona de salida\n",
        "  tf.keras.layers.Lambda(lambda x:x*400) #la capa lambda multiplica la x por 400\n",
        "])\n",
        "\n",
        "optimizer=tf.keras.optimizers.SGD(lr=1e-5,momentum=0.9)\n",
        "\n",
        "model.compile(loss=tf.keras.losses.Huber(),\n",
        "              optimizer=optimizer,\n",
        "              metrics=[\"mae\"])\n",
        "history=model.fit(train_set,epochs=500)"
      ],
      "execution_count": 0,
      "outputs": []
    },
    {
      "cell_type": "code",
      "metadata": {
        "id": "bTKB5Qmp6Mpm",
        "colab_type": "code",
        "colab": {}
      },
      "source": [
        "forecast=[] #forecast Vs DAta\n",
        "#results=[]\n",
        "for time in range(len(series)-window_size):\n",
        "  forecast.append(model.predict(series[time:time+window_size][np.newaxis]))\n",
        "\n",
        "forecast=forecast[split_time-window_size:]\n",
        "results=np.array(forecast)[:,0,0]\n",
        "\n",
        "plt.figure(figsize=(10,6))\n",
        "\n",
        "plot_series(time_valid, x_valid)\n",
        "plot_series(time_valid,results)"
      ],
      "execution_count": 0,
      "outputs": []
    },
    {
      "cell_type": "markdown",
      "metadata": {
        "id": "mxl7vFmeVPoR",
        "colab_type": "text"
      },
      "source": [
        ""
      ]
    },
    {
      "cell_type": "code",
      "metadata": {
        "id": "nKv4x40w6upl",
        "colab_type": "code",
        "colab": {}
      },
      "source": [
        "tf.keras.metrics.mean_absolute_error(x_valid, rnn_forecast).numpy()"
      ],
      "execution_count": 0,
      "outputs": []
    },
    {
      "cell_type": "markdown",
      "metadata": {
        "id": "hFNo9JjiEbMg",
        "colab_type": "text"
      },
      "source": [
        ""
      ]
    },
    {
      "cell_type": "code",
      "metadata": {
        "id": "dj9YXlbKEb0x",
        "colab_type": "code",
        "colab": {}
      },
      "source": [
        "def windowed_dataset(series,window_size,batch_size,shuffle_buffer): #crear un dataset\n",
        "  series=tf.expand_dims(series, axis=-1) #create a dataset\n",
        "\n",
        "  ds=tf.data.Dataset.from_tensor_slices(series)\n",
        "  ds=ds.window(window_size+1,shift=1,drop_remainder=True)#to slice the data up into the appropriate windows\n",
        "  ds=ds.flat_map(lambda w: w.batch(window_size+1))#flatten the data out flatened into chunksin the suze of our window_size+1\n",
        "  ds=ds.shuffle(shuffle_buffer)\n",
        "  ds=ds.map(lambda w:(w[:-1],w[-1])) #shuflet it, choosing smaller number speeds\n",
        " \n",
        "  return ds.batch(batch_size).prefetch(1)#size parameter =2 corresponde Yb"
      ],
      "execution_count": 0,
      "outputs": []
    }
  ]
}