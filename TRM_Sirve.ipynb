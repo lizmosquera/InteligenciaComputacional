{
  "nbformat": 4,
  "nbformat_minor": 0,
  "metadata": {
    "colab": {
      "name": "Untitled5.ipynb",
      "provenance": [],
      "authorship_tag": "ABX9TyMEdl4KTBg9biIghoJA0Slq",
      "include_colab_link": true
    },
    "kernelspec": {
      "name": "python3",
      "display_name": "Python 3"
    }
  },
  "cells": [
    {
      "cell_type": "markdown",
      "metadata": {
        "id": "view-in-github",
        "colab_type": "text"
      },
      "source": [
        "<a href=\"https://colab.research.google.com/github/lizmosquera/InteligenciaComputacional/blob/master/TRM_Sirve.ipynb\" target=\"_parent\"><img src=\"https://colab.research.google.com/assets/colab-badge.svg\" alt=\"Open In Colab\"/></a>"
      ]
    },
    {
      "cell_type": "code",
      "metadata": {
        "id": "HQqHbY8RaONS",
        "colab_type": "code",
        "colab": {}
      },
      "source": [
        "%matplotlib inline\n",
        "import matplotlib.pyplot as plt\n",
        "def plot_series(time,series,format=\"-\",start=0,end=None):\n",
        "  plt.plot(time[start:end],series[start:end],format)\n",
        "  plt.xlabel(\"Time\")\n",
        "  plt.ylabel(\"Value\")\n",
        "  plt.grid(True)"
      ],
      "execution_count": 0,
      "outputs": []
    },
    {
      "cell_type": "code",
      "metadata": {
        "id": "e0nCfORoRGFr",
        "colab_type": "code",
        "colab": {
          "base_uri": "https://localhost:8080/",
          "height": 34
        },
        "outputId": "056e053f-fbef-483c-f3a3-ece873d37947"
      },
      "source": [
        "import tensorflow as tf\n",
        "print (tf.__version__)"
      ],
      "execution_count": 2,
      "outputs": [
        {
          "output_type": "stream",
          "text": [
            "2.2.0-rc3\n"
          ],
          "name": "stdout"
        }
      ]
    },
    {
      "cell_type": "code",
      "metadata": {
        "id": "AtsCfXDyKJgZ",
        "colab_type": "code",
        "colab": {}
      },
      "source": [
        "import numpy as np\n",
        "import pandas as pd\n",
        "import os\n",
        "from sklearn.preprocessing import StandardScaler,MinMaxScaler\n",
        "import torch\n",
        "from torch.autograd import Variable\n",
        "import torch"
      ],
      "execution_count": 0,
      "outputs": []
    },
    {
      "cell_type": "code",
      "metadata": {
        "id": "ezfrdP8xlIm0",
        "colab_type": "code",
        "colab": {
          "base_uri": "https://localhost:8080/",
          "height": 51
        },
        "outputId": "6bd1ab9c-7367-4866-af37-7eedfd0e2485"
      },
      "source": [
        "from tensorflow.keras.models import Sequential\n",
        "from tensorflow.keras.layers import Input, Dense, GRU, Embedding\n",
        "from tensorflow.keras.optimizers import RMSprop\n",
        "from tensorflow.keras.callbacks import EarlyStopping, ModelCheckpoint, TensorBoard, ReduceLROnPlateau\n",
        "from tensorflow.keras.backend import square, mean\n",
        "print (tf.keras.__version__)\n",
        "print (pd.__version__)"
      ],
      "execution_count": 4,
      "outputs": [
        {
          "output_type": "stream",
          "text": [
            "2.3.0-tf\n",
            "1.0.3\n"
          ],
          "name": "stdout"
        }
      ]
    },
    {
      "cell_type": "code",
      "metadata": {
        "id": "gEBa73kwKRhE",
        "colab_type": "code",
        "colab": {
          "base_uri": "https://localhost:8080/",
          "height": 224
        },
        "outputId": "2f6aff0b-f15c-4c9d-bd87-b77a730a6901"
      },
      "source": [
        "df = pd.read_csv('Datos_TRM.csv')\n",
        "df.tail(5)"
      ],
      "execution_count": 5,
      "outputs": [
        {
          "output_type": "execute_result",
          "data": {
            "text/html": [
              "<div>\n",
              "<style scoped>\n",
              "    .dataframe tbody tr th:only-of-type {\n",
              "        vertical-align: middle;\n",
              "    }\n",
              "\n",
              "    .dataframe tbody tr th {\n",
              "        vertical-align: top;\n",
              "    }\n",
              "\n",
              "    .dataframe thead th {\n",
              "        text-align: right;\n",
              "    }\n",
              "</style>\n",
              "<table border=\"1\" class=\"dataframe\">\n",
              "  <thead>\n",
              "    <tr style=\"text-align: right;\">\n",
              "      <th></th>\n",
              "      <th>Index</th>\n",
              "      <th>Data Time</th>\n",
              "      <th>TRM</th>\n",
              "      <th>TRM_logn</th>\n",
              "      <th>IBR</th>\n",
              "      <th>YTES1Y_COP</th>\n",
              "      <th>YTES5Y_COP</th>\n",
              "      <th>YTES10Y_COP</th>\n",
              "      <th>YTES1Y_UVR</th>\n",
              "      <th>YTES5Y_UVR</th>\n",
              "      <th>YTES10Y_UVR</th>\n",
              "      <th>FF_EfcRate</th>\n",
              "      <th>FF_UB</th>\n",
              "      <th>WTI_USD</th>\n",
              "      <th>GOLD_USD</th>\n",
              "      <th>VAR_TRM</th>\n",
              "      <th>VAR_LNTRM</th>\n",
              "      <th>MM_5</th>\n",
              "      <th>MM_20</th>\n",
              "    </tr>\n",
              "  </thead>\n",
              "  <tbody>\n",
              "    <tr>\n",
              "      <th>1275</th>\n",
              "      <td>1276</td>\n",
              "      <td>24/04/2020</td>\n",
              "      <td>4020.94</td>\n",
              "      <td>8.299271</td>\n",
              "      <td>0.03706</td>\n",
              "      <td>0.038254</td>\n",
              "      <td>0.058496</td>\n",
              "      <td>0.073216</td>\n",
              "      <td>0.01906</td>\n",
              "      <td>0.027594</td>\n",
              "      <td>0.031409</td>\n",
              "      <td>0.05</td>\n",
              "      <td>0.25</td>\n",
              "      <td>16.94</td>\n",
              "      <td>1735.6</td>\n",
              "      <td>-17.01</td>\n",
              "      <td>-0.004221</td>\n",
              "      <td>4008.944</td>\n",
              "      <td>3990.5985</td>\n",
              "    </tr>\n",
              "    <tr>\n",
              "      <th>1276</th>\n",
              "      <td>1277</td>\n",
              "      <td>27/04/2020</td>\n",
              "      <td>4039.87</td>\n",
              "      <td>8.303968</td>\n",
              "      <td>0.03675</td>\n",
              "      <td>0.038254</td>\n",
              "      <td>0.058496</td>\n",
              "      <td>0.073216</td>\n",
              "      <td>0.01906</td>\n",
              "      <td>0.027594</td>\n",
              "      <td>0.031409</td>\n",
              "      <td>0.04</td>\n",
              "      <td>0.25</td>\n",
              "      <td>12.78</td>\n",
              "      <td>1723.8</td>\n",
              "      <td>18.93</td>\n",
              "      <td>0.004697</td>\n",
              "      <td>4022.306</td>\n",
              "      <td>3988.2750</td>\n",
              "    </tr>\n",
              "    <tr>\n",
              "      <th>1277</th>\n",
              "      <td>1278</td>\n",
              "      <td>28/04/2020</td>\n",
              "      <td>4039.83</td>\n",
              "      <td>8.303958</td>\n",
              "      <td>0.03677</td>\n",
              "      <td>0.038254</td>\n",
              "      <td>0.058496</td>\n",
              "      <td>0.073216</td>\n",
              "      <td>0.01906</td>\n",
              "      <td>0.027594</td>\n",
              "      <td>0.031409</td>\n",
              "      <td>0.04</td>\n",
              "      <td>0.25</td>\n",
              "      <td>12.34</td>\n",
              "      <td>1722.2</td>\n",
              "      <td>-0.04</td>\n",
              "      <td>-0.000010</td>\n",
              "      <td>4036.720</td>\n",
              "      <td>3990.4750</td>\n",
              "    </tr>\n",
              "    <tr>\n",
              "      <th>1278</th>\n",
              "      <td>1279</td>\n",
              "      <td>29/04/2020</td>\n",
              "      <td>4046.04</td>\n",
              "      <td>8.305494</td>\n",
              "      <td>0.03712</td>\n",
              "      <td>0.038254</td>\n",
              "      <td>0.058496</td>\n",
              "      <td>0.073216</td>\n",
              "      <td>0.01906</td>\n",
              "      <td>0.027594</td>\n",
              "      <td>0.031409</td>\n",
              "      <td>0.04</td>\n",
              "      <td>0.25</td>\n",
              "      <td>15.06</td>\n",
              "      <td>1713.4</td>\n",
              "      <td>6.21</td>\n",
              "      <td>0.001536</td>\n",
              "      <td>4036.926</td>\n",
              "      <td>3990.6370</td>\n",
              "    </tr>\n",
              "    <tr>\n",
              "      <th>1279</th>\n",
              "      <td>1280</td>\n",
              "      <td>30/04/2020</td>\n",
              "      <td>3983.29</td>\n",
              "      <td>8.289863</td>\n",
              "      <td>0.03712</td>\n",
              "      <td>0.038254</td>\n",
              "      <td>0.058496</td>\n",
              "      <td>0.073216</td>\n",
              "      <td>0.01906</td>\n",
              "      <td>0.027594</td>\n",
              "      <td>0.031409</td>\n",
              "      <td>0.04</td>\n",
              "      <td>0.25</td>\n",
              "      <td>15.06</td>\n",
              "      <td>1713.4</td>\n",
              "      <td>-62.75</td>\n",
              "      <td>-0.015631</td>\n",
              "      <td>4025.994</td>\n",
              "      <td>3986.5610</td>\n",
              "    </tr>\n",
              "  </tbody>\n",
              "</table>\n",
              "</div>"
            ],
            "text/plain": [
              "      Index   Data Time      TRM  ...  VAR_LNTRM      MM_5      MM_20\n",
              "1275   1276  24/04/2020  4020.94  ...  -0.004221  4008.944  3990.5985\n",
              "1276   1277  27/04/2020  4039.87  ...   0.004697  4022.306  3988.2750\n",
              "1277   1278  28/04/2020  4039.83  ...  -0.000010  4036.720  3990.4750\n",
              "1278   1279  29/04/2020  4046.04  ...   0.001536  4036.926  3990.6370\n",
              "1279   1280  30/04/2020  3983.29  ...  -0.015631  4025.994  3986.5610\n",
              "\n",
              "[5 rows x 19 columns]"
            ]
          },
          "metadata": {
            "tags": []
          },
          "execution_count": 5
        }
      ]
    },
    {
      "cell_type": "code",
      "metadata": {
        "id": "NXx4HQLZQODU",
        "colab_type": "code",
        "colab": {}
      },
      "source": [
        "TRAIN_SPLIT =1198"
      ],
      "execution_count": 0,
      "outputs": []
    },
    {
      "cell_type": "code",
      "metadata": {
        "id": "FQLHtNV9QOU0",
        "colab_type": "code",
        "colab": {}
      },
      "source": [
        "tf.random.set_seed(13)"
      ],
      "execution_count": 0,
      "outputs": []
    },
    {
      "cell_type": "markdown",
      "metadata": {
        "id": "i5rgYXiuQ71v",
        "colab_type": "text"
      },
      "source": [
        "**#tf.keras.utils.normalize**\n"
      ]
    },
    {
      "cell_type": "code",
      "metadata": {
        "id": "IGfKjHrUKRrs",
        "colab_type": "code",
        "colab": {
          "base_uri": "https://localhost:8080/",
          "height": 102
        },
        "outputId": "bd551a21-7290-4da1-d173-53fdb70d2635"
      },
      "source": [
        "df.index = df['Data Time']\n",
        "df.columns"
      ],
      "execution_count": 8,
      "outputs": [
        {
          "output_type": "execute_result",
          "data": {
            "text/plain": [
              "Index(['Index', 'Data Time', 'TRM', 'TRM_logn', 'IBR', 'YTES1Y_COP',\n",
              "       'YTES5Y_COP', 'YTES10Y_COP', 'YTES1Y_UVR', 'YTES5Y_UVR', 'YTES10Y_UVR',\n",
              "       'FF_EfcRate', 'FF_UB', 'WTI_USD', 'GOLD_USD', 'VAR_TRM', 'VAR_LNTRM',\n",
              "       'MM_5', 'MM_20'],\n",
              "      dtype='object')"
            ]
          },
          "metadata": {
            "tags": []
          },
          "execution_count": 8
        }
      ]
    },
    {
      "cell_type": "code",
      "metadata": {
        "id": "vNDgcXb1ZyBn",
        "colab_type": "code",
        "colab": {}
      },
      "source": [
        "#y_data = df_target.values[:-shift_steps]\n",
        "#print(type(y_data))\n",
        "#print(\"Shape:\", y_data.shape)\n",
        "#df_target=df[Target].shift(-shift_steps)"
      ],
      "execution_count": 0,
      "outputs": []
    },
    {
      "cell_type": "code",
      "metadata": {
        "id": "3AVlz1n4s9co",
        "colab_type": "code",
        "colab": {
          "base_uri": "https://localhost:8080/",
          "height": 450
        },
        "outputId": "646b7ca7-45b2-4dac-873c-86b661d1c7f4"
      },
      "source": [
        "Target='TRM'\n",
        "target_name=['TRM']\n",
        "shift_steps = 82  # dias de 202\n",
        "df_target=df[target_name].shift(-shift_steps)\n",
        "df_target.tail(84)"
      ],
      "execution_count": 9,
      "outputs": [
        {
          "output_type": "execute_result",
          "data": {
            "text/html": [
              "<div>\n",
              "<style scoped>\n",
              "    .dataframe tbody tr th:only-of-type {\n",
              "        vertical-align: middle;\n",
              "    }\n",
              "\n",
              "    .dataframe tbody tr th {\n",
              "        vertical-align: top;\n",
              "    }\n",
              "\n",
              "    .dataframe thead th {\n",
              "        text-align: right;\n",
              "    }\n",
              "</style>\n",
              "<table border=\"1\" class=\"dataframe\">\n",
              "  <thead>\n",
              "    <tr style=\"text-align: right;\">\n",
              "      <th></th>\n",
              "      <th>TRM</th>\n",
              "    </tr>\n",
              "    <tr>\n",
              "      <th>Data Time</th>\n",
              "      <th></th>\n",
              "    </tr>\n",
              "  </thead>\n",
              "  <tbody>\n",
              "    <tr>\n",
              "      <th>30/12/2019</th>\n",
              "      <td>4046.04</td>\n",
              "    </tr>\n",
              "    <tr>\n",
              "      <th>31/12/2019</th>\n",
              "      <td>3983.29</td>\n",
              "    </tr>\n",
              "    <tr>\n",
              "      <th>2/01/2020</th>\n",
              "      <td>NaN</td>\n",
              "    </tr>\n",
              "    <tr>\n",
              "      <th>3/01/2020</th>\n",
              "      <td>NaN</td>\n",
              "    </tr>\n",
              "    <tr>\n",
              "      <th>7/01/2020</th>\n",
              "      <td>NaN</td>\n",
              "    </tr>\n",
              "    <tr>\n",
              "      <th>...</th>\n",
              "      <td>...</td>\n",
              "    </tr>\n",
              "    <tr>\n",
              "      <th>24/04/2020</th>\n",
              "      <td>NaN</td>\n",
              "    </tr>\n",
              "    <tr>\n",
              "      <th>27/04/2020</th>\n",
              "      <td>NaN</td>\n",
              "    </tr>\n",
              "    <tr>\n",
              "      <th>28/04/2020</th>\n",
              "      <td>NaN</td>\n",
              "    </tr>\n",
              "    <tr>\n",
              "      <th>29/04/2020</th>\n",
              "      <td>NaN</td>\n",
              "    </tr>\n",
              "    <tr>\n",
              "      <th>30/04/2020</th>\n",
              "      <td>NaN</td>\n",
              "    </tr>\n",
              "  </tbody>\n",
              "</table>\n",
              "<p>84 rows × 1 columns</p>\n",
              "</div>"
            ],
            "text/plain": [
              "                TRM\n",
              "Data Time          \n",
              "30/12/2019  4046.04\n",
              "31/12/2019  3983.29\n",
              "2/01/2020       NaN\n",
              "3/01/2020       NaN\n",
              "7/01/2020       NaN\n",
              "...             ...\n",
              "24/04/2020      NaN\n",
              "27/04/2020      NaN\n",
              "28/04/2020      NaN\n",
              "29/04/2020      NaN\n",
              "30/04/2020      NaN\n",
              "\n",
              "[84 rows x 1 columns]"
            ]
          },
          "metadata": {
            "tags": []
          },
          "execution_count": 9
        }
      ]
    },
    {
      "cell_type": "code",
      "metadata": {
        "id": "N-WHJS_bKR1m",
        "colab_type": "code",
        "colab": {}
      },
      "source": [
        "features_considered=['TRM_logn', 'IBR', 'WTI_USD', 'GOLD_USD', 'VAR_TRM', 'VAR_LNTRM', 'MM_5',\n",
        "       'MM_20']"
      ],
      "execution_count": 0,
      "outputs": []
    },
    {
      "cell_type": "code",
      "metadata": {
        "id": "CeNM41wFKR-l",
        "colab_type": "code",
        "colab": {}
      },
      "source": [
        "features = df[features_considered]\n",
        "features.index = df['Data Time']\n",
        "features.tail()\n",
        "x_data = features.values[0:-shift_steps]\n"
      ],
      "execution_count": 0,
      "outputs": []
    },
    {
      "cell_type": "code",
      "metadata": {
        "id": "nyoF0QREox_g",
        "colab_type": "code",
        "colab": {
          "base_uri": "https://localhost:8080/",
          "height": 51
        },
        "outputId": "b4c45a43-2938-4e40-ab38-44ddc9c74875"
      },
      "source": [
        "print(type(x_data))\n",
        "print(\"Shape:\", x_data.shape)"
      ],
      "execution_count": 12,
      "outputs": [
        {
          "output_type": "stream",
          "text": [
            "<class 'numpy.ndarray'>\n",
            "Shape: (1198, 8)\n"
          ],
          "name": "stdout"
        }
      ]
    },
    {
      "cell_type": "code",
      "metadata": {
        "id": "PrZfORjVoxug",
        "colab_type": "code",
        "colab": {
          "base_uri": "https://localhost:8080/",
          "height": 51
        },
        "outputId": "1b75e5c0-f67b-4dbf-81ef-86d03534b4b4"
      },
      "source": [
        "y_data = df_target.values[:-shift_steps]\n",
        "print(type(y_data))\n",
        "print(\"Shape:\", y_data.shape)"
      ],
      "execution_count": 13,
      "outputs": [
        {
          "output_type": "stream",
          "text": [
            "<class 'numpy.ndarray'>\n",
            "Shape: (1198, 1)\n"
          ],
          "name": "stdout"
        }
      ]
    },
    {
      "cell_type": "code",
      "metadata": {
        "id": "zzWuBJYrpzMg",
        "colab_type": "code",
        "colab": {
          "base_uri": "https://localhost:8080/",
          "height": 34
        },
        "outputId": "91b6c6f5-809e-483f-c785-e183a0173d58"
      },
      "source": [
        "num_data = len(x_data)\n",
        "num_data"
      ],
      "execution_count": 14,
      "outputs": [
        {
          "output_type": "execute_result",
          "data": {
            "text/plain": [
              "1198"
            ]
          },
          "metadata": {
            "tags": []
          },
          "execution_count": 14
        }
      ]
    },
    {
      "cell_type": "code",
      "metadata": {
        "id": "Q56ITBZ-pzEL",
        "colab_type": "code",
        "colab": {}
      },
      "source": [
        "train_split = 0.9"
      ],
      "execution_count": 0,
      "outputs": []
    },
    {
      "cell_type": "code",
      "metadata": {
        "id": "K_16uYZjp3_I",
        "colab_type": "code",
        "colab": {
          "base_uri": "https://localhost:8080/",
          "height": 34
        },
        "outputId": "3c3d78e7-63e3-4975-e38c-6d3cbd0c4e49"
      },
      "source": [
        "num_train = int(train_split * num_data)\n",
        "num_train"
      ],
      "execution_count": 16,
      "outputs": [
        {
          "output_type": "execute_result",
          "data": {
            "text/plain": [
              "1078"
            ]
          },
          "metadata": {
            "tags": []
          },
          "execution_count": 16
        }
      ]
    },
    {
      "cell_type": "code",
      "metadata": {
        "id": "irCFFY40p38x",
        "colab_type": "code",
        "colab": {
          "base_uri": "https://localhost:8080/",
          "height": 34
        },
        "outputId": "30844614-e78e-44f8-813f-c566ccd0856d"
      },
      "source": [
        "num_test = num_data - num_train\n",
        "num_test"
      ],
      "execution_count": 17,
      "outputs": [
        {
          "output_type": "execute_result",
          "data": {
            "text/plain": [
              "120"
            ]
          },
          "metadata": {
            "tags": []
          },
          "execution_count": 17
        }
      ]
    },
    {
      "cell_type": "code",
      "metadata": {
        "id": "KDRfNWDCp36s",
        "colab_type": "code",
        "colab": {
          "base_uri": "https://localhost:8080/",
          "height": 34
        },
        "outputId": "6d3c7d6d-c2a8-45fa-c781-b5fb1e28d923"
      },
      "source": [
        "x_train = x_data[0:num_train]\n",
        "x_test = x_data[num_train:]\n",
        "len(x_train) + len(x_test)"
      ],
      "execution_count": 18,
      "outputs": [
        {
          "output_type": "execute_result",
          "data": {
            "text/plain": [
              "1198"
            ]
          },
          "metadata": {
            "tags": []
          },
          "execution_count": 18
        }
      ]
    },
    {
      "cell_type": "code",
      "metadata": {
        "id": "GGBV9R0np33j",
        "colab_type": "code",
        "colab": {
          "base_uri": "https://localhost:8080/",
          "height": 34
        },
        "outputId": "50cf7ea9-9d5b-4fd2-bf40-74b8f088dd51"
      },
      "source": [
        "y_train = y_data[0:num_train]\n",
        "y_test = y_data[num_train:]\n",
        "len(y_train) + len(y_test)"
      ],
      "execution_count": 19,
      "outputs": [
        {
          "output_type": "execute_result",
          "data": {
            "text/plain": [
              "1198"
            ]
          },
          "metadata": {
            "tags": []
          },
          "execution_count": 19
        }
      ]
    },
    {
      "cell_type": "code",
      "metadata": {
        "id": "S5vvQsHdp3y4",
        "colab_type": "code",
        "colab": {
          "base_uri": "https://localhost:8080/",
          "height": 34
        },
        "outputId": "547947d2-ebbe-4e5f-b80d-a5f2b434683d"
      },
      "source": [
        "num_x_signals = x_data.shape[1]\n",
        "num_x_signals"
      ],
      "execution_count": 20,
      "outputs": [
        {
          "output_type": "execute_result",
          "data": {
            "text/plain": [
              "8"
            ]
          },
          "metadata": {
            "tags": []
          },
          "execution_count": 20
        }
      ]
    },
    {
      "cell_type": "code",
      "metadata": {
        "id": "-Joi1p0eqGms",
        "colab_type": "code",
        "colab": {
          "base_uri": "https://localhost:8080/",
          "height": 34
        },
        "outputId": "7e1af0bc-c9b8-478f-b797-a007487e0f2f"
      },
      "source": [
        "num_y_signals = y_data.shape[1]\n",
        "num_y_signals"
      ],
      "execution_count": 21,
      "outputs": [
        {
          "output_type": "execute_result",
          "data": {
            "text/plain": [
              "1"
            ]
          },
          "metadata": {
            "tags": []
          },
          "execution_count": 21
        }
      ]
    },
    {
      "cell_type": "code",
      "metadata": {
        "id": "XiLe3MfiqGgs",
        "colab_type": "code",
        "colab": {}
      },
      "source": [
        "#X_train, X_test, y_train, y_test = train_test_split(X,y, test_size = 0.3, random_state=42)\n",
        "\n",
        "# Create the Scaler object scaler = StandardScaler()\n",
        "x_scaled = StandardScaler()\n",
        "\n",
        "x_train_scaled = x_scaled.fit_transform(x_train)\n",
        "x_test_scaled=x_scaled.transform(x_test)"
      ],
      "execution_count": 0,
      "outputs": []
    },
    {
      "cell_type": "code",
      "metadata": {
        "id": "8QztkY2wqGZe",
        "colab_type": "code",
        "colab": {
          "base_uri": "https://localhost:8080/",
          "height": 51
        },
        "outputId": "71fa72ba-2bb7-4522-936b-a63bb555316d"
      },
      "source": [
        "print(\"Min:\", np.min(x_train_scaled))\n",
        "print(\"Max:\", np.max(x_train_scaled))"
      ],
      "execution_count": 23,
      "outputs": [
        {
          "output_type": "stream",
          "text": [
            "Min: -3.850902776625826\n",
            "Max: 4.331086940634542\n"
          ],
          "name": "stdout"
        }
      ]
    },
    {
      "cell_type": "code",
      "metadata": {
        "id": "S8KtkmcCp3uY",
        "colab_type": "code",
        "colab": {}
      },
      "source": [
        "#y_scaler = MinMaxScaler()\n",
        "#y_train_scaled = y_scaler.fit_transform(y_train)\n",
        "#y_test_scaled = y_scaler.transform(y_test)\n",
        "y_train_scaled = y_train\n",
        "y_test_scaled =y_test\n"
      ],
      "execution_count": 0,
      "outputs": []
    },
    {
      "cell_type": "code",
      "metadata": {
        "id": "LI9gUaKrp3n1",
        "colab_type": "code",
        "colab": {
          "base_uri": "https://localhost:8080/",
          "height": 51
        },
        "outputId": "b16ce476-8dc0-4d7b-d492-9047c2206836"
      },
      "source": [
        "#generando datos\n",
        "print(x_train_scaled.shape)\n",
        "print(y_train.shape)"
      ],
      "execution_count": 25,
      "outputs": [
        {
          "output_type": "stream",
          "text": [
            "(1078, 8)\n",
            "(1078, 1)\n"
          ],
          "name": "stdout"
        }
      ]
    },
    {
      "cell_type": "code",
      "metadata": {
        "id": "x7T5UTQupy5D",
        "colab_type": "code",
        "colab": {}
      },
      "source": [
        "#cuando hay muchos datos se utiliza esta funcion para hacelos por batch\n",
        "def batch_generator(batch_size, sequence_length):\n",
        "    \"\"\"\n",
        "    Generator function for creating random batches of training-data.\n",
        "    \"\"\"\n",
        "\n",
        "    # Infinite loop.\n",
        "    while True:\n",
        "        # Allocate a new array for the batch of input-signals.\n",
        "        x_shape = (batch_size, sequence_length, num_x_signals)\n",
        "        x_batch = np.zeros(shape=x_shape, dtype=np.float16)\n",
        "\n",
        "        # Allocate a new array for the batch of output-signals.\n",
        "        y_shape = (batch_size, sequence_length, num_y_signals)\n",
        "        y_batch = np.zeros(shape=y_shape, dtype=np.float16)\n",
        "\n",
        "        # Fill the batch with random sequences of data.\n",
        "        for i in range(batch_size):\n",
        "            # Get a random start-index.\n",
        "            # This points somewhere into the training-data.\n",
        "            idx = np.random.randint(num_train - sequence_length)\n",
        "            \n",
        "            # Copy the sequences of data starting at this index.\n",
        "            x_batch[i] = x_train_scaled[idx:idx+sequence_length]\n",
        "            y_batch[i] = y_train_scaled[idx:idx+sequence_length]\n",
        "        \n",
        "        yield (x_batch, y_batch)"
      ],
      "execution_count": 0,
      "outputs": []
    },
    {
      "cell_type": "code",
      "metadata": {
        "id": "52Bvs5DzPqxy",
        "colab_type": "code",
        "colab": {}
      },
      "source": [
        "batch_size = 256"
      ],
      "execution_count": 0,
      "outputs": []
    },
    {
      "cell_type": "code",
      "metadata": {
        "id": "qfdb9m_mPqnc",
        "colab_type": "code",
        "colab": {
          "base_uri": "https://localhost:8080/",
          "height": 34
        },
        "outputId": "576292ca-0be9-44ba-88c3-b6e1c5ccf788"
      },
      "source": [
        "sequence_length = 20*12\n",
        "sequence_length"
      ],
      "execution_count": 28,
      "outputs": [
        {
          "output_type": "execute_result",
          "data": {
            "text/plain": [
              "240"
            ]
          },
          "metadata": {
            "tags": []
          },
          "execution_count": 28
        }
      ]
    },
    {
      "cell_type": "code",
      "metadata": {
        "id": "QITQ7SzmPqZ3",
        "colab_type": "code",
        "colab": {}
      },
      "source": [
        "generator = batch_generator(batch_size=batch_size,\n",
        "                            sequence_length=sequence_length)"
      ],
      "execution_count": 0,
      "outputs": []
    },
    {
      "cell_type": "code",
      "metadata": {
        "id": "StzYu2oEPqLB",
        "colab_type": "code",
        "colab": {}
      },
      "source": [
        "x_batch, y_batch = next(generator)"
      ],
      "execution_count": 0,
      "outputs": []
    },
    {
      "cell_type": "code",
      "metadata": {
        "id": "kMPDebs6QZ7o",
        "colab_type": "code",
        "colab": {
          "base_uri": "https://localhost:8080/",
          "height": 51
        },
        "outputId": "c8e117fb-e261-4eb8-95db-1f463cbd428c"
      },
      "source": [
        "print(x_batch.shape)\n",
        "print(y_batch.shape)"
      ],
      "execution_count": 31,
      "outputs": [
        {
          "output_type": "stream",
          "text": [
            "(256, 240, 8)\n",
            "(256, 240, 1)\n"
          ],
          "name": "stdout"
        }
      ]
    },
    {
      "cell_type": "code",
      "metadata": {
        "id": "ec0uHOjgQZzH",
        "colab_type": "code",
        "colab": {
          "base_uri": "https://localhost:8080/",
          "height": 282
        },
        "outputId": "2b5817fc-547a-4384-fe8b-b5baa537fdf4"
      },
      "source": [
        "#una de las señales\n",
        "batch = 0   # First sequence in the batch.\n",
        "signal = 0  # First signal from the 20 input-signals.\n",
        "seq = x_batch[batch, :, signal]\n",
        "plt.plot(seq)"
      ],
      "execution_count": 32,
      "outputs": [
        {
          "output_type": "execute_result",
          "data": {
            "text/plain": [
              "[<matplotlib.lines.Line2D at 0x7fb33ba2cb00>]"
            ]
          },
          "metadata": {
            "tags": []
          },
          "execution_count": 32
        },
        {
          "output_type": "display_data",
          "data": {
            "image/png": "[encoded data removed]",
            "text/plain": [
              "<Figure size 432x288 with 1 Axes>"
            ]
          },
          "metadata": {
            "tags": [],
            "needs_background": "light"
          }
        }
      ]
    },
    {
      "cell_type": "code",
      "metadata": {
        "id": "bnih5rVOQZqS",
        "colab_type": "code",
        "colab": {
          "base_uri": "https://localhost:8080/",
          "height": 282
        },
        "outputId": "3b22f6f0-03db-4d3d-e10a-6bbdf7131a7a"
      },
      "source": [
        "seq = y_batch[batch, :, signal]\n",
        "plt.plot(seq)"
      ],
      "execution_count": 33,
      "outputs": [
        {
          "output_type": "execute_result",
          "data": {
            "text/plain": [
              "[<matplotlib.lines.Line2D at 0x7fb33b5025c0>]"
            ]
          },
          "metadata": {
            "tags": []
          },
          "execution_count": 33
        },
        {
          "output_type": "display_data",
          "data": {
            "image/png": "[encoded data removed]",
            "text/plain": [
              "<Figure size 432x288 with 1 Axes>"
            ]
          },
          "metadata": {
            "tags": [],
            "needs_background": "light"
          }
        }
      ]
    },
    {
      "cell_type": "code",
      "metadata": {
        "id": "75bnKJTOQZhb",
        "colab_type": "code",
        "colab": {}
      },
      "source": [
        "#conjunto de validación\n",
        "validation_data = (np.expand_dims(x_test_scaled, axis=0),np.expand_dims(y_test_scaled, axis=0))"
      ],
      "execution_count": 0,
      "outputs": []
    },
    {
      "cell_type": "code",
      "metadata": {
        "id": "8z5LTn9ZQZYa",
        "colab_type": "code",
        "colab": {}
      },
      "source": [
        "#crear la red\n",
        "model = Sequential()\n",
        "#Gated Recurrent Unit con 512 salidas por cada eime-step in la sequencia\n",
        "model.add(GRU(units=512,return_sequences=True,input_shape=(None, num_x_signals,)))\n",
        "#función de activación\n",
        "model.add(Dense(num_y_signals, activation='relu'))#sigmoid\n"
      ],
      "execution_count": 0,
      "outputs": []
    },
    {
      "cell_type": "code",
      "metadata": {
        "id": "rONgK2DKRmU1",
        "colab_type": "code",
        "colab": {}
      },
      "source": [
        "#if False:\n",
        "#    from tensorflow.python.keras.initializers import RandomUniform\n",
        "#\n",
        "    # Maybe use lower init-ranges.\n",
        "#    init = RandomUniform(minval=-0.05, maxval=0.05)#\n",
        "\n",
        "#    model.add(Dense(num_y_signals,\n",
        "#                     activation='linear',\n",
        "#                    kernel_initializer=init))"
      ],
      "execution_count": 0,
      "outputs": []
    },
    {
      "cell_type": "code",
      "metadata": {
        "id": "iYeZ4N3-RmPU",
        "colab_type": "code",
        "colab": {}
      },
      "source": [
        "warmup_steps = 50"
      ],
      "execution_count": 0,
      "outputs": []
    },
    {
      "cell_type": "code",
      "metadata": {
        "id": "jcTLRKo4RmL6",
        "colab_type": "code",
        "colab": {}
      },
      "source": [
        "def loss_mse_warmup(y_true, y_pred):\n",
        "    \"\"\"\n",
        "    Calculate the Mean Squared Error between y_true and y_pred,\n",
        "    but ignore the beginning \"warmup\" part of the sequences.\n",
        "    \n",
        "    y_true is the desired output.\n",
        "    y_pred is the model's output.\n",
        "    \"\"\"\n",
        "\n",
        "    # The shape of both input tensors are:\n",
        "    # [batch_size, sequence_length, num_y_signals].\n",
        "\n",
        "    # Ignore the \"warmup\" parts of the sequences\n",
        "    # by taking slices of the tensors.\n",
        "    y_true_slice = y_true[:, warmup_steps:, :]\n",
        "    y_pred_slice = y_pred[:, warmup_steps:, :]\n",
        "\n",
        "    # These sliced tensors both have this shape:\n",
        "    # [batch_size, sequence_length - warmup_steps, num_y_signals]\n",
        "\n",
        "    # Calculat the Mean Squared Error and use it as loss.\n",
        "    mse = mean(square(y_true_slice - y_pred_slice))\n",
        "    \n",
        "    return mse"
      ],
      "execution_count": 0,
      "outputs": []
    },
    {
      "cell_type": "code",
      "metadata": {
        "id": "-jD2OapKRmHh",
        "colab_type": "code",
        "colab": {
          "base_uri": "https://localhost:8080/",
          "height": 221
        },
        "outputId": "7e658cbc-31dd-49ef-ed2f-d9c5190cbaec"
      },
      "source": [
        "#Modelo compilador\n",
        "optimizer = RMSprop(lr=1e-3)\n",
        "model.compile(loss=loss_mse_warmup, optimizer=optimizer)\n",
        "model.summary()"
      ],
      "execution_count": 38,
      "outputs": [
        {
          "output_type": "stream",
          "text": [
            "Model: \"sequential\"\n",
            "_________________________________________________________________\n",
            "Layer (type)                 Output Shape              Param #   \n",
            "=================================================================\n",
            "gru (GRU)                    (None, None, 512)         801792    \n",
            "_________________________________________________________________\n",
            "dense (Dense)                (None, None, 1)           513       \n",
            "=================================================================\n",
            "Total params: 802,305\n",
            "Trainable params: 802,305\n",
            "Non-trainable params: 0\n",
            "_________________________________________________________________\n"
          ],
          "name": "stdout"
        }
      ]
    },
    {
      "cell_type": "code",
      "metadata": {
        "id": "DIGCdD44RmBT",
        "colab_type": "code",
        "colab": {}
      },
      "source": [
        "#PARA SALVAR ALGUNOS PUNTOS DURANTE EL APRENDIZAJE CALLBACKS\n",
        "path_checkpoint = '23_checkpoint.keras'\n",
        "callback_checkpoint = ModelCheckpoint(filepath=path_checkpoint,\n",
        "                                      monitor='val_loss',\n",
        "                                      verbose=1,\n",
        "                                      save_weights_only=True,\n",
        "                                      save_best_only=True)"
      ],
      "execution_count": 0,
      "outputs": []
    },
    {
      "cell_type": "code",
      "metadata": {
        "id": "Tgnvwm7hRl4D",
        "colab_type": "code",
        "colab": {}
      },
      "source": [
        "# CALLBACK PARA PARAR LA OPTIMIZACIÓNCUANDO DESEMPEÑO EMPEORE EN EL CONJUNTO DE VALIDACION\n",
        "callback_early_stopping = EarlyStopping(monitor='val_loss',\n",
        "                                        patience=5, verbose=1)"
      ],
      "execution_count": 0,
      "outputs": []
    },
    {
      "cell_type": "code",
      "metadata": {
        "id": "sULTCF7RTUPa",
        "colab_type": "code",
        "colab": {}
      },
      "source": [
        "#REPORTE DE LA CORRIDA\n",
        "callback_tensorboard = TensorBoard(log_dir='./23_logs/',\n",
        "                                   histogram_freq=0,\n",
        "                                   write_graph=False)"
      ],
      "execution_count": 0,
      "outputs": []
    },
    {
      "cell_type": "code",
      "metadata": {
        "id": "QaNvJcCpTUHM",
        "colab_type": "code",
        "colab": {}
      },
      "source": [
        "#PARA EL APRENDIZAJE SI NO MEJORA LA TASA DE APRENDIZAJE DESPUES DE CIRTAS EPOCHS\n",
        "callback_reduce_lr = ReduceLROnPlateau(monitor='val_loss',\n",
        "                                       factor=0.1,\n",
        "                                       min_lr=1e-4,\n",
        "                                        patience=0,\n",
        "                                       verbose=1)"
      ],
      "execution_count": 0,
      "outputs": []
    },
    {
      "cell_type": "code",
      "metadata": {
        "id": "CR2HdNCzTUAe",
        "colab_type": "code",
        "colab": {}
      },
      "source": [
        "callbacks = [callback_early_stopping,\n",
        "             callback_checkpoint,\n",
        "             callback_tensorboard,\n",
        "             callback_reduce_lr]"
      ],
      "execution_count": 0,
      "outputs": []
    },
    {
      "cell_type": "code",
      "metadata": {
        "id": "ToqBufu6TsCd",
        "colab_type": "code",
        "colab": {
          "base_uri": "https://localhost:8080/",
          "height": 1000
        },
        "outputId": "7328b384-382d-4457-b1d6-e3a8ab00de3a"
      },
      "source": [
        "#NEURAL NETWORK\n",
        "%%time\n",
        "model.fit(x=generator,\n",
        "          epochs=20,\n",
        "          steps_per_epoch=100,\n",
        "          validation_data=validation_data,\n",
        "          callbacks=callbacks)"
      ],
      "execution_count": 45,
      "outputs": [
        {
          "output_type": "stream",
          "text": [
            "Epoch 1/20\n",
            "100/100 [==============================] - ETA: 0s - loss: 8756844.0000\n",
            "Epoch 00001: val_loss improved from inf to 13235408.00000, saving model to 23_checkpoint.keras\n",
            "100/100 [==============================] - 719s 7s/step - loss: 8756844.0000 - val_loss: 13235408.0000 - lr: 0.0010\n",
            "Epoch 2/20\n",
            "100/100 [==============================] - ETA: 0s - loss: 8437776.0000\n",
            "Epoch 00002: val_loss improved from 13235408.00000 to 12855745.00000, saving model to 23_checkpoint.keras\n",
            "100/100 [==============================] - 712s 7s/step - loss: 8437776.0000 - val_loss: 12855745.0000 - lr: 0.0010\n",
            "Epoch 3/20\n",
            "100/100 [==============================] - ETA: 0s - loss: 8146604.0000\n",
            "Epoch 00003: val_loss improved from 12855745.00000 to 12492166.00000, saving model to 23_checkpoint.keras\n",
            "100/100 [==============================] - 736s 7s/step - loss: 8146604.0000 - val_loss: 12492166.0000 - lr: 0.0010\n",
            "Epoch 4/20\n",
            "100/100 [==============================] - ETA: 0s - loss: 7860167.5000\n",
            "Epoch 00004: val_loss improved from 12492166.00000 to 12134003.00000, saving model to 23_checkpoint.keras\n",
            "100/100 [==============================] - 733s 7s/step - loss: 7860167.5000 - val_loss: 12134003.0000 - lr: 0.0010\n",
            "Epoch 5/20\n",
            "100/100 [==============================] - ETA: 0s - loss: 7573858.5000\n",
            "Epoch 00005: val_loss improved from 12134003.00000 to 11781146.00000, saving model to 23_checkpoint.keras\n",
            "100/100 [==============================] - 735s 7s/step - loss: 7573858.5000 - val_loss: 11781146.0000 - lr: 0.0010\n",
            "Epoch 6/20\n",
            "100/100 [==============================] - ETA: 0s - loss: 7298837.0000\n",
            "Epoch 00006: val_loss improved from 11781146.00000 to 11433512.00000, saving model to 23_checkpoint.keras\n",
            "100/100 [==============================] - 751s 8s/step - loss: 7298837.0000 - val_loss: 11433512.0000 - lr: 0.0010\n",
            "Epoch 7/20\n",
            "100/100 [==============================] - ETA: 0s - loss: 7021981.0000\n",
            "Epoch 00007: val_loss improved from 11433512.00000 to 11091228.00000, saving model to 23_checkpoint.keras\n",
            "100/100 [==============================] - 746s 7s/step - loss: 7021981.0000 - val_loss: 11091228.0000 - lr: 0.0010\n",
            "Epoch 8/20\n",
            "100/100 [==============================] - ETA: 0s - loss: 6753533.5000\n",
            "Epoch 00008: val_loss improved from 11091228.00000 to 10754121.00000, saving model to 23_checkpoint.keras\n",
            "100/100 [==============================] - 731s 7s/step - loss: 6753533.5000 - val_loss: 10754121.0000 - lr: 0.0010\n",
            "Epoch 9/20\n",
            "100/100 [==============================] - ETA: 0s - loss: 6486478.0000\n",
            "Epoch 00009: val_loss improved from 10754121.00000 to 10422368.00000, saving model to 23_checkpoint.keras\n",
            "100/100 [==============================] - 728s 7s/step - loss: 6486478.0000 - val_loss: 10422368.0000 - lr: 0.0010\n",
            "Epoch 10/20\n",
            "100/100 [==============================] - ETA: 0s - loss: 6230520.5000\n",
            "Epoch 00010: val_loss improved from 10422368.00000 to 10095760.00000, saving model to 23_checkpoint.keras\n",
            "100/100 [==============================] - 730s 7s/step - loss: 6230520.5000 - val_loss: 10095760.0000 - lr: 0.0010\n",
            "Epoch 11/20\n",
            "100/100 [==============================] - ETA: 0s - loss: 5979946.0000\n",
            "Epoch 00011: val_loss improved from 10095760.00000 to 9774462.00000, saving model to 23_checkpoint.keras\n",
            "100/100 [==============================] - 743s 7s/step - loss: 5979946.0000 - val_loss: 9774462.0000 - lr: 0.0010\n",
            "Epoch 12/20\n",
            "100/100 [==============================] - ETA: 0s - loss: 5725058.0000\n",
            "Epoch 00012: val_loss improved from 9774462.00000 to 9458430.00000, saving model to 23_checkpoint.keras\n",
            "100/100 [==============================] - 732s 7s/step - loss: 5725058.0000 - val_loss: 9458430.0000 - lr: 0.0010\n",
            "Epoch 13/20\n",
            "100/100 [==============================] - ETA: 0s - loss: 5490454.5000\n",
            "Epoch 00013: val_loss improved from 9458430.00000 to 9147647.00000, saving model to 23_checkpoint.keras\n",
            "100/100 [==============================] - 721s 7s/step - loss: 5490454.5000 - val_loss: 9147647.0000 - lr: 0.0010\n",
            "Epoch 14/20\n",
            "100/100 [==============================] - ETA: 0s - loss: 5251911.0000\n",
            "Epoch 00014: val_loss improved from 9147647.00000 to 8842131.00000, saving model to 23_checkpoint.keras\n",
            "100/100 [==============================] - 722s 7s/step - loss: 5251911.0000 - val_loss: 8842131.0000 - lr: 0.0010\n",
            "Epoch 15/20\n",
            "100/100 [==============================] - ETA: 0s - loss: 5016328.5000\n",
            "Epoch 00015: val_loss improved from 8842131.00000 to 8541835.00000, saving model to 23_checkpoint.keras\n",
            "100/100 [==============================] - 725s 7s/step - loss: 5016328.5000 - val_loss: 8541835.0000 - lr: 0.0010\n",
            "Epoch 16/20\n",
            "100/100 [==============================] - ETA: 0s - loss: 4793479.5000\n",
            "Epoch 00016: val_loss improved from 8541835.00000 to 8246841.50000, saving model to 23_checkpoint.keras\n",
            "100/100 [==============================] - 742s 7s/step - loss: 4793479.5000 - val_loss: 8246841.5000 - lr: 0.0010\n",
            "Epoch 17/20\n",
            "100/100 [==============================] - ETA: 0s - loss: 4570454.0000\n",
            "Epoch 00017: val_loss improved from 8246841.50000 to 7957054.00000, saving model to 23_checkpoint.keras\n",
            "100/100 [==============================] - 736s 7s/step - loss: 4570454.0000 - val_loss: 7957054.0000 - lr: 0.0010\n",
            "Epoch 18/20\n",
            "100/100 [==============================] - ETA: 0s - loss: 4352383.5000\n",
            "Epoch 00018: val_loss improved from 7957054.00000 to 7672587.00000, saving model to 23_checkpoint.keras\n",
            "100/100 [==============================] - 725s 7s/step - loss: 4352383.5000 - val_loss: 7672587.0000 - lr: 0.0010\n",
            "Epoch 19/20\n",
            "100/100 [==============================] - ETA: 0s - loss: 4142408.0000\n",
            "Epoch 00019: val_loss improved from 7672587.00000 to 7393322.00000, saving model to 23_checkpoint.keras\n",
            "100/100 [==============================] - 723s 7s/step - loss: 4142408.0000 - val_loss: 7393322.0000 - lr: 0.0010\n",
            "Epoch 20/20\n",
            "100/100 [==============================] - ETA: 0s - loss: 3938895.0000\n",
            "Epoch 00020: val_loss improved from 7393322.00000 to 7120754.50000, saving model to 23_checkpoint.keras\n",
            "100/100 [==============================] - 728s 7s/step - loss: 3938895.0000 - val_loss: 7120754.5000 - lr: 0.0010\n",
            "CPU times: user 7h 11min 42s, sys: 30min 52s, total: 7h 42min 34s\n",
            "Wall time: 4h 6min 11s\n"
          ],
          "name": "stdout"
        },
        {
          "output_type": "execute_result",
          "data": {
            "text/plain": [
              "<tensorflow.python.keras.callbacks.History at 0x7fb33ba9a208>"
            ]
          },
          "metadata": {
            "tags": []
          },
          "execution_count": 45
        }
      ]
    },
    {
      "cell_type": "code",
      "metadata": {
        "id": "5ajw-XbmTr_N",
        "colab_type": "code",
        "colab": {}
      },
      "source": [
        "try:\n",
        "    model.load_weights(path_checkpoint)\n",
        "except Exception as error:\n",
        "    print(\"Error trying to load checkpoint.\")\n",
        "    print(error)"
      ],
      "execution_count": 0,
      "outputs": []
    },
    {
      "cell_type": "code",
      "metadata": {
        "id": "_fE3jZ-lTr8B",
        "colab_type": "code",
        "colab": {
          "base_uri": "https://localhost:8080/",
          "height": 51
        },
        "outputId": "b3b1f4eb-9ead-4a66-9a7d-c11fe4877388"
      },
      "source": [
        "#TEST SET\n",
        "result = model.evaluate(x=np.expand_dims(x_test_scaled, axis=0),\n",
        "                        y=np.expand_dims(y_test_scaled, axis=0))\n",
        "print(\"loss (test-set):\",result)"
      ],
      "execution_count": 55,
      "outputs": [
        {
          "output_type": "stream",
          "text": [
            "1/1 [==============================] - 0s 2ms/step - loss: 7120754.5000\n",
            "loss (test-set): 7120754.5\n"
          ],
          "name": "stdout"
        }
      ]
    },
    {
      "cell_type": "code",
      "metadata": {
        "id": "xigBgwekTr4t",
        "colab_type": "code",
        "colab": {}
      },
      "source": [
        "# If you have several metrics you can use this instead.\n",
        "if False:\n",
        "    for res, metric in zip(result, model.metrics_names):\n",
        "        print(\"{0}: {1:.3e}\".format(metric, res))"
      ],
      "execution_count": 0,
      "outputs": []
    },
    {
      "cell_type": "code",
      "metadata": {
        "id": "Y1hHd4awTr0Q",
        "colab_type": "code",
        "colab": {}
      },
      "source": [
        "#funcion para generar predicciones\n",
        "def plot_comparison(start_idx, length=100, train=True):\n",
        "    \"\"\"\n",
        "    Plot the predicted and true output-signals.\n",
        "    \n",
        "    :param start_idx: Start-index for the time-series.\n",
        "    :param length: Sequence-length to process and plot.\n",
        "    :param train: Boolean whether to use training- or test-set.\n",
        "    \"\"\"\n",
        "    \n",
        "    if train:\n",
        "        # Use training-data.\n",
        "        x = x_train_scaled\n",
        "        y_true = y_train\n",
        "    else:\n",
        "        # Use test-data.\n",
        "        x = x_test_scaled\n",
        "        y_true = y_test\n",
        "    \n",
        "    # End-index for the sequences.\n",
        "    end_idx = start_idx + length\n",
        "    \n",
        "    # Select the sequences from the given start-index and\n",
        "    # of the given length.\n",
        "    x = x[start_idx:end_idx]\n",
        "    y_true = y_true[start_idx:end_idx]\n",
        "    \n",
        "    # Input-signals for the model.\n",
        "    x = np.expand_dims(x, axis=0)\n",
        "\n",
        "    # Use the model to predict the output-signals.\n",
        "    y_pred = model.predict(x)\n",
        "    \n",
        "    # The output of the model is between 0 and 1.\n",
        "    # Do an inverse map to get it back to the scale\n",
        "    # of the original data-set.\n",
        "    #y_pred_rescaled = y_scaler.inverse_transform(y_pred[0])\n",
        "    \n",
        "    # For each output-signal.\n",
        "    for signal in range(len(target_name)):\n",
        "        # Get the output-signal predicted by the model.\n",
        "        #signal_pred = y_pred_rescaled[:, signal]\n",
        "        signal_pred = y_pred[:, signal]\n",
        "        \n",
        "        # Get the true output-signal from the data-set.\n",
        "        signal_true = y_true[:, signal]\n",
        "\n",
        "        # Make the plotting-canvas bigger.\n",
        "        plt.figure(figsize=(15,5))\n",
        "        \n",
        "        # Plot and compare the two signals.\n",
        "        plt.plot(signal_true, label='true')\n",
        "        plt.plot(signal_pred, label='pred')\n",
        "        \n",
        "        # Plot grey box for warmup-period.\n",
        "        p = plt.axvspan(0, warmup_steps, facecolor='black', alpha=0.15)\n",
        "        \n",
        "        # Plot labels etc.\n",
        "        plt.ylabel(target_name[signal])\n",
        "        plt.legend()\n",
        "        plt.show()"
      ],
      "execution_count": 0,
      "outputs": []
    },
    {
      "cell_type": "code",
      "metadata": {
        "id": "5siFoTfvakTV",
        "colab_type": "code",
        "colab": {}
      },
      "source": [
        "def plot_comparison(start_idx, length=100, train=True):\n",
        "    \"\"\"\n",
        "    Plot the predicted and true output-signals.\n",
        "    \n",
        "    :param start_idx: Start-index for the time-series.\n",
        "    :param length: Sequence-length to process and plot.\n",
        "    :param train: Boolean whether to use training- or test-set.\n",
        "    \"\"\"\n",
        "    \n",
        "    if train:\n",
        "        # Use training-data.\n",
        "        x = x_train_scaled\n",
        "        y_true = y_train\n",
        "    else:\n",
        "        # Use test-data.\n",
        "        x = x_test_scaled\n",
        "        y_true = y_test\n",
        "    \n",
        "    # End-index for the sequences.\n",
        "    end_idx = start_idx + length\n",
        "    \n",
        "    # Select the sequences from the given start-index and\n",
        "    # of the given length.\n",
        "    x = x[start_idx:end_idx]\n",
        "    y_true = y_true[start_idx:end_idx]\n",
        "    \n",
        "    # Input-signals for the model.\n",
        "    x = np.expand_dims(x, axis=0)\n",
        "\n",
        "    # Use the model to predict the output-signals.\n",
        "    y_pred = model.predict(x)\n",
        "    \n",
        "    # The output of the model is between 0 and 1.\n",
        "    # Do an inverse map to get it back to the scale\n",
        "    # of the original data-set.\n",
        "    #y_pred_rescaled = y_scaler.inverse_transform(y_pred[0])\n",
        "    \n",
        "    # For each output-signal.\n",
        "    for signal in range(len(target_name)):\n",
        "        # Get the output-signal predicted by the model.\n",
        "        #signal_pred = y_pred_rescaled[:, signal]\n",
        "        signal_pred = y_train_scaled[:, signal]\n",
        "        \n",
        "        # Get the true output-signal from the data-set.\n",
        "        signal_true = y_true[:, signal]\n",
        "\n",
        "        # Make the plotting-canvas bigger.\n",
        "        plt.figure(figsize=(15,5))\n",
        "        \n",
        "        # Plot and compare the two signals.\n",
        "        plt.plot(signal_true, label='true')\n",
        "        plt.plot(signal_pred, label='pred')\n",
        "        \n",
        "        # Plot grey box for warmup-period.\n",
        "        p = plt.axvspan(0, warmup_steps, facecolor='black', alpha=0.15)\n",
        "        \n",
        "        # Plot labels etc.\n",
        "        plt.ylabel(target_name[signal])\n",
        "        plt.legend()\n",
        "        plt.show()"
      ],
      "execution_count": 0,
      "outputs": []
    },
    {
      "cell_type": "code",
      "metadata": {
        "id": "fPbla-ZATrwT",
        "colab_type": "code",
        "colab": {
          "base_uri": "https://localhost:8080/",
          "height": 320
        },
        "outputId": "4d3c5d12-93fd-4538-8422-963afc82f6c1"
      },
      "source": [
        "plot_comparison(start_idx=100, length=1200, train=True)"
      ],
      "execution_count": 83,
      "outputs": [
        {
          "output_type": "display_data",
          "data": {
            "image/png": "[encoded data removed]",
            "text/plain": [
              "<Figure size 1080x360 with 1 Axes>"
            ]
          },
          "metadata": {
            "tags": [],
            "needs_background": "light"
          }
        }
      ]
    },
    {
      "cell_type": "code",
      "metadata": {
        "id": "dzczx16LTT3O",
        "colab_type": "code",
        "colab": {
          "base_uri": "https://localhost:8080/",
          "height": 320
        },
        "outputId": "84c3c5d6-24f4-48df-c7a7-7db3fe1bbd10"
      },
      "source": [
        "plot_comparison(start_idx=60, length=100, train=False)"
      ],
      "execution_count": 82,
      "outputs": [
        {
          "output_type": "display_data",
          "data": {
            "image/png": "[encoded data removed]",
            "text/plain": [
              "<Figure size 1080x360 with 1 Axes>"
            ]
          },
          "metadata": {
            "tags": [],
            "needs_background": "light"
          }
        }
      ]
    },
    {
      "cell_type": "code",
      "metadata": {
        "id": "S2MGk0S8KSIn",
        "colab_type": "code",
        "colab": {}
      },
      "source": [
        "features.plot(subplots=True)"
      ],
      "execution_count": 0,
      "outputs": []
    },
    {
      "cell_type": "code",
      "metadata": {
        "id": "QD8VyMWJPlkL",
        "colab_type": "code",
        "colab": {}
      },
      "source": [
        "dataset = features.values\n",
        "data_mean = dataset[:TRAIN_SPLIT].mean(axis=0)\n",
        "data_std = dataset[:TRAIN_SPLIT].std(axis=0)"
      ],
      "execution_count": 0,
      "outputs": []
    },
    {
      "cell_type": "code",
      "metadata": {
        "id": "BUoYr6nWQOdF",
        "colab_type": "code",
        "colab": {}
      },
      "source": [
        "dataset = (dataset-data_mean)/data_std"
      ],
      "execution_count": 0,
      "outputs": []
    },
    {
      "cell_type": "code",
      "metadata": {
        "id": "FLsOASeqQLbL",
        "colab_type": "code",
        "colab": {}
      },
      "source": [
        "def multivariate_data(dataset, target, start_index, end_index, history_size,\n",
        "                      target_size, step, single_step=False):\n",
        "  data = []\n",
        "  labels = []\n",
        "\n",
        "  start_index = start_index + history_size\n",
        "  if end_index is None:\n",
        "    end_index = len(dataset) - target_size\n",
        "\n",
        "  for i in range(start_index, end_index):\n",
        "    indices = range(i-history_size, i, step)\n",
        "    data.append(dataset[indices])\n",
        "\n",
        "    if single_step:\n",
        "      labels.append(target[i+target_size])\n",
        "    else:\n",
        "      labels.append(target[i:i+target_size])\n",
        "\n",
        "  return np.array(data), np.array(labels)"
      ],
      "execution_count": 0,
      "outputs": []
    },
    {
      "cell_type": "code",
      "metadata": {
        "id": "ICOTr8_9TjVR",
        "colab_type": "code",
        "colab": {}
      },
      "source": [
        "dataset"
      ],
      "execution_count": 0,
      "outputs": []
    },
    {
      "cell_type": "code",
      "metadata": {
        "id": "g1_j0jLlS5W4",
        "colab_type": "code",
        "colab": {}
      },
      "source": [
        "past_history = 1120\n",
        "future_target = 80\n",
        "STEP = 5\n",
        "\n",
        "x_train_single, y_train_single = multivariate_data(dataset, dataset[:, 1], 0,\n",
        "                                                   TRAIN_SPLIT, past_history,\n",
        "                                                   future_target, STEP,\n",
        "                                                   single_step=True)\n",
        "x_val_single, y_val_single = multivariate_data(dataset, dataset[:, 1],\n",
        "                                               TRAIN_SPLIT, None, past_history,\n",
        "                                               future_target, STEP,\n",
        "                                               single_step=True)"
      ],
      "execution_count": 0,
      "outputs": []
    },
    {
      "cell_type": "code",
      "metadata": {
        "id": "9OrhSaX4ZpkL",
        "colab_type": "code",
        "colab": {}
      },
      "source": [
        "print ('Single window of past history : {}'.format(x_train_multi[0].shape))\n",
        "print ('\\n Target temperature to predict : {}'.format(y_train_multi[0].shape))"
      ],
      "execution_count": 0,
      "outputs": []
    },
    {
      "cell_type": "code",
      "metadata": {
        "id": "tFu4xFFCLWnJ",
        "colab_type": "code",
        "colab": {}
      },
      "source": [
        "#función para escoger parte de los datos\n",
        "def windowed_dataset(series, window_size, batch_size, shuffle_buffer):\n",
        "    series = tf.expand_dims(series, axis=-1)\n",
        "    ds = tf.data.Dataset.from_tensor_slices(series)\n",
        "    ds = ds.window(window_size + 1, shift=1, drop_remainder=True)\n",
        "    ds = ds.flat_map(lambda w: w.batch(window_size + 1))\n",
        "    ds = ds.shuffle(shuffle_buffer)\n",
        "    ds = ds.map(lambda w: (w[:-1], w[1:]))\n",
        "    return ds.batch(batch_size).prefetch(1)"
      ],
      "execution_count": 0,
      "outputs": []
    },
    {
      "cell_type": "code",
      "metadata": {
        "id": "O0MzmfEELWxh",
        "colab_type": "code",
        "colab": {}
      },
      "source": [
        "tf.keras.backend.clear_session()\n",
        "tf.random.set_seed(51)\n",
        "np.random.seed(51)\n",
        "shuffle_buffer_size = 1000\n",
        "window_size = 60\n",
        "batch_size = 100\n",
        "train_set = windowed_dataset(x_train_single, window_size, batch_size, shuffle_buffer_size)\n",
        "print(x_train_single.shape)"
      ],
      "execution_count": 0,
      "outputs": []
    },
    {
      "cell_type": "code",
      "metadata": {
        "id": "H_JTAAdShwt2",
        "colab_type": "code",
        "colab": {}
      },
      "source": [
        "tf.keras.backend.clear_session()\n",
        "model = tf.keras.models.Sequential([\n",
        "  tf.keras.layers.Conv1D(filters=60, kernel_size=3,\n",
        "                      strides=1, padding=\"causal\",\n",
        "                      activation=\"relu\",\n",
        "                      input_shape=[None, 1]),\n",
        "  tf.keras.layers.LSTM(60, return_sequences=True),\n",
        "  tf.keras.layers.LSTM(60, return_sequences=True),\n",
        "  tf.keras.layers.Dense(30, activation=\"relu\"),\n",
        "  tf.keras.layers.Dense(10, activation=\"relu\"),\n",
        "  tf.keras.layers.Dense(1),\n",
        "  tf.keras.layers.Lambda(lambda x: x * 400)\n",
        "])\n",
        "model.summary()"
      ],
      "execution_count": 0,
      "outputs": []
    },
    {
      "cell_type": "code",
      "metadata": {
        "id": "Eg0fV0ZQhzzT",
        "colab_type": "code",
        "colab": {}
      },
      "source": [
        "optimizer = tf.keras.optimizers.SGD(lr=1e-5, momentum=0.9)\n",
        "model.compile(loss=tf.keras.losses.Huber(),\n",
        "              optimizer=optimizer,\n",
        "              metrics=[\"mae\"])\n",
        "history = model.fit(train_set,epochs=50)"
      ],
      "execution_count": 0,
      "outputs": []
    }
  ]
}