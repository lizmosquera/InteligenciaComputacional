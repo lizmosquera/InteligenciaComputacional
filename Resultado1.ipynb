{
  "nbformat": 4,
  "nbformat_minor": 0,
  "metadata": {
    "colab": {
      "name": "Untitled6.ipynb",
      "provenance": [],
      "authorship_tag": "ABX9TyOsgm59vCfRgerraZdvKPoa",
      "include_colab_link": true
    },
    "kernelspec": {
      "name": "python3",
      "display_name": "Python 3"
    }
  },
  "cells": [
    {
      "cell_type": "markdown",
      "metadata": {
        "id": "view-in-github",
        "colab_type": "text"
      },
      "source": [
        "<a href=\"https://colab.research.google.com/github/lizmosquera/InteligenciaComputacional/blob/master/Resultado1.ipynb\" target=\"_parent\"><img src=\"https://colab.research.google.com/assets/colab-badge.svg\" alt=\"Open In Colab\"/></a>"
      ]
    },
    {
      "cell_type": "code",
      "metadata": {
        "id": "tz3rmQeJXEdi",
        "colab_type": "code",
        "colab": {}
      },
      "source": [
        "import tensorflow as tf\n",
        "from math import sqrt\n",
        "\n",
        "from numpy import concatenate\n",
        "\n",
        "import numpy as np\n",
        "import os\n",
        "import pandas as pd\n",
        "\n",
        "from sklearn.preprocessing import StandardScaler,MinMaxScaler\n",
        "from sklearn.model_selection import train_test_split\n",
        "from sklearn.metrics import mean_squared_error,mean_absolute_error,r2_score\n",
        "import torch\n",
        "#from torch.autograd import Variable\n",
        "import torch\n"
      ],
      "execution_count": 0,
      "outputs": []
    },
    {
      "cell_type": "code",
      "metadata": {
        "id": "YbqhCQQ8ctjU",
        "colab_type": "code",
        "colab": {}
      },
      "source": [
        "import matplotlib as mpl\n",
        "\n",
        "mpl.rcParams['figure.figsize'] = (8, 6)\n",
        "mpl.rcParams['axes.grid'] = False\n",
        "\n",
        "%matplotlib inline\n",
        "import matplotlib.pyplot as plt\n",
        "\n",
        "def plot_series(time,series,format=\"-\",start=0,end=None):\n",
        "  plt.plot(time[start:end],series[start:end],format)\n",
        "  plt.xlabel(\"Time\")\n",
        "  plt.ylabel(\"Value\")\n",
        "  plt.grid(True)"
      ],
      "execution_count": 0,
      "outputs": []
    },
    {
      "cell_type": "code",
      "metadata": {
        "id": "dGkEHyFtca7T",
        "colab_type": "code",
        "colab": {
          "base_uri": "https://localhost:8080/",
          "height": 54
        },
        "outputId": "5b35b7d8-a729-4fba-84c1-6dc1ffd87bdf"
      },
      "source": [
        "from tensorflow.keras.models import Sequential\n",
        "from tensorflow.keras.layers import Input, Dense, GRU, Embedding\n",
        "from tensorflow.keras.optimizers import RMSprop\n",
        "from tensorflow.keras.callbacks import EarlyStopping, ModelCheckpoint, TensorBoard, ReduceLROnPlateau\n",
        "from tensorflow.keras.backend import square, mean\n",
        "print (tf.keras.__version__)\n",
        "print (pd.__version__)"
      ],
      "execution_count": 3,
      "outputs": [
        {
          "output_type": "stream",
          "text": [
            "2.3.0-tf\n",
            "1.0.3\n"
          ],
          "name": "stdout"
        }
      ]
    },
    {
      "cell_type": "code",
      "metadata": {
        "id": "vr8T4F32XVmO",
        "colab_type": "code",
        "outputId": "d1a11d09-8443-47f8-dd65-dbf08d5b1202",
        "colab": {
          "base_uri": "https://localhost:8080/",
          "height": 248
        }
      },
      "source": [
        "df = pd.read_csv('Datos_TRM.csv', header=0, index_col=1)\n",
        "#dataset.index = dataset['Date Time']\n",
        "df.index.name = 'date'\n",
        "df=df.drop(['Index','FF_EfcRate'], axis=1)\n",
        "df.tail(5)"
      ],
      "execution_count": 5,
      "outputs": [
        {
          "output_type": "execute_result",
          "data": {
            "text/html": [
              "<div>\n",
              "<style scoped>\n",
              "    .dataframe tbody tr th:only-of-type {\n",
              "        vertical-align: middle;\n",
              "    }\n",
              "\n",
              "    .dataframe tbody tr th {\n",
              "        vertical-align: top;\n",
              "    }\n",
              "\n",
              "    .dataframe thead th {\n",
              "        text-align: right;\n",
              "    }\n",
              "</style>\n",
              "<table border=\"1\" class=\"dataframe\">\n",
              "  <thead>\n",
              "    <tr style=\"text-align: right;\">\n",
              "      <th></th>\n",
              "      <th>TRM</th>\n",
              "      <th>TRM_logn</th>\n",
              "      <th>IBR</th>\n",
              "      <th>YTES1Y_COP</th>\n",
              "      <th>YTES5Y_COP</th>\n",
              "      <th>YTES10Y_COP</th>\n",
              "      <th>YTES1Y_UVR</th>\n",
              "      <th>YTES5Y_UVR</th>\n",
              "      <th>YTES10Y_UVR</th>\n",
              "      <th>FF_UB</th>\n",
              "      <th>WTI_USD</th>\n",
              "      <th>GOLD_USD</th>\n",
              "      <th>VAR_TRM</th>\n",
              "      <th>VAR_LNTRM</th>\n",
              "      <th>MM_5</th>\n",
              "      <th>MM_20</th>\n",
              "    </tr>\n",
              "    <tr>\n",
              "      <th>date</th>\n",
              "      <th></th>\n",
              "      <th></th>\n",
              "      <th></th>\n",
              "      <th></th>\n",
              "      <th></th>\n",
              "      <th></th>\n",
              "      <th></th>\n",
              "      <th></th>\n",
              "      <th></th>\n",
              "      <th></th>\n",
              "      <th></th>\n",
              "      <th></th>\n",
              "      <th></th>\n",
              "      <th></th>\n",
              "      <th></th>\n",
              "      <th></th>\n",
              "    </tr>\n",
              "  </thead>\n",
              "  <tbody>\n",
              "    <tr>\n",
              "      <th>24/04/2020</th>\n",
              "      <td>4020.94</td>\n",
              "      <td>8.299271</td>\n",
              "      <td>0.03706</td>\n",
              "      <td>0.038254</td>\n",
              "      <td>0.058496</td>\n",
              "      <td>0.073216</td>\n",
              "      <td>0.01906</td>\n",
              "      <td>0.027594</td>\n",
              "      <td>0.031409</td>\n",
              "      <td>0.25</td>\n",
              "      <td>16.94</td>\n",
              "      <td>1735.6</td>\n",
              "      <td>-17.01</td>\n",
              "      <td>-0.004221</td>\n",
              "      <td>4008.944</td>\n",
              "      <td>3990.5985</td>\n",
              "    </tr>\n",
              "    <tr>\n",
              "      <th>27/04/2020</th>\n",
              "      <td>4039.87</td>\n",
              "      <td>8.303968</td>\n",
              "      <td>0.03675</td>\n",
              "      <td>0.038254</td>\n",
              "      <td>0.058496</td>\n",
              "      <td>0.073216</td>\n",
              "      <td>0.01906</td>\n",
              "      <td>0.027594</td>\n",
              "      <td>0.031409</td>\n",
              "      <td>0.25</td>\n",
              "      <td>12.78</td>\n",
              "      <td>1723.8</td>\n",
              "      <td>18.93</td>\n",
              "      <td>0.004697</td>\n",
              "      <td>4022.306</td>\n",
              "      <td>3988.2750</td>\n",
              "    </tr>\n",
              "    <tr>\n",
              "      <th>28/04/2020</th>\n",
              "      <td>4039.83</td>\n",
              "      <td>8.303958</td>\n",
              "      <td>0.03677</td>\n",
              "      <td>0.038254</td>\n",
              "      <td>0.058496</td>\n",
              "      <td>0.073216</td>\n",
              "      <td>0.01906</td>\n",
              "      <td>0.027594</td>\n",
              "      <td>0.031409</td>\n",
              "      <td>0.25</td>\n",
              "      <td>12.34</td>\n",
              "      <td>1722.2</td>\n",
              "      <td>-0.04</td>\n",
              "      <td>-0.000010</td>\n",
              "      <td>4036.720</td>\n",
              "      <td>3990.4750</td>\n",
              "    </tr>\n",
              "    <tr>\n",
              "      <th>29/04/2020</th>\n",
              "      <td>4046.04</td>\n",
              "      <td>8.305494</td>\n",
              "      <td>0.03712</td>\n",
              "      <td>0.038254</td>\n",
              "      <td>0.058496</td>\n",
              "      <td>0.073216</td>\n",
              "      <td>0.01906</td>\n",
              "      <td>0.027594</td>\n",
              "      <td>0.031409</td>\n",
              "      <td>0.25</td>\n",
              "      <td>15.06</td>\n",
              "      <td>1713.4</td>\n",
              "      <td>6.21</td>\n",
              "      <td>0.001536</td>\n",
              "      <td>4036.926</td>\n",
              "      <td>3990.6370</td>\n",
              "    </tr>\n",
              "    <tr>\n",
              "      <th>30/04/2020</th>\n",
              "      <td>3983.29</td>\n",
              "      <td>8.289863</td>\n",
              "      <td>0.03712</td>\n",
              "      <td>0.038254</td>\n",
              "      <td>0.058496</td>\n",
              "      <td>0.073216</td>\n",
              "      <td>0.01906</td>\n",
              "      <td>0.027594</td>\n",
              "      <td>0.031409</td>\n",
              "      <td>0.25</td>\n",
              "      <td>15.06</td>\n",
              "      <td>1713.4</td>\n",
              "      <td>-62.75</td>\n",
              "      <td>-0.015631</td>\n",
              "      <td>4025.994</td>\n",
              "      <td>3986.5610</td>\n",
              "    </tr>\n",
              "  </tbody>\n",
              "</table>\n",
              "</div>"
            ],
            "text/plain": [
              "                TRM  TRM_logn      IBR  ...  VAR_LNTRM      MM_5      MM_20\n",
              "date                                    ...                                \n",
              "24/04/2020  4020.94  8.299271  0.03706  ...  -0.004221  4008.944  3990.5985\n",
              "27/04/2020  4039.87  8.303968  0.03675  ...   0.004697  4022.306  3988.2750\n",
              "28/04/2020  4039.83  8.303958  0.03677  ...  -0.000010  4036.720  3990.4750\n",
              "29/04/2020  4046.04  8.305494  0.03712  ...   0.001536  4036.926  3990.6370\n",
              "30/04/2020  3983.29  8.289863  0.03712  ...  -0.015631  4025.994  3986.5610\n",
              "\n",
              "[5 rows x 16 columns]"
            ]
          },
          "metadata": {
            "tags": []
          },
          "execution_count": 5
        }
      ]
    },
    {
      "cell_type": "markdown",
      "metadata": {
        "id": "_U1jgh3bX4xC",
        "colab_type": "text"
      },
      "source": [
        "El parámetro history_size es el tamaño de la ventana de información pasada. El target_size es qué tan lejos en el futuro necesita el modelo aprender a predecir. Target_size es la etiqueta que debe predecirse."
      ]
    },
    {
      "cell_type": "code",
      "metadata": {
        "id": "RcgpaHlfe_sp",
        "colab_type": "code",
        "colab": {
          "base_uri": "https://localhost:8080/",
          "height": 308
        },
        "outputId": "e912c89b-857b-48d1-865d-a29ef384f4ab"
      },
      "source": [
        "df.describe()"
      ],
      "execution_count": 6,
      "outputs": [
        {
          "output_type": "execute_result",
          "data": {
            "text/html": [
              "<div>\n",
              "<style scoped>\n",
              "    .dataframe tbody tr th:only-of-type {\n",
              "        vertical-align: middle;\n",
              "    }\n",
              "\n",
              "    .dataframe tbody tr th {\n",
              "        vertical-align: top;\n",
              "    }\n",
              "\n",
              "    .dataframe thead th {\n",
              "        text-align: right;\n",
              "    }\n",
              "</style>\n",
              "<table border=\"1\" class=\"dataframe\">\n",
              "  <thead>\n",
              "    <tr style=\"text-align: right;\">\n",
              "      <th></th>\n",
              "      <th>TRM</th>\n",
              "      <th>TRM_logn</th>\n",
              "      <th>IBR</th>\n",
              "      <th>YTES1Y_COP</th>\n",
              "      <th>YTES5Y_COP</th>\n",
              "      <th>YTES10Y_COP</th>\n",
              "      <th>YTES1Y_UVR</th>\n",
              "      <th>YTES5Y_UVR</th>\n",
              "      <th>YTES10Y_UVR</th>\n",
              "      <th>FF_UB</th>\n",
              "      <th>WTI_USD</th>\n",
              "      <th>GOLD_USD</th>\n",
              "      <th>VAR_TRM</th>\n",
              "      <th>VAR_LNTRM</th>\n",
              "      <th>MM_5</th>\n",
              "      <th>MM_20</th>\n",
              "    </tr>\n",
              "  </thead>\n",
              "  <tbody>\n",
              "    <tr>\n",
              "      <th>count</th>\n",
              "      <td>1280.000000</td>\n",
              "      <td>1280.000000</td>\n",
              "      <td>1280.000000</td>\n",
              "      <td>1280.000000</td>\n",
              "      <td>1280.000000</td>\n",
              "      <td>1280.000000</td>\n",
              "      <td>1280.000000</td>\n",
              "      <td>1280.000000</td>\n",
              "      <td>1280.000000</td>\n",
              "      <td>1280.000000</td>\n",
              "      <td>1280.000000</td>\n",
              "      <td>1280.000000</td>\n",
              "      <td>1280.000000</td>\n",
              "      <td>1280.000000</td>\n",
              "      <td>1280.000000</td>\n",
              "      <td>1280.000000</td>\n",
              "    </tr>\n",
              "    <tr>\n",
              "      <th>mean</th>\n",
              "      <td>3048.219539</td>\n",
              "      <td>8.018003</td>\n",
              "      <td>0.052413</td>\n",
              "      <td>0.053287</td>\n",
              "      <td>0.063457</td>\n",
              "      <td>0.072009</td>\n",
              "      <td>0.015956</td>\n",
              "      <td>0.027207</td>\n",
              "      <td>0.033723</td>\n",
              "      <td>1.219727</td>\n",
              "      <td>52.163195</td>\n",
              "      <td>1292.769602</td>\n",
              "      <td>1.266305</td>\n",
              "      <td>0.000408</td>\n",
              "      <td>3045.650986</td>\n",
              "      <td>3036.331333</td>\n",
              "    </tr>\n",
              "    <tr>\n",
              "      <th>std</th>\n",
              "      <td>286.087760</td>\n",
              "      <td>0.092594</td>\n",
              "      <td>0.012612</td>\n",
              "      <td>0.009529</td>\n",
              "      <td>0.007822</td>\n",
              "      <td>0.007833</td>\n",
              "      <td>0.006387</td>\n",
              "      <td>0.004965</td>\n",
              "      <td>0.004495</td>\n",
              "      <td>0.798633</td>\n",
              "      <td>10.781998</td>\n",
              "      <td>134.213180</td>\n",
              "      <td>26.957999</td>\n",
              "      <td>0.008568</td>\n",
              "      <td>283.565014</td>\n",
              "      <td>274.227040</td>\n",
              "    </tr>\n",
              "    <tr>\n",
              "      <th>min</th>\n",
              "      <td>2360.580000</td>\n",
              "      <td>7.766663</td>\n",
              "      <td>0.035160</td>\n",
              "      <td>0.038254</td>\n",
              "      <td>0.050234</td>\n",
              "      <td>0.058742</td>\n",
              "      <td>0.004537</td>\n",
              "      <td>0.015435</td>\n",
              "      <td>0.021375</td>\n",
              "      <td>0.250000</td>\n",
              "      <td>-37.630000</td>\n",
              "      <td>1050.800000</td>\n",
              "      <td>-94.370000</td>\n",
              "      <td>-0.030407</td>\n",
              "      <td>2372.094000</td>\n",
              "      <td>2385.795000</td>\n",
              "    </tr>\n",
              "    <tr>\n",
              "      <th>25%</th>\n",
              "      <td>2902.192500</td>\n",
              "      <td>7.973222</td>\n",
              "      <td>0.042540</td>\n",
              "      <td>0.046093</td>\n",
              "      <td>0.058596</td>\n",
              "      <td>0.067309</td>\n",
              "      <td>0.011296</td>\n",
              "      <td>0.024805</td>\n",
              "      <td>0.032274</td>\n",
              "      <td>0.500000</td>\n",
              "      <td>46.437500</td>\n",
              "      <td>1208.050000</td>\n",
              "      <td>-13.947500</td>\n",
              "      <td>-0.004535</td>\n",
              "      <td>2901.454000</td>\n",
              "      <td>2909.559625</td>\n",
              "    </tr>\n",
              "    <tr>\n",
              "      <th>50%</th>\n",
              "      <td>3003.065000</td>\n",
              "      <td>8.007389</td>\n",
              "      <td>0.045170</td>\n",
              "      <td>0.048312</td>\n",
              "      <td>0.061477</td>\n",
              "      <td>0.070298</td>\n",
              "      <td>0.014619</td>\n",
              "      <td>0.027179</td>\n",
              "      <td>0.033740</td>\n",
              "      <td>1.250000</td>\n",
              "      <td>52.295000</td>\n",
              "      <td>1271.450000</td>\n",
              "      <td>0.395000</td>\n",
              "      <td>0.000132</td>\n",
              "      <td>3001.658000</td>\n",
              "      <td>3000.484250</td>\n",
              "    </tr>\n",
              "    <tr>\n",
              "      <th>75%</th>\n",
              "      <td>3194.892500</td>\n",
              "      <td>8.069309</td>\n",
              "      <td>0.062490</td>\n",
              "      <td>0.062428</td>\n",
              "      <td>0.067033</td>\n",
              "      <td>0.075008</td>\n",
              "      <td>0.020063</td>\n",
              "      <td>0.030237</td>\n",
              "      <td>0.035839</td>\n",
              "      <td>2.000000</td>\n",
              "      <td>59.022500</td>\n",
              "      <td>1334.400000</td>\n",
              "      <td>15.520000</td>\n",
              "      <td>0.005170</td>\n",
              "      <td>3190.723500</td>\n",
              "      <td>3200.109625</td>\n",
              "    </tr>\n",
              "    <tr>\n",
              "      <th>max</th>\n",
              "      <td>4153.910000</td>\n",
              "      <td>8.331805</td>\n",
              "      <td>0.077880</td>\n",
              "      <td>0.073609</td>\n",
              "      <td>0.088001</td>\n",
              "      <td>0.096859</td>\n",
              "      <td>0.039636</td>\n",
              "      <td>0.043588</td>\n",
              "      <td>0.045797</td>\n",
              "      <td>2.500000</td>\n",
              "      <td>76.410000</td>\n",
              "      <td>1768.900000</td>\n",
              "      <td>219.020000</td>\n",
              "      <td>0.059307</td>\n",
              "      <td>4110.698000</td>\n",
              "      <td>4031.675000</td>\n",
              "    </tr>\n",
              "  </tbody>\n",
              "</table>\n",
              "</div>"
            ],
            "text/plain": [
              "               TRM     TRM_logn  ...         MM_5        MM_20\n",
              "count  1280.000000  1280.000000  ...  1280.000000  1280.000000\n",
              "mean   3048.219539     8.018003  ...  3045.650986  3036.331333\n",
              "std     286.087760     0.092594  ...   283.565014   274.227040\n",
              "min    2360.580000     7.766663  ...  2372.094000  2385.795000\n",
              "25%    2902.192500     7.973222  ...  2901.454000  2909.559625\n",
              "50%    3003.065000     8.007389  ...  3001.658000  3000.484250\n",
              "75%    3194.892500     8.069309  ...  3190.723500  3200.109625\n",
              "max    4153.910000     8.331805  ...  4110.698000  4031.675000\n",
              "\n",
              "[8 rows x 16 columns]"
            ]
          },
          "metadata": {
            "tags": []
          },
          "execution_count": 6
        }
      ]
    },
    {
      "cell_type": "code",
      "metadata": {
        "id": "NXQar9EIfMK5",
        "colab_type": "code",
        "colab": {
          "base_uri": "https://localhost:8080/",
          "height": 254
        },
        "outputId": "c1cb484c-c7c0-4c2f-c98d-0788fc6d4e20"
      },
      "source": [
        "values=df.values\n",
        "values=values.astype('float32')\n",
        "values"
      ],
      "execution_count": 7,
      "outputs": [
        {
          "output_type": "execute_result",
          "data": {
            "text/plain": [
              "array([[ 2.3973501e+03,  7.7821193e+00,  4.5359999e-02, ...,\n",
              "         1.4677443e-02,  2.3827319e+03,  2.3976875e+03],\n",
              "       [ 2.4411001e+03,  7.8002038e+00,  4.5249999e-02, ...,\n",
              "         1.8084796e-02,  2.3936521e+03,  2.4001194e+03],\n",
              "       [ 2.4072900e+03,  7.7862568e+00,  4.5230001e-02, ...,\n",
              "        -1.3947124e-02,  2.3978540e+03,  2.4013154e+03],\n",
              "       ...,\n",
              "       [ 4.0398301e+03,  8.3039579e+00,  3.6770001e-02, ...,\n",
              "        -9.8999999e-06,  4.0367200e+03,  3.9904751e+03],\n",
              "       [ 4.0460400e+03,  8.3054943e+00,  3.7120000e-02, ...,\n",
              "         1.5360130e-03,  4.0369260e+03,  3.9906370e+03],\n",
              "       [ 3.9832900e+03,  8.2898636e+00,  3.7120000e-02, ...,\n",
              "        -1.5630513e-02,  4.0259939e+03,  3.9865610e+03]], dtype=float32)"
            ]
          },
          "metadata": {
            "tags": []
          },
          "execution_count": 7
        }
      ]
    },
    {
      "cell_type": "code",
      "metadata": {
        "id": "mzC4EuoAgfKO",
        "colab_type": "code",
        "colab": {}
      },
      "source": [
        "def ts(new_data,look_back=1,pred_col=1):\n",
        "  t=new_data.copy()\n",
        "  t[\"id\"]=range(1,len(t)+1)\n",
        "  t=t.iloc[:-look_back,:]\n",
        "  t.set_index('id',inplace=True)\n",
        "  pred_value=new_data.copy()\n",
        "  pred_value=pred_value.iloc[look_back:,pred_col]\n",
        "  pred_value.columns=['Pred']\n",
        "  pred_value=pd.DataFrame(pred_value)\n",
        "\n",
        "  pred_value[\"id\"]=range(1,len(pred_value)+1)\n",
        "  pred_value.set_index('id',inplace=True)\n",
        "  final_df=pd.concat([t,pred_value],axis=1)\n",
        "\n",
        "  return final_df"
      ],
      "execution_count": 0,
      "outputs": []
    },
    {
      "cell_type": "code",
      "metadata": {
        "id": "_mh_xHRkfY0Z",
        "colab_type": "code",
        "colab": {
          "base_uri": "https://localhost:8080/",
          "height": 188
        },
        "outputId": "3e2c5749-869e-4cc3-d44f-f4f99b78ef02"
      },
      "source": [
        "#scaler=MinMaxScaler(feature_range=(0,1))\n",
        "scaler=StandardScaler()\n",
        "scaled=scaler.fit_transform(values)\n",
        "scaled=pd.DataFrame(scaled)\n",
        "scaled.head(4)"
      ],
      "execution_count": 10,
      "outputs": [
        {
          "output_type": "execute_result",
          "data": {
            "text/html": [
              "<div>\n",
              "<style scoped>\n",
              "    .dataframe tbody tr th:only-of-type {\n",
              "        vertical-align: middle;\n",
              "    }\n",
              "\n",
              "    .dataframe tbody tr th {\n",
              "        vertical-align: top;\n",
              "    }\n",
              "\n",
              "    .dataframe thead th {\n",
              "        text-align: right;\n",
              "    }\n",
              "</style>\n",
              "<table border=\"1\" class=\"dataframe\">\n",
              "  <thead>\n",
              "    <tr style=\"text-align: right;\">\n",
              "      <th></th>\n",
              "      <th>0</th>\n",
              "      <th>1</th>\n",
              "      <th>2</th>\n",
              "      <th>3</th>\n",
              "      <th>4</th>\n",
              "      <th>5</th>\n",
              "      <th>6</th>\n",
              "      <th>7</th>\n",
              "      <th>8</th>\n",
              "      <th>9</th>\n",
              "      <th>10</th>\n",
              "      <th>11</th>\n",
              "      <th>12</th>\n",
              "      <th>13</th>\n",
              "      <th>14</th>\n",
              "      <th>15</th>\n",
              "    </tr>\n",
              "  </thead>\n",
              "  <tbody>\n",
              "    <tr>\n",
              "      <th>0</th>\n",
              "      <td>-2.275958</td>\n",
              "      <td>-2.548497</td>\n",
              "      <td>-0.559462</td>\n",
              "      <td>-0.849469</td>\n",
              "      <td>-0.930997</td>\n",
              "      <td>-0.334971</td>\n",
              "      <td>-1.716120</td>\n",
              "      <td>-1.202947</td>\n",
              "      <td>-0.375006</td>\n",
              "      <td>-1.214708</td>\n",
              "      <td>-0.364007</td>\n",
              "      <td>-0.106362</td>\n",
              "      <td>1.249234</td>\n",
              "      <td>1.665986</td>\n",
              "      <td>-2.338717</td>\n",
              "      <td>-2.329798</td>\n",
              "    </tr>\n",
              "    <tr>\n",
              "      <th>1</th>\n",
              "      <td>-2.122973</td>\n",
              "      <td>-2.353111</td>\n",
              "      <td>-0.568187</td>\n",
              "      <td>-0.860331</td>\n",
              "      <td>-1.074137</td>\n",
              "      <td>-0.420529</td>\n",
              "      <td>-1.788469</td>\n",
              "      <td>-1.323646</td>\n",
              "      <td>-0.402502</td>\n",
              "      <td>-1.214708</td>\n",
              "      <td>-0.240606</td>\n",
              "      <td>-0.123506</td>\n",
              "      <td>1.576538</td>\n",
              "      <td>2.063806</td>\n",
              "      <td>-2.300191</td>\n",
              "      <td>-2.320926</td>\n",
              "    </tr>\n",
              "    <tr>\n",
              "      <th>2</th>\n",
              "      <td>-2.241200</td>\n",
              "      <td>-2.503795</td>\n",
              "      <td>-0.569773</td>\n",
              "      <td>-0.798462</td>\n",
              "      <td>-1.038674</td>\n",
              "      <td>-0.440429</td>\n",
              "      <td>-1.754724</td>\n",
              "      <td>-1.243536</td>\n",
              "      <td>-0.334969</td>\n",
              "      <td>-1.214708</td>\n",
              "      <td>0.082281</td>\n",
              "      <td>-0.246493</td>\n",
              "      <td>-1.301655</td>\n",
              "      <td>-1.676023</td>\n",
              "      <td>-2.285367</td>\n",
              "      <td>-2.316563</td>\n",
              "    </tr>\n",
              "    <tr>\n",
              "      <th>3</th>\n",
              "      <td>-2.355091</td>\n",
              "      <td>-2.650965</td>\n",
              "      <td>-0.563427</td>\n",
              "      <td>-0.734665</td>\n",
              "      <td>-0.945031</td>\n",
              "      <td>-0.372073</td>\n",
              "      <td>-1.760960</td>\n",
              "      <td>-1.234419</td>\n",
              "      <td>-0.292480</td>\n",
              "      <td>-1.214708</td>\n",
              "      <td>-0.344523</td>\n",
              "      <td>-0.215932</td>\n",
              "      <td>-1.255640</td>\n",
              "      <td>-1.638075</td>\n",
              "      <td>-2.289876</td>\n",
              "      <td>-2.323512</td>\n",
              "    </tr>\n",
              "  </tbody>\n",
              "</table>\n",
              "</div>"
            ],
            "text/plain": [
              "         0         1         2   ...        13        14        15\n",
              "0 -2.275958 -2.548497 -0.559462  ...  1.665986 -2.338717 -2.329798\n",
              "1 -2.122973 -2.353111 -0.568187  ...  2.063806 -2.300191 -2.320926\n",
              "2 -2.241200 -2.503795 -0.569773  ... -1.676023 -2.285367 -2.316563\n",
              "3 -2.355091 -2.650965 -0.563427  ... -1.638075 -2.289876 -2.323512\n",
              "\n",
              "[4 rows x 16 columns]"
            ]
          },
          "metadata": {
            "tags": []
          },
          "execution_count": 10
        }
      ]
    },
    {
      "cell_type": "code",
      "metadata": {
        "id": "SJc852nVfYs7",
        "colab_type": "code",
        "colab": {
          "base_uri": "https://localhost:8080/",
          "height": 181
        },
        "outputId": "e51f6f6d-3f31-4915-ce4e-8317f080a3b0"
      },
      "source": [
        "arr_df=ts(scaled,1,0)\n",
        "arr_df.fillna(0,inplace=True)\n",
        "\n",
        "arr_df.columns=['v1(t-1)','v2(t-1)','v3(t-1)','v4(t-1)','v5(t-1)','v6(t-1)'\n",
        ",'v7(t-1)','v8(t-1)','v9(t-1)','v10(t-1)','v11(t-1)','v12(t-1)','v13(t-1)'\n",
        ",'v14(t-1)','v15(t-1)','v16(t-1)','v1(t)'] #,'v17(t-1)'\n",
        "print(arr_df.head())"
      ],
      "execution_count": 11,
      "outputs": [
        {
          "output_type": "stream",
          "text": [
            "     v1(t-1)   v2(t-1)   v3(t-1)  ...  v15(t-1)  v16(t-1)     v1(t)\n",
            "id                                ...                              \n",
            "1  -2.275958 -2.548497 -0.559462  ... -2.338717 -2.329798 -2.122973\n",
            "2  -2.122973 -2.353111 -0.568187  ... -2.300191 -2.320926 -2.241200\n",
            "3  -2.241200 -2.503795 -0.569773  ... -2.285367 -2.316563 -2.355091\n",
            "4  -2.355091 -2.650965 -0.563427  ... -2.289876 -2.323512 -2.329950\n",
            "5  -2.329950 -2.618303 -0.560255  ... -2.276124 -2.336317 -2.320788\n",
            "\n",
            "[5 rows x 17 columns]\n"
          ],
          "name": "stdout"
        }
      ]
    },
    {
      "cell_type": "code",
      "metadata": {
        "id": "C0bk4n2dfYnA",
        "colab_type": "code",
        "colab": {
          "base_uri": "https://localhost:8080/",
          "height": 35
        },
        "outputId": "d3ea3e4f-653b-4372-c208-0cc286b0af35"
      },
      "source": [
        "#Split & Convert Data to Right Shape\n",
        "values=arr_df.values\n",
        "train_sample=int(len(df)*0.936)\n",
        "train=values[:train_sample,:]\n",
        "test=values[train_sample:,:]\n",
        "\n",
        "#split into input and outputs\n",
        "xtrain, ytrain=train[:,:-1],train[:,-1]\n",
        "xtest,ytest=test[:,:-1],test[:,-1]\n",
        "\n",
        "print(xtrain.shape,ytrain.shape,xtest.shape,ytest.shape)"
      ],
      "execution_count": 12,
      "outputs": [
        {
          "output_type": "stream",
          "text": [
            "(1198, 16) (1198,) (81, 16) (81,)\n"
          ],
          "name": "stdout"
        }
      ]
    },
    {
      "cell_type": "code",
      "metadata": {
        "id": "2-dWg4mrfYdc",
        "colab_type": "code",
        "colab": {
          "base_uri": "https://localhost:8080/",
          "height": 35
        },
        "outputId": "8ef24781-7b3a-4d29-d693-bce8c5ef036e"
      },
      "source": [
        "#Reshaping the data sert to 3D with sample size, lookback time steps, and the input features.\n",
        "xtrain=xtrain.reshape((xtrain.shape[0],1,xtrain.shape[1]))\n",
        "xtest=xtest.reshape((xtest.shape[0],1,xtest.shape[1]))\n",
        "\n",
        "print(xtrain.shape,ytrain.shape,xtest.shape,ytest.shape)"
      ],
      "execution_count": 13,
      "outputs": [
        {
          "output_type": "stream",
          "text": [
            "(1198, 1, 16) (1198,) (81, 1, 16) (81,)\n"
          ],
          "name": "stdout"
        }
      ]
    },
    {
      "cell_type": "code",
      "metadata": {
        "id": "30NujbFQnEiZ",
        "colab_type": "code",
        "colab": {
          "base_uri": "https://localhost:8080/",
          "height": 308
        },
        "outputId": "c6fc0ce2-1b48-42d2-c1bd-ff564bb58843"
      },
      "source": [
        "model_lstm=tf.keras.Sequential()\n",
        "model_lstm.add(tf.keras.layers.LSTM(75,return_sequences=True,\n",
        "                                    input_shape=(train.shape[1],xtrain.shape[2])))\n",
        "model_lstm.add(tf.keras.layers.LSTM(units=30,return_sequences=True))\n",
        "model_lstm.add(tf.keras.layers.LSTM(units=30))\n",
        "model_lstm.add(tf.keras.layers.Dense(units=1))\n",
        "\n",
        "model_lstm.compile(loss='mae',optimizer='adam')\n",
        "model_lstm.summary()"
      ],
      "execution_count": 14,
      "outputs": [
        {
          "output_type": "stream",
          "text": [
            "Model: \"sequential\"\n",
            "_________________________________________________________________\n",
            "Layer (type)                 Output Shape              Param #   \n",
            "=================================================================\n",
            "lstm (LSTM)                  (None, 17, 75)            27600     \n",
            "_________________________________________________________________\n",
            "lstm_1 (LSTM)                (None, 17, 30)            12720     \n",
            "_________________________________________________________________\n",
            "lstm_2 (LSTM)                (None, 30)                7320      \n",
            "_________________________________________________________________\n",
            "dense (Dense)                (None, 1)                 31        \n",
            "=================================================================\n",
            "Total params: 47,671\n",
            "Trainable params: 47,671\n",
            "Non-trainable params: 0\n",
            "_________________________________________________________________\n"
          ],
          "name": "stdout"
        }
      ]
    },
    {
      "cell_type": "code",
      "metadata": {
        "id": "U4ZHIhNBnEZx",
        "colab_type": "code",
        "colab": {
          "base_uri": "https://localhost:8080/",
          "height": 1000
        },
        "outputId": "0a3edb96-bc47-4418-cafa-915fdaaa1eb2"
      },
      "source": [
        "#fit network\n",
        "history_lstm=model_lstm.fit(xtrain,ytrain,epochs=50,batch_size=64,\n",
        "                            validation_data=(xtest,ytest),shuffle=False)"
      ],
      "execution_count": 15,
      "outputs": [
        {
          "output_type": "stream",
          "text": [
            "Epoch 1/50\n",
            "WARNING:tensorflow:Model was constructed with shape (None, 17, 16) for input Tensor(\"lstm_input:0\", shape=(None, 17, 16), dtype=float32), but it was called on an input with incompatible shape (None, 1, 16).\n",
            "WARNING:tensorflow:Model was constructed with shape (None, 17, 16) for input Tensor(\"lstm_input:0\", shape=(None, 17, 16), dtype=float32), but it was called on an input with incompatible shape (None, 1, 16).\n",
            "17/19 [=========================>....] - ETA: 0s - loss: 0.5795WARNING:tensorflow:Model was constructed with shape (None, 17, 16) for input Tensor(\"lstm_input:0\", shape=(None, 17, 16), dtype=float32), but it was called on an input with incompatible shape (None, 1, 16).\n",
            "19/19 [==============================] - 1s 59ms/step - loss: 0.6390 - val_loss: 2.1139\n",
            "Epoch 2/50\n",
            "19/19 [==============================] - 0s 6ms/step - loss: 0.6212 - val_loss: 2.0835\n",
            "Epoch 3/50\n",
            "19/19 [==============================] - 0s 6ms/step - loss: 0.5771 - val_loss: 1.9730\n",
            "Epoch 4/50\n",
            "19/19 [==============================] - 0s 6ms/step - loss: 0.4444 - val_loss: 1.7460\n",
            "Epoch 5/50\n",
            "19/19 [==============================] - 0s 8ms/step - loss: 0.3158 - val_loss: 1.5977\n",
            "Epoch 6/50\n",
            "19/19 [==============================] - 0s 7ms/step - loss: 0.2050 - val_loss: 1.4492\n",
            "Epoch 7/50\n",
            "19/19 [==============================] - 0s 7ms/step - loss: 0.1753 - val_loss: 1.3438\n",
            "Epoch 8/50\n",
            "19/19 [==============================] - 0s 7ms/step - loss: 0.1584 - val_loss: 1.2563\n",
            "Epoch 9/50\n",
            "19/19 [==============================] - 0s 7ms/step - loss: 0.1480 - val_loss: 1.1892\n",
            "Epoch 10/50\n",
            "19/19 [==============================] - 0s 6ms/step - loss: 0.1498 - val_loss: 1.1155\n",
            "Epoch 11/50\n",
            "19/19 [==============================] - 0s 7ms/step - loss: 0.1277 - val_loss: 1.0579\n",
            "Epoch 12/50\n",
            "19/19 [==============================] - 0s 7ms/step - loss: 0.1365 - val_loss: 1.0098\n",
            "Epoch 13/50\n",
            "19/19 [==============================] - 0s 7ms/step - loss: 0.1159 - val_loss: 0.9534\n",
            "Epoch 14/50\n",
            "19/19 [==============================] - 0s 6ms/step - loss: 0.1193 - val_loss: 0.9344\n",
            "Epoch 15/50\n",
            "19/19 [==============================] - 0s 7ms/step - loss: 0.1064 - val_loss: 0.9006\n",
            "Epoch 16/50\n",
            "19/19 [==============================] - 0s 6ms/step - loss: 0.1023 - val_loss: 0.8537\n",
            "Epoch 17/50\n",
            "19/19 [==============================] - 0s 6ms/step - loss: 0.1186 - val_loss: 0.8844\n",
            "Epoch 18/50\n",
            "19/19 [==============================] - 0s 7ms/step - loss: 0.1065 - val_loss: 0.8463\n",
            "Epoch 19/50\n",
            "19/19 [==============================] - 0s 8ms/step - loss: 0.1081 - val_loss: 0.8663\n",
            "Epoch 20/50\n",
            "19/19 [==============================] - 0s 7ms/step - loss: 0.1010 - val_loss: 0.8676\n",
            "Epoch 21/50\n",
            "19/19 [==============================] - 0s 7ms/step - loss: 0.0978 - val_loss: 0.7919\n",
            "Epoch 22/50\n",
            "19/19 [==============================] - 0s 6ms/step - loss: 0.1188 - val_loss: 0.8394\n",
            "Epoch 23/50\n",
            "19/19 [==============================] - 0s 6ms/step - loss: 0.0994 - val_loss: 0.7980\n",
            "Epoch 24/50\n",
            "19/19 [==============================] - 0s 7ms/step - loss: 0.1007 - val_loss: 0.8233\n",
            "Epoch 25/50\n",
            "19/19 [==============================] - 0s 7ms/step - loss: 0.0953 - val_loss: 0.8380\n",
            "Epoch 26/50\n",
            "19/19 [==============================] - 0s 7ms/step - loss: 0.0951 - val_loss: 0.7596\n",
            "Epoch 27/50\n",
            "19/19 [==============================] - 0s 8ms/step - loss: 0.1148 - val_loss: 0.8109\n",
            "Epoch 28/50\n",
            "19/19 [==============================] - 0s 7ms/step - loss: 0.1001 - val_loss: 0.7765\n",
            "Epoch 29/50\n",
            "19/19 [==============================] - 0s 6ms/step - loss: 0.1033 - val_loss: 0.8274\n",
            "Epoch 30/50\n",
            "19/19 [==============================] - 0s 7ms/step - loss: 0.0945 - val_loss: 0.8173\n",
            "Epoch 31/50\n",
            "19/19 [==============================] - 0s 7ms/step - loss: 0.0956 - val_loss: 0.8187\n",
            "Epoch 32/50\n",
            "19/19 [==============================] - 0s 7ms/step - loss: 0.0948 - val_loss: 0.8098\n",
            "Epoch 33/50\n",
            "19/19 [==============================] - 0s 7ms/step - loss: 0.0905 - val_loss: 0.8358\n",
            "Epoch 34/50\n",
            "19/19 [==============================] - 0s 7ms/step - loss: 0.0954 - val_loss: 0.7618\n",
            "Epoch 35/50\n",
            "19/19 [==============================] - 0s 7ms/step - loss: 0.0988 - val_loss: 0.7960\n",
            "Epoch 36/50\n",
            "19/19 [==============================] - 0s 7ms/step - loss: 0.0807 - val_loss: 0.7617\n",
            "Epoch 37/50\n",
            "19/19 [==============================] - 0s 7ms/step - loss: 0.0780 - val_loss: 0.7469\n",
            "Epoch 38/50\n",
            "19/19 [==============================] - 0s 7ms/step - loss: 0.0975 - val_loss: 0.7791\n",
            "Epoch 39/50\n",
            "19/19 [==============================] - 0s 7ms/step - loss: 0.1111 - val_loss: 0.8286\n",
            "Epoch 40/50\n",
            "19/19 [==============================] - 0s 8ms/step - loss: 0.0954 - val_loss: 0.7774\n",
            "Epoch 41/50\n",
            "19/19 [==============================] - 0s 8ms/step - loss: 0.0865 - val_loss: 0.8072\n",
            "Epoch 42/50\n",
            "19/19 [==============================] - 0s 7ms/step - loss: 0.0919 - val_loss: 0.7378\n",
            "Epoch 43/50\n",
            "19/19 [==============================] - 0s 7ms/step - loss: 0.1020 - val_loss: 0.7940\n",
            "Epoch 44/50\n",
            "19/19 [==============================] - 0s 7ms/step - loss: 0.0904 - val_loss: 0.7550\n",
            "Epoch 45/50\n",
            "19/19 [==============================] - 0s 7ms/step - loss: 0.0944 - val_loss: 0.8375\n",
            "Epoch 46/50\n",
            "19/19 [==============================] - 0s 7ms/step - loss: 0.0840 - val_loss: 0.7886\n",
            "Epoch 47/50\n",
            "19/19 [==============================] - 0s 7ms/step - loss: 0.0848 - val_loss: 0.7970\n",
            "Epoch 48/50\n",
            "19/19 [==============================] - 0s 8ms/step - loss: 0.0915 - val_loss: 0.7918\n",
            "Epoch 49/50\n",
            "19/19 [==============================] - 0s 8ms/step - loss: 0.0837 - val_loss: 0.8271\n",
            "Epoch 50/50\n",
            "19/19 [==============================] - 0s 7ms/step - loss: 0.0913 - val_loss: 0.7508\n"
          ],
          "name": "stdout"
        }
      ]
    },
    {
      "cell_type": "code",
      "metadata": {
        "id": "599XROnFnEP4",
        "colab_type": "code",
        "colab": {
          "base_uri": "https://localhost:8080/",
          "height": 265
        },
        "outputId": "37f944b5-d731-4fa0-b881-fbb8673a778d"
      },
      "source": [
        "#plotting the training progression\n",
        "plt.plot(history_lstm.history['loss'],label='train')\n",
        "plt.plot(history_lstm.history['val_loss'],label='test')\n",
        "plt.legend()\n",
        "plt.show()"
      ],
      "execution_count": 16,
      "outputs": [
        {
          "output_type": "display_data",
          "data": {
            "image/png": "[encoded data removed]",
            "text/plain": [
              "<Figure size 432x288 with 1 Axes>"
            ]
          },
          "metadata": {
            "tags": [],
            "needs_background": "light"
          }
        }
      ]
    },
    {
      "cell_type": "code",
      "metadata": {
        "id": "LtI7h0dJp1Rq",
        "colab_type": "code",
        "colab": {
          "base_uri": "https://localhost:8080/",
          "height": 55
        },
        "outputId": "8e548f8c-485d-4bb7-8230-49d4b66244cf"
      },
      "source": [
        "#make prediction\n",
        "yhat=model_lstm.predict(xtest)\n",
        "xtest=xtest.reshape((xtest.shape[0],xtest.shape[2]))\n",
        "\n",
        "#invert scaling for forecast\n",
        "inv_yhat=concatenate((yhat,xtest[:,1:]),axis=1)\n",
        "inv_yhat=scaler.inverse_transform(inv_yhat)\n",
        "inv_yhat=inv_yhat[:,0]\n",
        "\n",
        "#invert scaling for actual\n",
        "ytest=ytest.reshape((len(ytest),1))\n",
        "inv_y=concatenate((ytest,xtest[:,1:]),axis=1)\n",
        "inv_y=scaler.inverse_transform(inv_y)\n",
        "inv_y=inv_y[:,0]\n"
      ],
      "execution_count": 17,
      "outputs": [
        {
          "output_type": "stream",
          "text": [
            "WARNING:tensorflow:Model was constructed with shape (None, 17, 16) for input Tensor(\"lstm_input:0\", shape=(None, 17, 16), dtype=float32), but it was called on an input with incompatible shape (None, 1, 16).\n"
          ],
          "name": "stdout"
        }
      ]
    },
    {
      "cell_type": "code",
      "metadata": {
        "id": "BDuHwNwtp1JE",
        "colab_type": "code",
        "colab": {
          "base_uri": "https://localhost:8080/",
          "height": 90
        },
        "outputId": "de2f491b-0217-4a2a-d24c-ca94285a09b7"
      },
      "source": [
        "print(\"Mean absolute error (MAE):       %f\"% mean_absolute_error(inv_y,inv_yhat))\n",
        "print(\"Mean squared error (MSE):        %f\"% mean_squared_error(inv_y,inv_yhat))\n",
        "print(\"Root Mean squared error (RMSE):  %f\"% sqrt(mean_squared_error(inv_y,inv_yhat)))\n",
        "print(\"R square (R^2):                  %f\"% r2_score(inv_y,inv_yhat))"
      ],
      "execution_count": 18,
      "outputs": [
        {
          "output_type": "stream",
          "text": [
            "Mean absolute error (MAE):       214.718964\n",
            "Mean squared error (MSE):        98422.781250\n",
            "Root Mean squared error (RMSE):  313.724053\n",
            "R square (R^2):                  0.014420\n"
          ],
          "name": "stdout"
        }
      ]
    },
    {
      "cell_type": "code",
      "metadata": {
        "id": "dPgVfkPPvt58",
        "colab_type": "code",
        "colab": {
          "base_uri": "https://localhost:8080/",
          "height": 283
        },
        "outputId": "5078eec5-8c26-4493-e989-66db6d442120"
      },
      "source": [
        " plt.plot(inv_y,label='Actual')\n",
        " plt.plot(inv_yhat,label='Predicted')\n",
        " plt.legend()\n",
        " plt.show"
      ],
      "execution_count": 19,
      "outputs": [
        {
          "output_type": "execute_result",
          "data": {
            "text/plain": [
              "<function matplotlib.pyplot.show>"
            ]
          },
          "metadata": {
            "tags": []
          },
          "execution_count": 19
        },
        {
          "output_type": "display_data",
          "data": {
            "image/png": "[encoded data removed]",
            "text/plain": [
              "<Figure size 432x288 with 1 Axes>"
            ]
          },
          "metadata": {
            "tags": [],
            "needs_background": "light"
          }
        }
      ]
    },
    {
      "cell_type": "code",
      "metadata": {
        "id": "mn8gy7Z02Li2",
        "colab_type": "code",
        "colab": {
          "base_uri": "https://localhost:8080/",
          "height": 54
        },
        "outputId": "185cc96c-952d-438c-f5e8-c7e6222cf27d"
      },
      "source": [
        "#Split & Convert Data to Right Shape\n",
        "values=arr_df.values\n",
        "train_sample=int(len(df)*0.936)\n",
        "train=values[:train_sample,:]\n",
        "test=values[train_sample:,:]\n",
        "\n",
        "#split into input and outputs\n",
        "xtrain, ytrain=train[:,:-1],train[:,-1]\n",
        "xtest,ytest=test[:,:-1],test[:,-1]\n",
        "\n",
        "print(xtrain.shape,ytrain.shape,xtest.shape,ytest.shape)\n",
        "\n",
        "#Reshaping the data sert to 3D with sample size, lookback time steps, and the input features.\n",
        "xtrain=xtrain.reshape((xtrain.shape[0],1,xtrain.shape[1]))\n",
        "xtest=xtest.reshape((xtest.shape[0],1,xtest.shape[1]))\n",
        "\n",
        "print(xtrain.shape,ytrain.shape,xtest.shape,ytest.shape)"
      ],
      "execution_count": 49,
      "outputs": [
        {
          "output_type": "stream",
          "text": [
            "(1198, 16) (1198,) (81, 16) (81,)\n",
            "(1198, 1, 16) (1198,) (81, 1, 16) (81,)\n"
          ],
          "name": "stdout"
        }
      ]
    },
    {
      "cell_type": "code",
      "metadata": {
        "id": "pa2rWJoKwuGF",
        "colab_type": "code",
        "colab": {
          "base_uri": "https://localhost:8080/",
          "height": 345
        },
        "outputId": "5d13efa4-1189-46af-d2a8-4630bb64d7ae"
      },
      "source": [
        "#https://towardsdatascience.com/recurrent-neural-network-to-predict-multivariate-commodity-prices-8a8202afd853\n",
        "model_lstm=tf.keras.Sequential()\n",
        "model_lstm.add(tf.keras.layers.LSTM(50,return_sequences=True,\n",
        "                                    input_shape=(train.shape[1],xtrain.shape[2])))\n",
        "model_lstm.add(tf.keras.layers.LSTM(units=60,return_sequences=True))\n",
        "model_lstm.add(tf.keras.layers.LSTM(units=60))\n",
        "model_lstm.add(tf.keras.layers.Dense(30,activation=\"relu\"))\n",
        "model_lstm.add(tf.keras.layers.Dense(units=1))\n",
        "\n",
        "optimizer = tf.keras.optimizers.SGD(lr=1e-5, momentum=0.9)\n",
        "model_lstm.compile(loss=tf.keras.losses.Huber(),\n",
        "              optimizer=optimizer,\n",
        "              metrics=[\"mae\"])\n",
        "#model_lstm.compile(loss='mae',optimizer='adam')\n",
        "model_lstm.summary()"
      ],
      "execution_count": 50,
      "outputs": [
        {
          "output_type": "stream",
          "text": [
            "Model: \"sequential_8\"\n",
            "_________________________________________________________________\n",
            "Layer (type)                 Output Shape              Param #   \n",
            "=================================================================\n",
            "lstm_21 (LSTM)               (None, 17, 50)            13400     \n",
            "_________________________________________________________________\n",
            "lstm_22 (LSTM)               (None, 17, 60)            26640     \n",
            "_________________________________________________________________\n",
            "lstm_23 (LSTM)               (None, 60)                29040     \n",
            "_________________________________________________________________\n",
            "dense_11 (Dense)             (None, 30)                1830      \n",
            "_________________________________________________________________\n",
            "dense_12 (Dense)             (None, 1)                 31        \n",
            "=================================================================\n",
            "Total params: 70,941\n",
            "Trainable params: 70,941\n",
            "Non-trainable params: 0\n",
            "_________________________________________________________________\n"
          ],
          "name": "stdout"
        }
      ]
    },
    {
      "cell_type": "code",
      "metadata": {
        "id": "2sWwiRNXwt82",
        "colab_type": "code",
        "colab": {
          "base_uri": "https://localhost:8080/",
          "height": 1000
        },
        "outputId": "7d129087-eb8d-4d69-d7ee-4e1dd5e6c715"
      },
      "source": [
        "#fit network\n",
        "history_lstm=model_lstm.fit(xtrain,ytrain,epochs=50,batch_size=64,\n",
        "                            validation_data=(xtest,ytest),shuffle=False)"
      ],
      "execution_count": 51,
      "outputs": [
        {
          "output_type": "stream",
          "text": [
            "Epoch 1/50\n",
            "WARNING:tensorflow:Model was constructed with shape (None, 17, 16) for input Tensor(\"lstm_21_input:0\", shape=(None, 17, 16), dtype=float32), but it was called on an input with incompatible shape (None, 1, 16).\n",
            "WARNING:tensorflow:Model was constructed with shape (None, 17, 16) for input Tensor(\"lstm_21_input:0\", shape=(None, 17, 16), dtype=float32), but it was called on an input with incompatible shape (None, 1, 16).\n",
            "12/19 [=================>............] - ETA: 0s - loss: 0.2951 - mae: 0.6171WARNING:tensorflow:Model was constructed with shape (None, 17, 16) for input Tensor(\"lstm_21_input:0\", shape=(None, 17, 16), dtype=float32), but it was called on an input with incompatible shape (None, 1, 16).\n",
            "19/19 [==============================] - 1s 52ms/step - loss: 0.2984 - mae: 0.6395 - val_loss: 1.6074 - val_mae: 2.1045\n",
            "Epoch 2/50\n",
            "19/19 [==============================] - 0s 6ms/step - loss: 0.2983 - mae: 0.6394 - val_loss: 1.6076 - val_mae: 2.1047\n",
            "Epoch 3/50\n",
            "19/19 [==============================] - 0s 6ms/step - loss: 0.2983 - mae: 0.6393 - val_loss: 1.6077 - val_mae: 2.1048\n",
            "Epoch 4/50\n",
            "19/19 [==============================] - 0s 6ms/step - loss: 0.2982 - mae: 0.6392 - val_loss: 1.6079 - val_mae: 2.1050\n",
            "Epoch 5/50\n",
            "19/19 [==============================] - 0s 6ms/step - loss: 0.2982 - mae: 0.6391 - val_loss: 1.6081 - val_mae: 2.1052\n",
            "Epoch 6/50\n",
            "19/19 [==============================] - 0s 7ms/step - loss: 0.2981 - mae: 0.6390 - val_loss: 1.6082 - val_mae: 2.1054\n",
            "Epoch 7/50\n",
            "19/19 [==============================] - 0s 7ms/step - loss: 0.2980 - mae: 0.6389 - val_loss: 1.6084 - val_mae: 2.1055\n",
            "Epoch 8/50\n",
            "19/19 [==============================] - 0s 7ms/step - loss: 0.2980 - mae: 0.6387 - val_loss: 1.6085 - val_mae: 2.1057\n",
            "Epoch 9/50\n",
            "19/19 [==============================] - 0s 7ms/step - loss: 0.2979 - mae: 0.6386 - val_loss: 1.6087 - val_mae: 2.1059\n",
            "Epoch 10/50\n",
            "19/19 [==============================] - 0s 7ms/step - loss: 0.2979 - mae: 0.6385 - val_loss: 1.6089 - val_mae: 2.1060\n",
            "Epoch 11/50\n",
            "19/19 [==============================] - 0s 6ms/step - loss: 0.2978 - mae: 0.6384 - val_loss: 1.6090 - val_mae: 2.1062\n",
            "Epoch 12/50\n",
            "19/19 [==============================] - 0s 6ms/step - loss: 0.2978 - mae: 0.6383 - val_loss: 1.6092 - val_mae: 2.1064\n",
            "Epoch 13/50\n",
            "19/19 [==============================] - 0s 6ms/step - loss: 0.2977 - mae: 0.6383 - val_loss: 1.6094 - val_mae: 2.1065\n",
            "Epoch 14/50\n",
            "19/19 [==============================] - 0s 6ms/step - loss: 0.2977 - mae: 0.6382 - val_loss: 1.6096 - val_mae: 2.1067\n",
            "Epoch 15/50\n",
            "19/19 [==============================] - 0s 6ms/step - loss: 0.2976 - mae: 0.6381 - val_loss: 1.6097 - val_mae: 2.1069\n",
            "Epoch 16/50\n",
            "19/19 [==============================] - 0s 6ms/step - loss: 0.2976 - mae: 0.6380 - val_loss: 1.6099 - val_mae: 2.1071\n",
            "Epoch 17/50\n",
            "19/19 [==============================] - 0s 6ms/step - loss: 0.2975 - mae: 0.6379 - val_loss: 1.6101 - val_mae: 2.1073\n",
            "Epoch 18/50\n",
            "19/19 [==============================] - 0s 6ms/step - loss: 0.2975 - mae: 0.6378 - val_loss: 1.6103 - val_mae: 2.1075\n",
            "Epoch 19/50\n",
            "19/19 [==============================] - 0s 6ms/step - loss: 0.2974 - mae: 0.6377 - val_loss: 1.6105 - val_mae: 2.1077\n",
            "Epoch 20/50\n",
            "19/19 [==============================] - 0s 6ms/step - loss: 0.2974 - mae: 0.6377 - val_loss: 1.6107 - val_mae: 2.1079\n",
            "Epoch 21/50\n",
            "19/19 [==============================] - 0s 6ms/step - loss: 0.2974 - mae: 0.6376 - val_loss: 1.6109 - val_mae: 2.1081\n",
            "Epoch 22/50\n",
            "19/19 [==============================] - 0s 6ms/step - loss: 0.2973 - mae: 0.6375 - val_loss: 1.6111 - val_mae: 2.1083\n",
            "Epoch 23/50\n",
            "19/19 [==============================] - 0s 6ms/step - loss: 0.2973 - mae: 0.6375 - val_loss: 1.6112 - val_mae: 2.1085\n",
            "Epoch 24/50\n",
            "19/19 [==============================] - 0s 6ms/step - loss: 0.2973 - mae: 0.6374 - val_loss: 1.6114 - val_mae: 2.1086\n",
            "Epoch 25/50\n",
            "19/19 [==============================] - 0s 6ms/step - loss: 0.2972 - mae: 0.6373 - val_loss: 1.6116 - val_mae: 2.1088\n",
            "Epoch 26/50\n",
            "19/19 [==============================] - 0s 6ms/step - loss: 0.2972 - mae: 0.6373 - val_loss: 1.6118 - val_mae: 2.1090\n",
            "Epoch 27/50\n",
            "19/19 [==============================] - 0s 6ms/step - loss: 0.2972 - mae: 0.6372 - val_loss: 1.6120 - val_mae: 2.1092\n",
            "Epoch 28/50\n",
            "19/19 [==============================] - 0s 6ms/step - loss: 0.2971 - mae: 0.6371 - val_loss: 1.6121 - val_mae: 2.1094\n",
            "Epoch 29/50\n",
            "19/19 [==============================] - 0s 6ms/step - loss: 0.2971 - mae: 0.6371 - val_loss: 1.6123 - val_mae: 2.1096\n",
            "Epoch 30/50\n",
            "19/19 [==============================] - 0s 6ms/step - loss: 0.2971 - mae: 0.6370 - val_loss: 1.6125 - val_mae: 2.1097\n",
            "Epoch 31/50\n",
            "19/19 [==============================] - 0s 6ms/step - loss: 0.2970 - mae: 0.6369 - val_loss: 1.6127 - val_mae: 2.1099\n",
            "Epoch 32/50\n",
            "19/19 [==============================] - 0s 6ms/step - loss: 0.2970 - mae: 0.6369 - val_loss: 1.6128 - val_mae: 2.1101\n",
            "Epoch 33/50\n",
            "19/19 [==============================] - 0s 7ms/step - loss: 0.2970 - mae: 0.6368 - val_loss: 1.6130 - val_mae: 2.1103\n",
            "Epoch 34/50\n",
            "19/19 [==============================] - 0s 7ms/step - loss: 0.2970 - mae: 0.6368 - val_loss: 1.6132 - val_mae: 2.1104\n",
            "Epoch 35/50\n",
            "19/19 [==============================] - 0s 6ms/step - loss: 0.2969 - mae: 0.6367 - val_loss: 1.6133 - val_mae: 2.1106\n",
            "Epoch 36/50\n",
            "19/19 [==============================] - 0s 6ms/step - loss: 0.2969 - mae: 0.6367 - val_loss: 1.6135 - val_mae: 2.1108\n",
            "Epoch 37/50\n",
            "19/19 [==============================] - 0s 6ms/step - loss: 0.2969 - mae: 0.6366 - val_loss: 1.6137 - val_mae: 2.1109\n",
            "Epoch 38/50\n",
            "19/19 [==============================] - 0s 6ms/step - loss: 0.2969 - mae: 0.6366 - val_loss: 1.6138 - val_mae: 2.1111\n",
            "Epoch 39/50\n",
            "19/19 [==============================] - 0s 6ms/step - loss: 0.2968 - mae: 0.6365 - val_loss: 1.6140 - val_mae: 2.1112\n",
            "Epoch 40/50\n",
            "19/19 [==============================] - 0s 6ms/step - loss: 0.2968 - mae: 0.6365 - val_loss: 1.6141 - val_mae: 2.1114\n",
            "Epoch 41/50\n",
            "19/19 [==============================] - 0s 6ms/step - loss: 0.2968 - mae: 0.6364 - val_loss: 1.6143 - val_mae: 2.1116\n",
            "Epoch 42/50\n",
            "19/19 [==============================] - 0s 6ms/step - loss: 0.2968 - mae: 0.6364 - val_loss: 1.6144 - val_mae: 2.1117\n",
            "Epoch 43/50\n",
            "19/19 [==============================] - 0s 7ms/step - loss: 0.2967 - mae: 0.6363 - val_loss: 1.6146 - val_mae: 2.1119\n",
            "Epoch 44/50\n",
            "19/19 [==============================] - 0s 6ms/step - loss: 0.2967 - mae: 0.6363 - val_loss: 1.6147 - val_mae: 2.1120\n",
            "Epoch 45/50\n",
            "19/19 [==============================] - 0s 6ms/step - loss: 0.2967 - mae: 0.6362 - val_loss: 1.6149 - val_mae: 2.1122\n",
            "Epoch 46/50\n",
            "19/19 [==============================] - 0s 6ms/step - loss: 0.2967 - mae: 0.6362 - val_loss: 1.6150 - val_mae: 2.1123\n",
            "Epoch 47/50\n",
            "19/19 [==============================] - 0s 6ms/step - loss: 0.2966 - mae: 0.6361 - val_loss: 1.6152 - val_mae: 2.1125\n",
            "Epoch 48/50\n",
            "19/19 [==============================] - 0s 6ms/step - loss: 0.2966 - mae: 0.6361 - val_loss: 1.6153 - val_mae: 2.1126\n",
            "Epoch 49/50\n",
            "19/19 [==============================] - 0s 6ms/step - loss: 0.2966 - mae: 0.6360 - val_loss: 1.6155 - val_mae: 2.1128\n",
            "Epoch 50/50\n",
            "19/19 [==============================] - 0s 6ms/step - loss: 0.2966 - mae: 0.6360 - val_loss: 1.6156 - val_mae: 2.1129\n"
          ],
          "name": "stdout"
        }
      ]
    },
    {
      "cell_type": "code",
      "metadata": {
        "id": "jAfaMkDWwt0Q",
        "colab_type": "code",
        "colab": {
          "base_uri": "https://localhost:8080/",
          "height": 265
        },
        "outputId": "51a6440c-80e4-4259-d603-74e49222c78e"
      },
      "source": [
        "#plotting the training progression\n",
        "plt.plot(history_lstm.history['loss'],label='train')\n",
        "plt.plot(history_lstm.history['val_loss'],label='test')\n",
        "plt.legend()\n",
        "plt.show()"
      ],
      "execution_count": 52,
      "outputs": [
        {
          "output_type": "display_data",
          "data": {
            "image/png": "[encoded data removed]",
            "text/plain": [
              "<Figure size 432x288 with 1 Axes>"
            ]
          },
          "metadata": {
            "tags": [],
            "needs_background": "light"
          }
        }
      ]
    },
    {
      "cell_type": "code",
      "metadata": {
        "id": "yo7kj7rXp0_6",
        "colab_type": "code",
        "colab": {
          "base_uri": "https://localhost:8080/",
          "height": 90
        },
        "outputId": "a7b93bcc-b4fa-4b6d-d04d-ad22c17892d2"
      },
      "source": [
        "print(\"Mean absolute error (MAE):       %f\"% mean_absolute_error(inv_y,inv_yhat))\n",
        "print(\"Mean squared error (MSE):        %f\"% mean_squared_error(inv_y,inv_yhat))\n",
        "print(\"Root Mean squared error (RMSE):  %f\"% sqrt(mean_squared_error(inv_y,inv_yhat)))\n",
        "print(\"R square (R^2):                  %f\"% r2_score(inv_y,inv_yhat))"
      ],
      "execution_count": 53,
      "outputs": [
        {
          "output_type": "stream",
          "text": [
            "Mean absolute error (MAE):       220.323792\n",
            "Mean squared error (MSE):        103396.140625\n",
            "Root Mean squared error (RMSE):  321.552703\n",
            "R square (R^2):                  -0.035382\n"
          ],
          "name": "stdout"
        }
      ]
    },
    {
      "cell_type": "code",
      "metadata": {
        "id": "eEgllt-MAtvx",
        "colab_type": "code",
        "colab": {}
      },
      "source": [
        "#make prediction\n",
        "yhat=model_lstm.predict(xtest)\n",
        "xtest=xtest.reshape((xtest.shape[0],xtest.shape[2]))\n",
        "\n",
        "#invert scaling for forecast\n",
        "inv_yhat=concatenate((yhat,xtest[:,1:]),axis=1)\n",
        "inv_yhat=scaler.inverse_transform(inv_yhat)\n",
        "inv_yhat=inv_yhat[:,0]\n",
        "\n",
        "#invert scaling for actual\n",
        "ytest=ytest.reshape((len(ytest),1))\n",
        "inv_y=concatenate((ytest,xtest[:,1:]),axis=1)\n",
        "inv_y=scaler.inverse_transform(inv_y)\n",
        "inv_y=inv_y[:,0]"
      ],
      "execution_count": 0,
      "outputs": []
    },
    {
      "cell_type": "code",
      "metadata": {
        "id": "_X9Kvtndp02d",
        "colab_type": "code",
        "colab": {
          "base_uri": "https://localhost:8080/",
          "height": 283
        },
        "outputId": "40e87bcd-f559-495a-8718-1bbac307f4cf"
      },
      "source": [
        "plt.plot(inv_y,label='Actual')\n",
        "plt.plot(inv_yhat,label='Predicted')\n",
        "plt.legend()\n",
        "plt.show"
      ],
      "execution_count": 55,
      "outputs": [
        {
          "output_type": "execute_result",
          "data": {
            "text/plain": [
              "<function matplotlib.pyplot.show>"
            ]
          },
          "metadata": {
            "tags": []
          },
          "execution_count": 55
        },
        {
          "output_type": "display_data",
          "data": {
            "image/png": "[encoded data removed]",
            "text/plain": [
              "<Figure size 432x288 with 1 Axes>"
            ]
          },
          "metadata": {
            "tags": [],
            "needs_background": "light"
          }
        }
      ]
    },
    {
      "cell_type": "code",
      "metadata": {
        "id": "LY3UrNu82eD0",
        "colab_type": "code",
        "colab": {}
      },
      "source": [
        ""
      ],
      "execution_count": 0,
      "outputs": []
    },
    {
      "cell_type": "code",
      "metadata": {
        "id": "hEIfGjGWrgCG",
        "colab_type": "code",
        "colab": {}
      },
      "source": [
        ""
      ],
      "execution_count": 0,
      "outputs": []
    }
  ]
}