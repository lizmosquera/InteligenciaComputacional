{
  "nbformat": 4,
  "nbformat_minor": 0,
  "metadata": {
    "colab": {
      "name": "Untitled5.ipynb",
      "provenance": [],
      "authorship_tag": "ABX9TyOJSo4cocPYtAEUQazb+9ai",
      "include_colab_link": true
    },
    "kernelspec": {
      "name": "python3",
      "display_name": "Python 3"
    }
  },
  "cells": [
    {
      "cell_type": "markdown",
      "metadata": {
        "id": "view-in-github",
        "colab_type": "text"
      },
      "source": [
        "<a href=\"https://colab.research.google.com/github/lizmosquera/InteligenciaComputacional/blob/master/Untitled5.ipynb\" target=\"_parent\"><img src=\"https://colab.research.google.com/assets/colab-badge.svg\" alt=\"Open In Colab\"/></a>"
      ]
    },
    {
      "cell_type": "code",
      "metadata": {
        "id": "HQqHbY8RaONS",
        "colab_type": "code",
        "colab": {}
      },
      "source": [
        "%matplotlib inline\n",
        "import matplotlib.pyplot as plt\n",
        "def plot_series(time,series,format=\"-\",start=0,end=None):\n",
        "  plt.plot(time[start:end],series[start:end],format)\n",
        "  plt.xlabel(\"Time\")\n",
        "  plt.ylabel(\"Value\")\n",
        "  plt.grid(True)"
      ],
      "execution_count": 0,
      "outputs": []
    },
    {
      "cell_type": "code",
      "metadata": {
        "id": "e0nCfORoRGFr",
        "colab_type": "code",
        "outputId": "7da05783-f0ef-46cb-af8a-76b564e48ec1",
        "colab": {
          "base_uri": "https://localhost:8080/",
          "height": 34
        }
      },
      "source": [
        "import tensorflow as tf\n",
        "print (tf.__version__)"
      ],
      "execution_count": 3,
      "outputs": [
        {
          "output_type": "stream",
          "text": [
            "2.2.0-rc4\n"
          ],
          "name": "stdout"
        }
      ]
    },
    {
      "cell_type": "code",
      "metadata": {
        "id": "AtsCfXDyKJgZ",
        "colab_type": "code",
        "colab": {}
      },
      "source": [
        "import numpy as np\n",
        "import pandas as pd\n",
        "import os\n",
        "from sklearn.preprocessing import StandardScaler,MinMaxScaler\n",
        "import torch\n",
        "from torch.autograd import Variable\n",
        "import torch"
      ],
      "execution_count": 0,
      "outputs": []
    },
    {
      "cell_type": "code",
      "metadata": {
        "id": "ezfrdP8xlIm0",
        "colab_type": "code",
        "outputId": "7b39944b-c141-4b90-ab62-0a324065e19c",
        "colab": {
          "base_uri": "https://localhost:8080/",
          "height": 51
        }
      },
      "source": [
        "from tensorflow.keras.models import Sequential\n",
        "from tensorflow.keras.layers import Input, Dense, GRU, Embedding\n",
        "from tensorflow.keras.optimizers import RMSprop\n",
        "from tensorflow.keras.callbacks import EarlyStopping, ModelCheckpoint, TensorBoard, ReduceLROnPlateau\n",
        "from tensorflow.keras.backend import square, mean\n",
        "print (tf.keras.__version__)\n",
        "print (pd.__version__)"
      ],
      "execution_count": 5,
      "outputs": [
        {
          "output_type": "stream",
          "text": [
            "2.3.0-tf\n",
            "1.0.3\n"
          ],
          "name": "stdout"
        }
      ]
    },
    {
      "cell_type": "code",
      "metadata": {
        "id": "gEBa73kwKRhE",
        "colab_type": "code",
        "outputId": "4ca574af-2b7d-48f2-e1bb-039d07b61273",
        "colab": {
          "base_uri": "https://localhost:8080/",
          "height": 235
        }
      },
      "source": [
        "df = pd.read_csv('Datos_TRM.csv', header=0, index_col=1)\n",
        "#dataset.index = dataset['Date Time']\n",
        "df.index.name = 'date'\n",
        "df=df.drop(['Index','FF_EfcRate'], axis=1)\n",
        "df.tail(5)"
      ],
      "execution_count": 6,
      "outputs": [
        {
          "output_type": "execute_result",
          "data": {
            "text/html": [
              "<div>\n",
              "<style scoped>\n",
              "    .dataframe tbody tr th:only-of-type {\n",
              "        vertical-align: middle;\n",
              "    }\n",
              "\n",
              "    .dataframe tbody tr th {\n",
              "        vertical-align: top;\n",
              "    }\n",
              "\n",
              "    .dataframe thead th {\n",
              "        text-align: right;\n",
              "    }\n",
              "</style>\n",
              "<table border=\"1\" class=\"dataframe\">\n",
              "  <thead>\n",
              "    <tr style=\"text-align: right;\">\n",
              "      <th></th>\n",
              "      <th>TRM</th>\n",
              "      <th>TRM_logn</th>\n",
              "      <th>IBR</th>\n",
              "      <th>YTES1Y_COP</th>\n",
              "      <th>YTES5Y_COP</th>\n",
              "      <th>YTES10Y_COP</th>\n",
              "      <th>YTES1Y_UVR</th>\n",
              "      <th>YTES5Y_UVR</th>\n",
              "      <th>YTES10Y_UVR</th>\n",
              "      <th>FF_UB</th>\n",
              "      <th>WTI_USD</th>\n",
              "      <th>GOLD_USD</th>\n",
              "      <th>VAR_TRM</th>\n",
              "      <th>VAR_LNTRM</th>\n",
              "      <th>MM_5</th>\n",
              "      <th>MM_20</th>\n",
              "    </tr>\n",
              "    <tr>\n",
              "      <th>date</th>\n",
              "      <th></th>\n",
              "      <th></th>\n",
              "      <th></th>\n",
              "      <th></th>\n",
              "      <th></th>\n",
              "      <th></th>\n",
              "      <th></th>\n",
              "      <th></th>\n",
              "      <th></th>\n",
              "      <th></th>\n",
              "      <th></th>\n",
              "      <th></th>\n",
              "      <th></th>\n",
              "      <th></th>\n",
              "      <th></th>\n",
              "      <th></th>\n",
              "    </tr>\n",
              "  </thead>\n",
              "  <tbody>\n",
              "    <tr>\n",
              "      <th>04/24/2020</th>\n",
              "      <td>4020.94</td>\n",
              "      <td>8.299271</td>\n",
              "      <td>0.03706</td>\n",
              "      <td>0.038254</td>\n",
              "      <td>0.058496</td>\n",
              "      <td>0.073216</td>\n",
              "      <td>0.01906</td>\n",
              "      <td>0.027594</td>\n",
              "      <td>0.031409</td>\n",
              "      <td>0.25</td>\n",
              "      <td>16.94</td>\n",
              "      <td>1735.6</td>\n",
              "      <td>-17.01</td>\n",
              "      <td>-0.004221</td>\n",
              "      <td>4008.944</td>\n",
              "      <td>3990.5985</td>\n",
              "    </tr>\n",
              "    <tr>\n",
              "      <th>04/27/2020</th>\n",
              "      <td>4039.87</td>\n",
              "      <td>8.303968</td>\n",
              "      <td>0.03675</td>\n",
              "      <td>0.038254</td>\n",
              "      <td>0.058496</td>\n",
              "      <td>0.073216</td>\n",
              "      <td>0.01906</td>\n",
              "      <td>0.027594</td>\n",
              "      <td>0.031409</td>\n",
              "      <td>0.25</td>\n",
              "      <td>12.78</td>\n",
              "      <td>1723.8</td>\n",
              "      <td>18.93</td>\n",
              "      <td>0.004697</td>\n",
              "      <td>4022.306</td>\n",
              "      <td>3988.2750</td>\n",
              "    </tr>\n",
              "    <tr>\n",
              "      <th>04/28/2020</th>\n",
              "      <td>4039.83</td>\n",
              "      <td>8.303958</td>\n",
              "      <td>0.03677</td>\n",
              "      <td>0.038254</td>\n",
              "      <td>0.058496</td>\n",
              "      <td>0.073216</td>\n",
              "      <td>0.01906</td>\n",
              "      <td>0.027594</td>\n",
              "      <td>0.031409</td>\n",
              "      <td>0.25</td>\n",
              "      <td>12.34</td>\n",
              "      <td>1722.2</td>\n",
              "      <td>-0.04</td>\n",
              "      <td>-0.000010</td>\n",
              "      <td>4036.720</td>\n",
              "      <td>3990.4750</td>\n",
              "    </tr>\n",
              "    <tr>\n",
              "      <th>04/29/2020</th>\n",
              "      <td>4046.04</td>\n",
              "      <td>8.305494</td>\n",
              "      <td>0.03712</td>\n",
              "      <td>0.038254</td>\n",
              "      <td>0.058496</td>\n",
              "      <td>0.073216</td>\n",
              "      <td>0.01906</td>\n",
              "      <td>0.027594</td>\n",
              "      <td>0.031409</td>\n",
              "      <td>0.25</td>\n",
              "      <td>15.06</td>\n",
              "      <td>1713.4</td>\n",
              "      <td>6.21</td>\n",
              "      <td>0.001536</td>\n",
              "      <td>4036.926</td>\n",
              "      <td>3990.6370</td>\n",
              "    </tr>\n",
              "    <tr>\n",
              "      <th>04/30/2020</th>\n",
              "      <td>3983.29</td>\n",
              "      <td>8.289863</td>\n",
              "      <td>0.03712</td>\n",
              "      <td>0.038254</td>\n",
              "      <td>0.058496</td>\n",
              "      <td>0.073216</td>\n",
              "      <td>0.01906</td>\n",
              "      <td>0.027594</td>\n",
              "      <td>0.031409</td>\n",
              "      <td>0.25</td>\n",
              "      <td>15.06</td>\n",
              "      <td>1713.4</td>\n",
              "      <td>-62.75</td>\n",
              "      <td>-0.015631</td>\n",
              "      <td>4025.994</td>\n",
              "      <td>3986.5610</td>\n",
              "    </tr>\n",
              "  </tbody>\n",
              "</table>\n",
              "</div>"
            ],
            "text/plain": [
              "                TRM  TRM_logn      IBR  ...  VAR_LNTRM      MM_5      MM_20\n",
              "date                                    ...                                \n",
              "04/24/2020  4020.94  8.299271  0.03706  ...  -0.004221  4008.944  3990.5985\n",
              "04/27/2020  4039.87  8.303968  0.03675  ...   0.004697  4022.306  3988.2750\n",
              "04/28/2020  4039.83  8.303958  0.03677  ...  -0.000010  4036.720  3990.4750\n",
              "04/29/2020  4046.04  8.305494  0.03712  ...   0.001536  4036.926  3990.6370\n",
              "04/30/2020  3983.29  8.289863  0.03712  ...  -0.015631  4025.994  3986.5610\n",
              "\n",
              "[5 rows x 16 columns]"
            ]
          },
          "metadata": {
            "tags": []
          },
          "execution_count": 6
        }
      ]
    },
    {
      "cell_type": "code",
      "metadata": {
        "id": "NXx4HQLZQODU",
        "colab_type": "code",
        "colab": {}
      },
      "source": [
        "TRAIN_SPLIT =1198"
      ],
      "execution_count": 0,
      "outputs": []
    },
    {
      "cell_type": "code",
      "metadata": {
        "id": "FQLHtNV9QOU0",
        "colab_type": "code",
        "colab": {
          "base_uri": "https://localhost:8080/",
          "height": 85
        },
        "outputId": "9c9028af-5154-44a5-97b3-a23e240e409f"
      },
      "source": [
        "tf.random.set_seed(13)\n",
        "df.columns"
      ],
      "execution_count": 8,
      "outputs": [
        {
          "output_type": "execute_result",
          "data": {
            "text/plain": [
              "Index(['TRM', 'TRM_logn', 'IBR', 'YTES1Y_COP', 'YTES5Y_COP', 'YTES10Y_COP',\n",
              "       'YTES1Y_UVR', 'YTES5Y_UVR', 'YTES10Y_UVR', 'FF_UB', 'WTI_USD',\n",
              "       'GOLD_USD', 'VAR_TRM', 'VAR_LNTRM', 'MM_5', 'MM_20'],\n",
              "      dtype='object')"
            ]
          },
          "metadata": {
            "tags": []
          },
          "execution_count": 8
        }
      ]
    },
    {
      "cell_type": "markdown",
      "metadata": {
        "id": "i5rgYXiuQ71v",
        "colab_type": "text"
      },
      "source": [
        "**#tf.keras.utils.normalize**\n"
      ]
    },
    {
      "cell_type": "code",
      "metadata": {
        "id": "vNDgcXb1ZyBn",
        "colab_type": "code",
        "colab": {}
      },
      "source": [
        "#y_data = df_target.values[:-shift_steps]\n",
        "#print(type(y_data))\n",
        "#print(\"Shape:\", y_data.shape)\n",
        "#df_target=df[Target].shift(-shift_steps)"
      ],
      "execution_count": 0,
      "outputs": []
    },
    {
      "cell_type": "code",
      "metadata": {
        "id": "3AVlz1n4s9co",
        "colab_type": "code",
        "outputId": "01360656-7089-404a-8350-c107a48096a7",
        "colab": {
          "base_uri": "https://localhost:8080/",
          "height": 450
        }
      },
      "source": [
        "Target='TRM'\n",
        "target_name=['TRM']\n",
        "shift_steps = 82  # dias de 202\n",
        "df_target=df[target_name]#.shift(-shift_steps)\n",
        "df_target.tail(84)"
      ],
      "execution_count": 9,
      "outputs": [
        {
          "output_type": "execute_result",
          "data": {
            "text/html": [
              "<div>\n",
              "<style scoped>\n",
              "    .dataframe tbody tr th:only-of-type {\n",
              "        vertical-align: middle;\n",
              "    }\n",
              "\n",
              "    .dataframe tbody tr th {\n",
              "        vertical-align: top;\n",
              "    }\n",
              "\n",
              "    .dataframe thead th {\n",
              "        text-align: right;\n",
              "    }\n",
              "</style>\n",
              "<table border=\"1\" class=\"dataframe\">\n",
              "  <thead>\n",
              "    <tr style=\"text-align: right;\">\n",
              "      <th></th>\n",
              "      <th>TRM</th>\n",
              "    </tr>\n",
              "    <tr>\n",
              "      <th>date</th>\n",
              "      <th></th>\n",
              "    </tr>\n",
              "  </thead>\n",
              "  <tbody>\n",
              "    <tr>\n",
              "      <th>12/30/2019</th>\n",
              "      <td>3294.05</td>\n",
              "    </tr>\n",
              "    <tr>\n",
              "      <th>12/31/2019</th>\n",
              "      <td>3277.14</td>\n",
              "    </tr>\n",
              "    <tr>\n",
              "      <th>01/02/2020</th>\n",
              "      <td>3277.14</td>\n",
              "    </tr>\n",
              "    <tr>\n",
              "      <th>01/03/2020</th>\n",
              "      <td>3258.84</td>\n",
              "    </tr>\n",
              "    <tr>\n",
              "      <th>01/07/2020</th>\n",
              "      <td>3262.05</td>\n",
              "    </tr>\n",
              "    <tr>\n",
              "      <th>...</th>\n",
              "      <td>...</td>\n",
              "    </tr>\n",
              "    <tr>\n",
              "      <th>04/24/2020</th>\n",
              "      <td>4020.94</td>\n",
              "    </tr>\n",
              "    <tr>\n",
              "      <th>04/27/2020</th>\n",
              "      <td>4039.87</td>\n",
              "    </tr>\n",
              "    <tr>\n",
              "      <th>04/28/2020</th>\n",
              "      <td>4039.83</td>\n",
              "    </tr>\n",
              "    <tr>\n",
              "      <th>04/29/2020</th>\n",
              "      <td>4046.04</td>\n",
              "    </tr>\n",
              "    <tr>\n",
              "      <th>04/30/2020</th>\n",
              "      <td>3983.29</td>\n",
              "    </tr>\n",
              "  </tbody>\n",
              "</table>\n",
              "<p>84 rows × 1 columns</p>\n",
              "</div>"
            ],
            "text/plain": [
              "                TRM\n",
              "date               \n",
              "12/30/2019  3294.05\n",
              "12/31/2019  3277.14\n",
              "01/02/2020  3277.14\n",
              "01/03/2020  3258.84\n",
              "01/07/2020  3262.05\n",
              "...             ...\n",
              "04/24/2020  4020.94\n",
              "04/27/2020  4039.87\n",
              "04/28/2020  4039.83\n",
              "04/29/2020  4046.04\n",
              "04/30/2020  3983.29\n",
              "\n",
              "[84 rows x 1 columns]"
            ]
          },
          "metadata": {
            "tags": []
          },
          "execution_count": 9
        }
      ]
    },
    {
      "cell_type": "code",
      "metadata": {
        "id": "N-WHJS_bKR1m",
        "colab_type": "code",
        "colab": {}
      },
      "source": [
        "features_considered=['TRM_logn', 'IBR',  'WTI_USD', 'GOLD_USD', 'VAR_TRM', 'VAR_LNTRM',\n",
        "       'MM_5', 'MM_20'] #,      'FF_EfcRate' 'YTES1Y_COP',\n",
        "      # 'YTES5Y_COP', 'YTES10Y_COP', 'YTES1Y_UVR', 'YTES5Y_UVR', 'YTES10Y_UVR', 'FF_UB',"
      ],
      "execution_count": 0,
      "outputs": []
    },
    {
      "cell_type": "code",
      "metadata": {
        "id": "CeNM41wFKR-l",
        "colab_type": "code",
        "colab": {}
      },
      "source": [
        "features = df[features_considered]\n",
        "#features.index = df['Data Time']\n",
        "features.tail()\n",
        "x_data = features.values[0:-shift_steps]\n"
      ],
      "execution_count": 0,
      "outputs": []
    },
    {
      "cell_type": "code",
      "metadata": {
        "id": "nyoF0QREox_g",
        "colab_type": "code",
        "outputId": "0f5c6c29-f7d1-44a4-9fce-2f347df51f8a",
        "colab": {
          "base_uri": "https://localhost:8080/",
          "height": 51
        }
      },
      "source": [
        "print(type(x_data))\n",
        "print(\"Shape:\", x_data.shape)"
      ],
      "execution_count": 16,
      "outputs": [
        {
          "output_type": "stream",
          "text": [
            "<class 'numpy.ndarray'>\n",
            "Shape: (1198, 15)\n"
          ],
          "name": "stdout"
        }
      ]
    },
    {
      "cell_type": "code",
      "metadata": {
        "id": "PrZfORjVoxug",
        "colab_type": "code",
        "outputId": "260f9255-dc60-4c9d-8378-e3e2fbe99ae0",
        "colab": {
          "base_uri": "https://localhost:8080/",
          "height": 51
        }
      },
      "source": [
        "y_data = df_target.values[:-shift_steps]\n",
        "print(type(y_data))\n",
        "print(\"Shape:\", y_data.shape)"
      ],
      "execution_count": 17,
      "outputs": [
        {
          "output_type": "stream",
          "text": [
            "<class 'numpy.ndarray'>\n",
            "Shape: (1198, 1)\n"
          ],
          "name": "stdout"
        }
      ]
    },
    {
      "cell_type": "code",
      "metadata": {
        "id": "zzWuBJYrpzMg",
        "colab_type": "code",
        "outputId": "e5ed333f-c183-4216-a339-af29fa98ab36",
        "colab": {
          "base_uri": "https://localhost:8080/",
          "height": 34
        }
      },
      "source": [
        "num_data = len(x_data)\n",
        "num_data"
      ],
      "execution_count": 18,
      "outputs": [
        {
          "output_type": "execute_result",
          "data": {
            "text/plain": [
              "1198"
            ]
          },
          "metadata": {
            "tags": []
          },
          "execution_count": 18
        }
      ]
    },
    {
      "cell_type": "code",
      "metadata": {
        "id": "Q56ITBZ-pzEL",
        "colab_type": "code",
        "colab": {}
      },
      "source": [
        "train_split = 0.9"
      ],
      "execution_count": 0,
      "outputs": []
    },
    {
      "cell_type": "code",
      "metadata": {
        "id": "K_16uYZjp3_I",
        "colab_type": "code",
        "outputId": "c6e74cd1-5b1b-4b5b-cff3-afc3fc848bd1",
        "colab": {
          "base_uri": "https://localhost:8080/",
          "height": 34
        }
      },
      "source": [
        "num_train = int(train_split * num_data)\n",
        "num_train"
      ],
      "execution_count": 20,
      "outputs": [
        {
          "output_type": "execute_result",
          "data": {
            "text/plain": [
              "1078"
            ]
          },
          "metadata": {
            "tags": []
          },
          "execution_count": 20
        }
      ]
    },
    {
      "cell_type": "code",
      "metadata": {
        "id": "irCFFY40p38x",
        "colab_type": "code",
        "outputId": "d81ff401-5155-4375-9103-ef7a9af08003",
        "colab": {
          "base_uri": "https://localhost:8080/",
          "height": 34
        }
      },
      "source": [
        "num_test = num_data - num_train\n",
        "num_test"
      ],
      "execution_count": 21,
      "outputs": [
        {
          "output_type": "execute_result",
          "data": {
            "text/plain": [
              "120"
            ]
          },
          "metadata": {
            "tags": []
          },
          "execution_count": 21
        }
      ]
    },
    {
      "cell_type": "code",
      "metadata": {
        "id": "KDRfNWDCp36s",
        "colab_type": "code",
        "outputId": "2c17287e-f425-4d27-e10d-9baaa75d32d7",
        "colab": {
          "base_uri": "https://localhost:8080/",
          "height": 34
        }
      },
      "source": [
        "x_train = x_data[0:num_train]\n",
        "x_test = x_data[num_train:]\n",
        "len(x_train) + len(x_test)"
      ],
      "execution_count": 22,
      "outputs": [
        {
          "output_type": "execute_result",
          "data": {
            "text/plain": [
              "1198"
            ]
          },
          "metadata": {
            "tags": []
          },
          "execution_count": 22
        }
      ]
    },
    {
      "cell_type": "code",
      "metadata": {
        "id": "GGBV9R0np33j",
        "colab_type": "code",
        "outputId": "23c9c83f-1839-4349-d72c-982ce01b9ad8",
        "colab": {
          "base_uri": "https://localhost:8080/",
          "height": 34
        }
      },
      "source": [
        "y_train = y_data[0:num_train]\n",
        "y_test = y_data[num_train:]\n",
        "len(y_train) + len(y_test)"
      ],
      "execution_count": 23,
      "outputs": [
        {
          "output_type": "execute_result",
          "data": {
            "text/plain": [
              "1198"
            ]
          },
          "metadata": {
            "tags": []
          },
          "execution_count": 23
        }
      ]
    },
    {
      "cell_type": "code",
      "metadata": {
        "id": "S5vvQsHdp3y4",
        "colab_type": "code",
        "outputId": "e71e6eb3-3f38-4b1c-f5b6-f9f438e09f6a",
        "colab": {
          "base_uri": "https://localhost:8080/",
          "height": 34
        }
      },
      "source": [
        "num_x_signals = x_data.shape[1]\n",
        "num_x_signals"
      ],
      "execution_count": 24,
      "outputs": [
        {
          "output_type": "execute_result",
          "data": {
            "text/plain": [
              "15"
            ]
          },
          "metadata": {
            "tags": []
          },
          "execution_count": 24
        }
      ]
    },
    {
      "cell_type": "code",
      "metadata": {
        "id": "-Joi1p0eqGms",
        "colab_type": "code",
        "outputId": "104790fa-a34d-4fc5-f524-5f4f0a5428a8",
        "colab": {
          "base_uri": "https://localhost:8080/",
          "height": 34
        }
      },
      "source": [
        "num_y_signals = y_data.shape[1]\n",
        "num_y_signals"
      ],
      "execution_count": 25,
      "outputs": [
        {
          "output_type": "execute_result",
          "data": {
            "text/plain": [
              "1"
            ]
          },
          "metadata": {
            "tags": []
          },
          "execution_count": 25
        }
      ]
    },
    {
      "cell_type": "code",
      "metadata": {
        "id": "XiLe3MfiqGgs",
        "colab_type": "code",
        "colab": {}
      },
      "source": [
        "#X_train, X_test, y_train, y_test = train_test_split(X,y, test_size = 0.3, random_state=42)\n",
        "\n",
        "# Create the Scaler object scaler = StandardScaler()\n",
        "x_scaled = StandardScaler()\n",
        "\n",
        "x_train_scaled = x_scaled.fit_transform(x_train)\n",
        "x_test_scaled=x_scaled.transform(x_test)"
      ],
      "execution_count": 0,
      "outputs": []
    },
    {
      "cell_type": "code",
      "metadata": {
        "id": "8QztkY2wqGZe",
        "colab_type": "code",
        "outputId": "03302074-b2b6-44cf-f0f7-a9288f40a6f7",
        "colab": {
          "base_uri": "https://localhost:8080/",
          "height": 51
        }
      },
      "source": [
        "print(\"Min:\", np.min(x_train_scaled))\n",
        "print(\"Max:\", np.max(x_train_scaled))"
      ],
      "execution_count": 27,
      "outputs": [
        {
          "output_type": "stream",
          "text": [
            "Min: -3.850902776625826\n",
            "Max: 4.331086940634542\n"
          ],
          "name": "stdout"
        }
      ]
    },
    {
      "cell_type": "code",
      "metadata": {
        "id": "S8KtkmcCp3uY",
        "colab_type": "code",
        "colab": {}
      },
      "source": [
        "#y_scaler = MinMaxScaler()\n",
        "#y_train_scaled = y_scaler.fit_transform(y_train)\n",
        "#y_test_scaled = y_scaler.transform(y_test)\n",
        "y_train_scaled = y_train\n",
        "y_test_scaled =y_test\n"
      ],
      "execution_count": 0,
      "outputs": []
    },
    {
      "cell_type": "code",
      "metadata": {
        "id": "LI9gUaKrp3n1",
        "colab_type": "code",
        "outputId": "15068831-f786-4233-fee5-a8c6f5ae8c23",
        "colab": {
          "base_uri": "https://localhost:8080/",
          "height": 51
        }
      },
      "source": [
        "#generando datos\n",
        "print(x_train_scaled.shape)\n",
        "print(y_train.shape)"
      ],
      "execution_count": 29,
      "outputs": [
        {
          "output_type": "stream",
          "text": [
            "(1078, 15)\n",
            "(1078, 1)\n"
          ],
          "name": "stdout"
        }
      ]
    },
    {
      "cell_type": "code",
      "metadata": {
        "id": "x7T5UTQupy5D",
        "colab_type": "code",
        "colab": {}
      },
      "source": [
        "#cuando hay muchos datos se utiliza esta funcion para hacelos por batch\n",
        "def batch_generator(batch_size, sequence_length):\n",
        "    \"\"\"\n",
        "    Generator function for creating random batches of training-data.\n",
        "    \"\"\"\n",
        "\n",
        "    # Infinite loop.\n",
        "    while True:\n",
        "        # Allocate a new array for the batch of input-signals.\n",
        "        x_shape = (batch_size, sequence_length, num_x_signals)\n",
        "        x_batch = np.zeros(shape=x_shape, dtype=np.float16)\n",
        "\n",
        "        # Allocate a new array for the batch of output-signals.\n",
        "        y_shape = (batch_size, sequence_length, num_y_signals)\n",
        "        y_batch = np.zeros(shape=y_shape, dtype=np.float16)\n",
        "\n",
        "        # Fill the batch with random sequences of data.\n",
        "        for i in range(batch_size):\n",
        "            # Get a random start-index.\n",
        "            # This points somewhere into the training-data.\n",
        "            idx = np.random.randint(num_train - sequence_length)\n",
        "            \n",
        "            # Copy the sequences of data starting at this index.\n",
        "            x_batch[i] = x_train_scaled[idx:idx+sequence_length]\n",
        "            y_batch[i] = y_train_scaled[idx:idx+sequence_length]\n",
        "        \n",
        "        yield (x_batch, y_batch)"
      ],
      "execution_count": 0,
      "outputs": []
    },
    {
      "cell_type": "code",
      "metadata": {
        "id": "52Bvs5DzPqxy",
        "colab_type": "code",
        "colab": {}
      },
      "source": [
        "batch_size =5 # 256"
      ],
      "execution_count": 0,
      "outputs": []
    },
    {
      "cell_type": "code",
      "metadata": {
        "id": "qfdb9m_mPqnc",
        "colab_type": "code",
        "outputId": "e88589f8-b492-4650-ee6b-fdafc7d884e6",
        "colab": {
          "base_uri": "https://localhost:8080/",
          "height": 34
        }
      },
      "source": [
        "sequence_length = 20*12\n",
        "sequence_length"
      ],
      "execution_count": 32,
      "outputs": [
        {
          "output_type": "execute_result",
          "data": {
            "text/plain": [
              "240"
            ]
          },
          "metadata": {
            "tags": []
          },
          "execution_count": 32
        }
      ]
    },
    {
      "cell_type": "code",
      "metadata": {
        "id": "QITQ7SzmPqZ3",
        "colab_type": "code",
        "colab": {}
      },
      "source": [
        "generator = batch_generator(batch_size=batch_size,\n",
        "                            sequence_length=sequence_length)"
      ],
      "execution_count": 0,
      "outputs": []
    },
    {
      "cell_type": "code",
      "metadata": {
        "id": "StzYu2oEPqLB",
        "colab_type": "code",
        "colab": {}
      },
      "source": [
        "x_batch, y_batch = next(generator)"
      ],
      "execution_count": 0,
      "outputs": []
    },
    {
      "cell_type": "code",
      "metadata": {
        "id": "kMPDebs6QZ7o",
        "colab_type": "code",
        "outputId": "a51014fb-15af-4bd9-b1ce-37842bbfeffc",
        "colab": {
          "base_uri": "https://localhost:8080/",
          "height": 51
        }
      },
      "source": [
        "print(x_batch.shape)\n",
        "print(y_batch.shape)"
      ],
      "execution_count": 36,
      "outputs": [
        {
          "output_type": "stream",
          "text": [
            "(5, 240, 15)\n",
            "(5, 240, 1)\n"
          ],
          "name": "stdout"
        }
      ]
    },
    {
      "cell_type": "code",
      "metadata": {
        "id": "ec0uHOjgQZzH",
        "colab_type": "code",
        "outputId": "0b5ab2b1-bec3-422b-d5f5-d21f483969fb",
        "colab": {
          "base_uri": "https://localhost:8080/",
          "height": 282
        }
      },
      "source": [
        "#una de las señales\n",
        "batch = 0   # First sequence in the batch.\n",
        "signal = 0  # First signal from the 16 input-signals.\n",
        "seq = x_batch[batch, :, signal]\n",
        "plt.plot(seq)"
      ],
      "execution_count": 37,
      "outputs": [
        {
          "output_type": "execute_result",
          "data": {
            "text/plain": [
              "[<matplotlib.lines.Line2D at 0x7fd49ba30d30>]"
            ]
          },
          "metadata": {
            "tags": []
          },
          "execution_count": 37
        },
        {
          "output_type": "display_data",
          "data": {
            "image/png": "[encoded data removed]",
            "text/plain": [
              "<Figure size 432x288 with 1 Axes>"
            ]
          },
          "metadata": {
            "tags": [],
            "needs_background": "light"
          }
        }
      ]
    },
    {
      "cell_type": "code",
      "metadata": {
        "id": "bnih5rVOQZqS",
        "colab_type": "code",
        "outputId": "8edd9ac5-c42f-433a-f319-80f017da66b9",
        "colab": {
          "base_uri": "https://localhost:8080/",
          "height": 283
        }
      },
      "source": [
        "seq = y_batch[batch, :, signal]\n",
        "plt.plot(seq)"
      ],
      "execution_count": 0,
      "outputs": [
        {
          "output_type": "execute_result",
          "data": {
            "text/plain": [
              "[<matplotlib.lines.Line2D at 0x7f07c7e7ef98>]"
            ]
          },
          "metadata": {
            "tags": []
          },
          "execution_count": 34
        },
        {
          "output_type": "display_data",
          "data": {
            "image/png": "[encoded data removed]",
            "text/plain": [
              "<Figure size 432x288 with 1 Axes>"
            ]
          },
          "metadata": {
            "tags": [],
            "needs_background": "light"
          }
        }
      ]
    },
    {
      "cell_type": "code",
      "metadata": {
        "id": "75bnKJTOQZhb",
        "colab_type": "code",
        "colab": {}
      },
      "source": [
        "#conjunto de validación\n",
        "validation_data = (np.expand_dims(x_test_scaled, axis=0),np.expand_dims(y_test_scaled, axis=0))"
      ],
      "execution_count": 0,
      "outputs": []
    },
    {
      "cell_type": "code",
      "metadata": {
        "id": "8z5LTn9ZQZYa",
        "colab_type": "code",
        "colab": {}
      },
      "source": [
        "#crear la red\n",
        "model = Sequential()\n",
        "#Gated Recurrent Unit con 512 salidas por cada eime-step in la sequencia\n",
        "model.add(GRU(units=512,return_sequences=True,input_shape=(None, num_x_signals,)))\n",
        "#función de activación\n",
        "model.add(Dense(num_y_signals, activation='relu'))#sigmoid\n"
      ],
      "execution_count": 0,
      "outputs": []
    },
    {
      "cell_type": "code",
      "metadata": {
        "id": "rONgK2DKRmU1",
        "colab_type": "code",
        "colab": {}
      },
      "source": [
        "#if False:\n",
        "#    from tensorflow.python.keras.initializers import RandomUniform\n",
        "#\n",
        "    # Maybe use lower init-ranges.\n",
        "#    init = RandomUniform(minval=-0.05, maxval=0.05)#\n",
        "\n",
        "#    model.add(Dense(num_y_signals,\n",
        "#                     activation='linear',\n",
        "#                    kernel_initializer=init))"
      ],
      "execution_count": 0,
      "outputs": []
    },
    {
      "cell_type": "code",
      "metadata": {
        "id": "iYeZ4N3-RmPU",
        "colab_type": "code",
        "colab": {}
      },
      "source": [
        "warmup_steps = 50"
      ],
      "execution_count": 0,
      "outputs": []
    },
    {
      "cell_type": "code",
      "metadata": {
        "id": "jcTLRKo4RmL6",
        "colab_type": "code",
        "colab": {}
      },
      "source": [
        "def loss_mse_warmup(y_true, y_pred):\n",
        "    \"\"\"\n",
        "    Calculate the Mean Squared Error between y_true and y_pred,\n",
        "    but ignore the beginning \"warmup\" part of the sequences.\n",
        "    \n",
        "    y_true is the desired output.\n",
        "    y_pred is the model's output.\n",
        "    \"\"\"\n",
        "\n",
        "    # The shape of both input tensors are:\n",
        "    # [batch_size, sequence_length, num_y_signals].\n",
        "\n",
        "    # Ignore the \"warmup\" parts of the sequences\n",
        "    # by taking slices of the tensors.\n",
        "    y_true_slice = y_true[:, warmup_steps:, :]\n",
        "    y_pred_slice = y_pred[:, warmup_steps:, :]\n",
        "\n",
        "    # These sliced tensors both have this shape:\n",
        "    # [batch_size, sequence_length - warmup_steps, num_y_signals]\n",
        "\n",
        "    # Calculat the Mean Squared Error and use it as loss.\n",
        "    mse = mean(square(y_true_slice - y_pred_slice))\n",
        "    \n",
        "    return mse"
      ],
      "execution_count": 0,
      "outputs": []
    },
    {
      "cell_type": "code",
      "metadata": {
        "id": "-jD2OapKRmHh",
        "colab_type": "code",
        "outputId": "e48d7b28-04fa-44f8-ed77-8229300b4bff",
        "colab": {
          "base_uri": "https://localhost:8080/",
          "height": 221
        }
      },
      "source": [
        "#Modelo compilador\n",
        "optimizer = RMSprop(lr=1e-3)\n",
        "model.compile(loss=loss_mse_warmup, optimizer=optimizer)\n",
        "model.summary()"
      ],
      "execution_count": 41,
      "outputs": [
        {
          "output_type": "stream",
          "text": [
            "Model: \"sequential\"\n",
            "_________________________________________________________________\n",
            "Layer (type)                 Output Shape              Param #   \n",
            "=================================================================\n",
            "gru (GRU)                    (None, None, 512)         812544    \n",
            "_________________________________________________________________\n",
            "dense (Dense)                (None, None, 1)           513       \n",
            "=================================================================\n",
            "Total params: 813,057\n",
            "Trainable params: 813,057\n",
            "Non-trainable params: 0\n",
            "_________________________________________________________________\n"
          ],
          "name": "stdout"
        }
      ]
    },
    {
      "cell_type": "code",
      "metadata": {
        "id": "DIGCdD44RmBT",
        "colab_type": "code",
        "colab": {}
      },
      "source": [
        "#PARA SALVAR ALGUNOS PUNTOS DURANTE EL APRENDIZAJE CALLBACKS\n",
        "path_checkpoint = '23_checkpoint.keras'\n",
        "callback_checkpoint = ModelCheckpoint(filepath=path_checkpoint,\n",
        "                                      monitor='val_loss',\n",
        "                                      verbose=1,\n",
        "                                      save_weights_only=True,\n",
        "                                      save_best_only=True)"
      ],
      "execution_count": 0,
      "outputs": []
    },
    {
      "cell_type": "code",
      "metadata": {
        "id": "Tgnvwm7hRl4D",
        "colab_type": "code",
        "colab": {}
      },
      "source": [
        "# CALLBACK PARA PARAR LA OPTIMIZACIÓNCUANDO DESEMPEÑO EMPEORE EN EL CONJUNTO DE VALIDACION\n",
        "callback_early_stopping = EarlyStopping(monitor='val_loss',\n",
        "                                        patience=5, verbose=1)"
      ],
      "execution_count": 0,
      "outputs": []
    },
    {
      "cell_type": "code",
      "metadata": {
        "id": "sULTCF7RTUPa",
        "colab_type": "code",
        "colab": {}
      },
      "source": [
        "#REPORTE DE LA CORRIDA\n",
        "callback_tensorboard = TensorBoard(log_dir='./23_logs/',\n",
        "                                   histogram_freq=0,\n",
        "                                   write_graph=False)"
      ],
      "execution_count": 0,
      "outputs": []
    },
    {
      "cell_type": "code",
      "metadata": {
        "id": "QaNvJcCpTUHM",
        "colab_type": "code",
        "colab": {}
      },
      "source": [
        "#PARA EL APRENDIZAJE SI NO MEJORA LA TASA DE APRENDIZAJE DESPUES DE CIRTAS EPOCHS\n",
        "callback_reduce_lr = ReduceLROnPlateau(monitor='val_loss',\n",
        "                                       factor=0.1,\n",
        "                                       min_lr=1e-4,\n",
        "                                        patience=0,\n",
        "                                       verbose=1)"
      ],
      "execution_count": 0,
      "outputs": []
    },
    {
      "cell_type": "code",
      "metadata": {
        "id": "CR2HdNCzTUAe",
        "colab_type": "code",
        "colab": {}
      },
      "source": [
        "callbacks = [callback_early_stopping,\n",
        "             callback_checkpoint,\n",
        "             callback_tensorboard,\n",
        "             callback_reduce_lr]"
      ],
      "execution_count": 0,
      "outputs": []
    },
    {
      "cell_type": "code",
      "metadata": {
        "id": "ToqBufu6TsCd",
        "colab_type": "code",
        "outputId": "b6eaae6f-5b93-4b3a-d5b5-9b5144624022",
        "colab": {
          "base_uri": "https://localhost:8080/",
          "height": 394
        }
      },
      "source": [
        "#NEURAL NETWORK\n",
        "%%time\n",
        "model.fit(x=generator,\n",
        "          epochs=20,\n",
        "          steps_per_epoch=100,\n",
        "          validation_data=validation_data,\n",
        "          callbacks=callbacks)"
      ],
      "execution_count": 47,
      "outputs": [
        {
          "output_type": "error",
          "ename": "NameError",
          "evalue": "ignored",
          "traceback": [
            "\u001b[0;31m---------------------------------------------------------------------------\u001b[0m",
            "\u001b[0;31mNameError\u001b[0m                                 Traceback (most recent call last)",
            "\u001b[0;32m<ipython-input-47-a3272c106e85>\u001b[0m in \u001b[0;36m<module>\u001b[0;34m()\u001b[0m\n\u001b[0;32m----> 1\u001b[0;31m \u001b[0mget_ipython\u001b[0m\u001b[0;34m(\u001b[0m\u001b[0;34m)\u001b[0m\u001b[0;34m.\u001b[0m\u001b[0mrun_cell_magic\u001b[0m\u001b[0;34m(\u001b[0m\u001b[0;34m'time'\u001b[0m\u001b[0;34m,\u001b[0m \u001b[0;34m''\u001b[0m\u001b[0;34m,\u001b[0m \u001b[0;34m'model.fit(x=generator,\\n          epochs=20,\\n          steps_per_epoch=100,\\n          validation_data=validation_data,\\n          callbacks=callbacks)'\u001b[0m\u001b[0;34m)\u001b[0m\u001b[0;34m\u001b[0m\u001b[0;34m\u001b[0m\u001b[0m\n\u001b[0m",
            "\u001b[0;32m/usr/local/lib/python3.6/dist-packages/IPython/core/interactiveshell.py\u001b[0m in \u001b[0;36mrun_cell_magic\u001b[0;34m(self, magic_name, line, cell)\u001b[0m\n\u001b[1;32m   2115\u001b[0m             \u001b[0mmagic_arg_s\u001b[0m \u001b[0;34m=\u001b[0m \u001b[0mself\u001b[0m\u001b[0;34m.\u001b[0m\u001b[0mvar_expand\u001b[0m\u001b[0;34m(\u001b[0m\u001b[0mline\u001b[0m\u001b[0;34m,\u001b[0m \u001b[0mstack_depth\u001b[0m\u001b[0;34m)\u001b[0m\u001b[0;34m\u001b[0m\u001b[0;34m\u001b[0m\u001b[0m\n\u001b[1;32m   2116\u001b[0m             \u001b[0;32mwith\u001b[0m \u001b[0mself\u001b[0m\u001b[0;34m.\u001b[0m\u001b[0mbuiltin_trap\u001b[0m\u001b[0;34m:\u001b[0m\u001b[0;34m\u001b[0m\u001b[0;34m\u001b[0m\u001b[0m\n\u001b[0;32m-> 2117\u001b[0;31m                 \u001b[0mresult\u001b[0m \u001b[0;34m=\u001b[0m \u001b[0mfn\u001b[0m\u001b[0;34m(\u001b[0m\u001b[0mmagic_arg_s\u001b[0m\u001b[0;34m,\u001b[0m \u001b[0mcell\u001b[0m\u001b[0;34m)\u001b[0m\u001b[0;34m\u001b[0m\u001b[0;34m\u001b[0m\u001b[0m\n\u001b[0m\u001b[1;32m   2118\u001b[0m             \u001b[0;32mreturn\u001b[0m \u001b[0mresult\u001b[0m\u001b[0;34m\u001b[0m\u001b[0;34m\u001b[0m\u001b[0m\n\u001b[1;32m   2119\u001b[0m \u001b[0;34m\u001b[0m\u001b[0m\n",
            "\u001b[0;32m<decorator-gen-60>\u001b[0m in \u001b[0;36mtime\u001b[0;34m(self, line, cell, local_ns)\u001b[0m\n",
            "\u001b[0;32m/usr/local/lib/python3.6/dist-packages/IPython/core/magic.py\u001b[0m in \u001b[0;36m<lambda>\u001b[0;34m(f, *a, **k)\u001b[0m\n\u001b[1;32m    186\u001b[0m     \u001b[0;31m# but it's overkill for just that one bit of state.\u001b[0m\u001b[0;34m\u001b[0m\u001b[0;34m\u001b[0m\u001b[0;34m\u001b[0m\u001b[0m\n\u001b[1;32m    187\u001b[0m     \u001b[0;32mdef\u001b[0m \u001b[0mmagic_deco\u001b[0m\u001b[0;34m(\u001b[0m\u001b[0marg\u001b[0m\u001b[0;34m)\u001b[0m\u001b[0;34m:\u001b[0m\u001b[0;34m\u001b[0m\u001b[0;34m\u001b[0m\u001b[0m\n\u001b[0;32m--> 188\u001b[0;31m         \u001b[0mcall\u001b[0m \u001b[0;34m=\u001b[0m \u001b[0;32mlambda\u001b[0m \u001b[0mf\u001b[0m\u001b[0;34m,\u001b[0m \u001b[0;34m*\u001b[0m\u001b[0ma\u001b[0m\u001b[0;34m,\u001b[0m \u001b[0;34m**\u001b[0m\u001b[0mk\u001b[0m\u001b[0;34m:\u001b[0m \u001b[0mf\u001b[0m\u001b[0;34m(\u001b[0m\u001b[0;34m*\u001b[0m\u001b[0ma\u001b[0m\u001b[0;34m,\u001b[0m \u001b[0;34m**\u001b[0m\u001b[0mk\u001b[0m\u001b[0;34m)\u001b[0m\u001b[0;34m\u001b[0m\u001b[0;34m\u001b[0m\u001b[0m\n\u001b[0m\u001b[1;32m    189\u001b[0m \u001b[0;34m\u001b[0m\u001b[0m\n\u001b[1;32m    190\u001b[0m         \u001b[0;32mif\u001b[0m \u001b[0mcallable\u001b[0m\u001b[0;34m(\u001b[0m\u001b[0marg\u001b[0m\u001b[0;34m)\u001b[0m\u001b[0;34m:\u001b[0m\u001b[0;34m\u001b[0m\u001b[0;34m\u001b[0m\u001b[0m\n",
            "\u001b[0;32m/usr/local/lib/python3.6/dist-packages/IPython/core/magics/execution.py\u001b[0m in \u001b[0;36mtime\u001b[0;34m(self, line, cell, local_ns)\u001b[0m\n\u001b[1;32m   1187\u001b[0m         \u001b[0;32mif\u001b[0m \u001b[0mmode\u001b[0m\u001b[0;34m==\u001b[0m\u001b[0;34m'eval'\u001b[0m\u001b[0;34m:\u001b[0m\u001b[0;34m\u001b[0m\u001b[0;34m\u001b[0m\u001b[0m\n\u001b[1;32m   1188\u001b[0m             \u001b[0mst\u001b[0m \u001b[0;34m=\u001b[0m \u001b[0mclock2\u001b[0m\u001b[0;34m(\u001b[0m\u001b[0;34m)\u001b[0m\u001b[0;34m\u001b[0m\u001b[0;34m\u001b[0m\u001b[0m\n\u001b[0;32m-> 1189\u001b[0;31m             \u001b[0mout\u001b[0m \u001b[0;34m=\u001b[0m \u001b[0meval\u001b[0m\u001b[0;34m(\u001b[0m\u001b[0mcode\u001b[0m\u001b[0;34m,\u001b[0m \u001b[0mglob\u001b[0m\u001b[0;34m,\u001b[0m \u001b[0mlocal_ns\u001b[0m\u001b[0;34m)\u001b[0m\u001b[0;34m\u001b[0m\u001b[0;34m\u001b[0m\u001b[0m\n\u001b[0m\u001b[1;32m   1190\u001b[0m             \u001b[0mend\u001b[0m \u001b[0;34m=\u001b[0m \u001b[0mclock2\u001b[0m\u001b[0;34m(\u001b[0m\u001b[0;34m)\u001b[0m\u001b[0;34m\u001b[0m\u001b[0;34m\u001b[0m\u001b[0m\n\u001b[1;32m   1191\u001b[0m         \u001b[0;32melse\u001b[0m\u001b[0;34m:\u001b[0m\u001b[0;34m\u001b[0m\u001b[0;34m\u001b[0m\u001b[0m\n",
            "\u001b[0;32m<timed eval>\u001b[0m in \u001b[0;36m<module>\u001b[0;34m()\u001b[0m\n",
            "\u001b[0;31mNameError\u001b[0m: name 'validation_data' is not defined"
          ]
        }
      ]
    },
    {
      "cell_type": "code",
      "metadata": {
        "id": "5ajw-XbmTr_N",
        "colab_type": "code",
        "colab": {}
      },
      "source": [
        "try:\n",
        "    model.load_weights(path_checkpoint)\n",
        "except Exception as error:\n",
        "    print(\"Error trying to load checkpoint.\")\n",
        "    print(error)"
      ],
      "execution_count": 0,
      "outputs": []
    },
    {
      "cell_type": "code",
      "metadata": {
        "id": "_fE3jZ-lTr8B",
        "colab_type": "code",
        "outputId": "f92085f0-e51d-4202-dc84-9ec9ab1c2131",
        "colab": {
          "base_uri": "https://localhost:8080/",
          "height": 51
        }
      },
      "source": [
        "#TEST SET\n",
        "result = model.evaluate(x=np.expand_dims(x_test_scaled, axis=0),\n",
        "                        y=np.expand_dims(y_test_scaled, axis=0))\n",
        "print(\"loss (test-set):\",result)"
      ],
      "execution_count": 0,
      "outputs": [
        {
          "output_type": "stream",
          "text": [
            "1/1 [==============================] - 0s 1ms/step - loss: 11649822.0000\n",
            "loss (test-set): 11649822.0\n"
          ],
          "name": "stdout"
        }
      ]
    },
    {
      "cell_type": "code",
      "metadata": {
        "id": "xigBgwekTr4t",
        "colab_type": "code",
        "colab": {}
      },
      "source": [
        "# If you have several metrics you can use this instead.\n",
        "if False:\n",
        "    for res, metric in zip(result, model.metrics_names):\n",
        "        print(\"{0}: {1:.3e}\".format(metric, res))"
      ],
      "execution_count": 0,
      "outputs": []
    },
    {
      "cell_type": "code",
      "metadata": {
        "id": "Y1hHd4awTr0Q",
        "colab_type": "code",
        "colab": {}
      },
      "source": [
        "#funcion para generar predicciones\n",
        "def plot_comparison(start_idx, length=100, train=True):\n",
        "    \"\"\"\n",
        "    Plot the predicted and true output-signals.\n",
        "    \n",
        "    :param start_idx: Start-index for the time-series.\n",
        "    :param length: Sequence-length to process and plot.\n",
        "    :param train: Boolean whether to use training- or test-set.\n",
        "    \"\"\"\n",
        "    \n",
        "    if train:\n",
        "        # Use training-data.\n",
        "        x = x_train_scaled\n",
        "        y_true = y_train\n",
        "    else:\n",
        "        # Use test-data.\n",
        "        x = x_test_scaled\n",
        "        y_true = y_test\n",
        "    \n",
        "    # End-index for the sequences.\n",
        "    end_idx = start_idx + length\n",
        "    \n",
        "    # Select the sequences from the given start-index and\n",
        "    # of the given length.\n",
        "    x = x[start_idx:end_idx]\n",
        "    y_true = y_true[start_idx:end_idx]\n",
        "    \n",
        "    # Input-signals for the model.\n",
        "    x = np.expand_dims(x, axis=0)\n",
        "\n",
        "    # Use the model to predict the output-signals.\n",
        "    y_pred = model.predict(x)\n",
        "    \n",
        "    # The output of the model is between 0 and 1.\n",
        "    # Do an inverse map to get it back to the scale\n",
        "    # of the original data-set.\n",
        "    #y_pred_rescaled = y_scaler.inverse_transform(y_pred[0])\n",
        "    y_pred_rescaled = y_pred\n",
        "    \n",
        "    # For each output-signal.\n",
        "    for signal in range(len(target_name)):\n",
        "        # Get the output-signal predicted by the model.\n",
        "        #signal_pred = y_pred_rescaled[:, signal]\n",
        "        signal_pred = y_pred[:, signal]\n",
        "        \n",
        "        # Get the true output-signal from the data-set.\n",
        "        signal_true = y_true[:, signal]\n",
        "\n",
        "        # Make the plotting-canvas bigger.\n",
        "        plt.figure(figsize=(15,5))\n",
        "        \n",
        "        # Plot and compare the two signals.\n",
        "        plt.plot(signal_true, label='true')\n",
        "        plt.plot(signal_pred, label='pred')\n",
        "        \n",
        "        # Plot grey box for warmup-period.\n",
        "        p = plt.axvspan(0, warmup_steps, facecolor='black', alpha=0.15)\n",
        "        \n",
        "        # Plot labels etc.\n",
        "        plt.ylabel(target_name[signal])\n",
        "        plt.legend()\n",
        "        plt.show()"
      ],
      "execution_count": 0,
      "outputs": []
    },
    {
      "cell_type": "code",
      "metadata": {
        "id": "5siFoTfvakTV",
        "colab_type": "code",
        "colab": {}
      },
      "source": [
        "def plot_comparison(start_idx, length=100, train=True):\n",
        "    \"\"\"\n",
        "    Plot the predicted and true output-signals.\n",
        "    \n",
        "    :param start_idx: Start-index for the time-series.\n",
        "    :param length: Sequence-length to process and plot.\n",
        "    :param train: Boolean whether to use training- or test-set.\n",
        "    \"\"\"\n",
        "    \n",
        "    if train:\n",
        "        # Use training-data.\n",
        "        x = x_train_scaled\n",
        "        y_true = y_train\n",
        "    else:\n",
        "        # Use test-data.\n",
        "        x = x_test_scaled\n",
        "        y_true = y_test\n",
        "    \n",
        "    # End-index for the sequences.\n",
        "    end_idx = start_idx + length\n",
        "    \n",
        "    # Select the sequences from the given start-index and\n",
        "    # of the given length.\n",
        "    x = x[start_idx:end_idx]\n",
        "    y_true = y_true[start_idx:end_idx]\n",
        "    \n",
        "    # Input-signals for the model.\n",
        "    x = np.expand_dims(x, axis=0)\n",
        "\n",
        "    # Use the model to predict the output-signals.\n",
        "    y_pred = model.predict(x)\n",
        "    \n",
        "    # The output of the model is between 0 and 1.\n",
        "    # Do an inverse map to get it back to the scale\n",
        "    # of the original data-set.\n",
        "    #y_pred_rescaled = y_scaler.inverse_transform(y_pred[0])\n",
        "    \n",
        "    # For each output-signal.\n",
        "    for signal in range(len(target_name)):\n",
        "        # Get the output-signal predicted by the model.\n",
        "        #signal_pred = y_pred_rescaled[:, signal]\n",
        "        signal_pred = y_train_scaled[:, signal]\n",
        "        \n",
        "        # Get the true output-signal from the data-set.\n",
        "        signal_true = y_true[:, signal]\n",
        "\n",
        "        # Make the plotting-canvas bigger.\n",
        "        plt.figure(figsize=(15,5))\n",
        "        \n",
        "        # Plot and compare the two signals.\n",
        "        plt.plot(signal_true, label='true')\n",
        "        plt.plot(signal_pred, label='pred')\n",
        "        \n",
        "        # Plot grey box for warmup-period.\n",
        "        p = plt.axvspan(0, warmup_steps, facecolor='black', alpha=0.15)\n",
        "        \n",
        "        # Plot labels etc.\n",
        "        plt.ylabel(target_name[signal])\n",
        "        plt.legend()\n",
        "        plt.show()"
      ],
      "execution_count": 0,
      "outputs": []
    },
    {
      "cell_type": "code",
      "metadata": {
        "id": "fPbla-ZATrwT",
        "colab_type": "code",
        "outputId": "86326bee-c018-4bd1-b61b-86fc12182c81",
        "colab": {
          "base_uri": "https://localhost:8080/",
          "height": 320
        }
      },
      "source": [
        "plot_comparison(start_idx=1000, length=190, train=True)"
      ],
      "execution_count": 0,
      "outputs": [
        {
          "output_type": "display_data",
          "data": {
            "image/png": "[encoded data removed]",
            "text/plain": [
              "<Figure size 1080x360 with 1 Axes>"
            ]
          },
          "metadata": {
            "tags": [],
            "needs_background": "light"
          }
        }
      ]
    },
    {
      "cell_type": "code",
      "metadata": {
        "id": "dzczx16LTT3O",
        "colab_type": "code",
        "outputId": "2e561eed-2896-4bb8-c8e5-82fcaa65fcfa",
        "colab": {
          "base_uri": "https://localhost:8080/",
          "height": 320
        }
      },
      "source": [
        "plot_comparison(start_idx=60, length=100, train=False)"
      ],
      "execution_count": 0,
      "outputs": [
        {
          "output_type": "display_data",
          "data": {
            "image/png": "[encoded data removed]",
            "text/plain": [
              "<Figure size 1080x360 with 1 Axes>"
            ]
          },
          "metadata": {
            "tags": [],
            "needs_background": "light"
          }
        }
      ]
    },
    {
      "cell_type": "code",
      "metadata": {
        "id": "5KasdBsw67Yh",
        "colab_type": "code",
        "colab": {
          "base_uri": "https://localhost:8080/",
          "height": 298
        },
        "outputId": "5d8cd201-9ced-4dc4-aed8-4202930778ce"
      },
      "source": [
        "features.hist()\n",
        "plt.figure(figsize=(2, 5))\n",
        "plt.show()"
      ],
      "execution_count": 73,
      "outputs": [
        {
          "output_type": "display_data",
          "data": {
            "image/png": "[encoded data removed]",
            "text/plain": [
              "<Figure size 432x288 with 9 Axes>"
            ]
          },
          "metadata": {
            "tags": [],
            "needs_background": "light"
          }
        },
        {
          "output_type": "display_data",
          "data": {
            "text/plain": [
              "<Figure size 144x360 with 0 Axes>"
            ]
          },
          "metadata": {
            "tags": []
          }
        }
      ]
    },
    {
      "cell_type": "code",
      "metadata": {
        "id": "8goXWvPk56Hs",
        "colab_type": "code",
        "colab": {
          "base_uri": "https://localhost:8080/",
          "height": 265
        },
        "outputId": "6f666241-fdc4-40cf-d37f-951d820da61d"
      },
      "source": [
        "features.plot(kind='density', subplots=True, layout=(4,2), sharex=False)\n",
        "plt.show()"
      ],
      "execution_count": 68,
      "outputs": [
        {
          "output_type": "display_data",
          "data": {
            "image/png": "[encoded data removed]",
            "text/plain": [
              "<Figure size 432x288 with 8 Axes>"
            ]
          },
          "metadata": {
            "tags": [],
            "needs_background": "light"
          }
        }
      ]
    },
    {
      "cell_type": "code",
      "metadata": {
        "id": "S2MGk0S8KSIn",
        "colab_type": "code",
        "outputId": "c45d9a20-e8e8-4446-a960-0a3e21fd4820",
        "colab": {
          "base_uri": "https://localhost:8080/",
          "height": 458
        }
      },
      "source": [
        "plt.figure(figsize=(500,400))\n",
        "features.plot(subplots=True)\n"
      ],
      "execution_count": 62,
      "outputs": [
        {
          "output_type": "execute_result",
          "data": {
            "text/plain": [
              "array([<matplotlib.axes._subplots.AxesSubplot object at 0x7fd491bb9240>,\n",
              "       <matplotlib.axes._subplots.AxesSubplot object at 0x7fd491be9e80>,\n",
              "       <matplotlib.axes._subplots.AxesSubplot object at 0x7fd491c75d68>,\n",
              "       <matplotlib.axes._subplots.AxesSubplot object at 0x7fd491b7f748>,\n",
              "       <matplotlib.axes._subplots.AxesSubplot object at 0x7fd491ea8400>,\n",
              "       <matplotlib.axes._subplots.AxesSubplot object at 0x7fd492002f98>,\n",
              "       <matplotlib.axes._subplots.AxesSubplot object at 0x7fd4926da278>,\n",
              "       <matplotlib.axes._subplots.AxesSubplot object at 0x7fd49219a6d8>],\n",
              "      dtype=object)"
            ]
          },
          "metadata": {
            "tags": []
          },
          "execution_count": 62
        },
        {
          "output_type": "display_data",
          "data": {
            "text/plain": [
              "<Figure size 36000x28800 with 0 Axes>"
            ]
          },
          "metadata": {
            "tags": []
          }
        },
        {
          "output_type": "display_data",
          "data": {
            "image/png": "[encoded data removed]",
            "text/plain": [
              "<Figure size 432x288 with 8 Axes>"
            ]
          },
          "metadata": {
            "tags": [],
            "needs_background": "light"
          }
        }
      ]
    },
    {
      "cell_type": "code",
      "metadata": {
        "id": "QD8VyMWJPlkL",
        "colab_type": "code",
        "colab": {}
      },
      "source": [
        "dataset = features.values\n",
        "data_mean = dataset[:TRAIN_SPLIT].mean(axis=0)\n",
        "data_std = dataset[:TRAIN_SPLIT].std(axis=0)"
      ],
      "execution_count": 0,
      "outputs": []
    },
    {
      "cell_type": "code",
      "metadata": {
        "id": "BUoYr6nWQOdF",
        "colab_type": "code",
        "colab": {}
      },
      "source": [
        "dataset = (dataset-data_mean)/data_std"
      ],
      "execution_count": 0,
      "outputs": []
    },
    {
      "cell_type": "code",
      "metadata": {
        "id": "FLsOASeqQLbL",
        "colab_type": "code",
        "colab": {}
      },
      "source": [
        "def multivariate_data(dataset, target, start_index, end_index, history_size,\n",
        "                      target_size, step, single_step=False):\n",
        "  data = []\n",
        "  labels = []\n",
        "\n",
        "  start_index = start_index + history_size\n",
        "  if end_index is None:\n",
        "    end_index = len(dataset) - target_size\n",
        "\n",
        "  for i in range(start_index, end_index):\n",
        "    indices = range(i-history_size, i, step)\n",
        "    data.append(dataset[indices])\n",
        "\n",
        "    if single_step:\n",
        "      labels.append(target[i+target_size])\n",
        "    else:\n",
        "      labels.append(target[i:i+target_size])\n",
        "\n",
        "  return np.array(data), np.array(labels)"
      ],
      "execution_count": 0,
      "outputs": []
    },
    {
      "cell_type": "code",
      "metadata": {
        "id": "ICOTr8_9TjVR",
        "colab_type": "code",
        "outputId": "2335855d-ec34-4c62-9ca3-c9a597422097",
        "colab": {
          "base_uri": "https://localhost:8080/",
          "height": 238
        }
      },
      "source": [
        "dataset"
      ],
      "execution_count": 0,
      "outputs": [
        {
          "output_type": "execute_result",
          "data": {
            "text/plain": [
              "array([[-2.81780899, -0.62101684, -0.91438602, ...,  1.76624722,\n",
              "        -2.66928203, -2.5858987 ],\n",
              "       [-2.58992407, -0.62972458, -0.92526708, ...,  2.1840565 ,\n",
              "        -2.62250726, -2.57545623],\n",
              "       [-2.76567055, -0.6313078 , -0.86328461, ..., -1.74369325,\n",
              "        -2.60450839, -2.57032088],\n",
              "       ...,\n",
              "       [ 3.75783408, -1.30101177, -1.64437485, ..., -0.03471293,\n",
              "         4.41541773,  4.2531778 ],\n",
              "       [ 3.77718924, -1.27330534, -1.64437485, ...,  0.15484688,\n",
              "         4.41630011,  4.2538734 ],\n",
              "       [ 3.58023051, -1.27330534, -1.64437485, ..., -1.9501103 ,\n",
              "         4.36947393,  4.23637195]])"
            ]
          },
          "metadata": {
            "tags": []
          },
          "execution_count": 58
        }
      ]
    },
    {
      "cell_type": "code",
      "metadata": {
        "id": "g1_j0jLlS5W4",
        "colab_type": "code",
        "colab": {}
      },
      "source": [
        "past_history = 1120\n",
        "future_target = 80\n",
        "STEP = 5\n",
        "\n",
        "x_train_single, y_train_single = multivariate_data(dataset, dataset[:, 1], 0,\n",
        "                                                   TRAIN_SPLIT, past_history,\n",
        "                                                   future_target, STEP,\n",
        "                                                   single_step=True)\n",
        "x_val_single, y_val_single = multivariate_data(dataset, dataset[:, 1],\n",
        "                                               TRAIN_SPLIT, None, past_history,\n",
        "                                               future_target, STEP,\n",
        "                                               single_step=True)"
      ],
      "execution_count": 0,
      "outputs": []
    },
    {
      "cell_type": "code",
      "metadata": {
        "id": "9OrhSaX4ZpkL",
        "colab_type": "code",
        "outputId": "20214b78-9829-4277-ceaf-901ce0f87806",
        "colab": {
          "base_uri": "https://localhost:8080/",
          "height": 180
        }
      },
      "source": [
        "print ('Single window of past history : {}'.format(x_train_multi[0].shape))\n",
        "print ('\\n Target temperature to predict : {}'.format(y_train_multi[0].shape))"
      ],
      "execution_count": 0,
      "outputs": [
        {
          "output_type": "error",
          "ename": "NameError",
          "evalue": "ignored",
          "traceback": [
            "\u001b[0;31m---------------------------------------------------------------------------\u001b[0m",
            "\u001b[0;31mNameError\u001b[0m                                 Traceback (most recent call last)",
            "\u001b[0;32m<ipython-input-60-7f98a6c6d518>\u001b[0m in \u001b[0;36m<module>\u001b[0;34m()\u001b[0m\n\u001b[0;32m----> 1\u001b[0;31m \u001b[0mprint\u001b[0m \u001b[0;34m(\u001b[0m\u001b[0;34m'Single window of past history : {}'\u001b[0m\u001b[0;34m.\u001b[0m\u001b[0mformat\u001b[0m\u001b[0;34m(\u001b[0m\u001b[0mx_train_multi\u001b[0m\u001b[0;34m[\u001b[0m\u001b[0;36m0\u001b[0m\u001b[0;34m]\u001b[0m\u001b[0;34m.\u001b[0m\u001b[0mshape\u001b[0m\u001b[0;34m)\u001b[0m\u001b[0;34m)\u001b[0m\u001b[0;34m\u001b[0m\u001b[0;34m\u001b[0m\u001b[0m\n\u001b[0m\u001b[1;32m      2\u001b[0m \u001b[0mprint\u001b[0m \u001b[0;34m(\u001b[0m\u001b[0;34m'\\n Target temperature to predict : {}'\u001b[0m\u001b[0;34m.\u001b[0m\u001b[0mformat\u001b[0m\u001b[0;34m(\u001b[0m\u001b[0my_train_multi\u001b[0m\u001b[0;34m[\u001b[0m\u001b[0;36m0\u001b[0m\u001b[0;34m]\u001b[0m\u001b[0;34m.\u001b[0m\u001b[0mshape\u001b[0m\u001b[0;34m)\u001b[0m\u001b[0;34m)\u001b[0m\u001b[0;34m\u001b[0m\u001b[0;34m\u001b[0m\u001b[0m\n",
            "\u001b[0;31mNameError\u001b[0m: name 'x_train_multi' is not defined"
          ]
        }
      ]
    },
    {
      "cell_type": "code",
      "metadata": {
        "id": "tFu4xFFCLWnJ",
        "colab_type": "code",
        "colab": {}
      },
      "source": [
        "#función para escoger parte de los datos\n",
        "def windowed_dataset(series, window_size, batch_size, shuffle_buffer):\n",
        "    series = tf.expand_dims(series, axis=-1)\n",
        "    ds = tf.data.Dataset.from_tensor_slices(series)\n",
        "    ds = ds.window(window_size + 1, shift=1, drop_remainder=True)\n",
        "    ds = ds.flat_map(lambda w: w.batch(window_size + 1))\n",
        "    ds = ds.shuffle(shuffle_buffer)\n",
        "    ds = ds.map(lambda w: (w[:-1], w[1:]))\n",
        "    return ds.batch(batch_size).prefetch(1)"
      ],
      "execution_count": 0,
      "outputs": []
    },
    {
      "cell_type": "code",
      "metadata": {
        "id": "O0MzmfEELWxh",
        "colab_type": "code",
        "colab": {}
      },
      "source": [
        "tf.keras.backend.clear_session()\n",
        "tf.random.set_seed(51)\n",
        "np.random.seed(51)\n",
        "shuffle_buffer_size = 1000\n",
        "window_size = 60\n",
        "batch_size = 100\n",
        "train_set = windowed_dataset(x_train_single, window_size, batch_size, shuffle_buffer_size)\n",
        "print(x_train_single.shape)"
      ],
      "execution_count": 0,
      "outputs": []
    },
    {
      "cell_type": "code",
      "metadata": {
        "id": "H_JTAAdShwt2",
        "colab_type": "code",
        "colab": {}
      },
      "source": [
        "tf.keras.backend.clear_session()\n",
        "model = tf.keras.models.Sequential([\n",
        "  tf.keras.layers.Conv1D(filters=60, kernel_size=3,\n",
        "                      strides=1, padding=\"causal\",\n",
        "                      activation=\"relu\",\n",
        "                      input_shape=[None, 1]),\n",
        "  tf.keras.layers.LSTM(60, return_sequences=True),\n",
        "  tf.keras.layers.LSTM(60, return_sequences=True),\n",
        "  tf.keras.layers.Dense(30, activation=\"relu\"),\n",
        "  tf.keras.layers.Dense(10, activation=\"relu\"),\n",
        "  tf.keras.layers.Dense(1),\n",
        "  tf.keras.layers.Lambda(lambda x: x * 400)\n",
        "])\n",
        "model.summary()"
      ],
      "execution_count": 0,
      "outputs": []
    },
    {
      "cell_type": "code",
      "metadata": {
        "id": "Eg0fV0ZQhzzT",
        "colab_type": "code",
        "colab": {}
      },
      "source": [
        "optimizer = tf.keras.optimizers.SGD(lr=1e-5, momentum=0.9)\n",
        "model.compile(loss=tf.keras.losses.Huber(),\n",
        "              optimizer=optimizer,\n",
        "              metrics=[\"mae\"])\n",
        "history = model.fit(train_set,epochs=50)"
      ],
      "execution_count": 0,
      "outputs": []
    }
  ]
}